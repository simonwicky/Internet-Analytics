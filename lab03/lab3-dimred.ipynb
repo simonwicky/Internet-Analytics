{
 "cells": [
  {
   "cell_type": "markdown",
   "metadata": {},
   "source": [
    "# Lab 3 — dimensionality reduction"
   ]
  },
  {
   "cell_type": "code",
   "execution_count": 1,
   "metadata": {
    "collapsed": true
   },
   "outputs": [],
   "source": [
    "import json\n",
    "import matplotlib.pyplot as plt\n",
    "import numpy as np\n",
    "\n",
    "from operator import itemgetter\n",
    "\n",
    "%matplotlib inline\n",
    "plt.style.use(\"ggplot\")"
   ]
  },
  {
   "cell_type": "code",
   "execution_count": 2,
   "metadata": {},
   "outputs": [
    {
     "name": "stdout",
     "output_type": "stream",
     "text": [
      "{\"tagId\": 1127, \"tag\": \"zombie\"}\r\n",
      "{\"tagId\": 1128, \"tag\": \"zombies\"}\r\n"
     ]
    }
   ],
   "source": [
    "!hdfs dfs -cat /ix/ml-20m/genome-tags.txt | tail -n 2"
   ]
  },
  {
   "cell_type": "code",
   "execution_count": 3,
   "metadata": {
    "collapsed": true
   },
   "outputs": [],
   "source": [
    "data = sc.textFile(\"/ix/ml-20m/genome-tags.txt\").map(json.loads)\n",
    "tag2name = dict(data.map(itemgetter(\"tagId\", \"tag\")).collect())"
   ]
  },
  {
   "cell_type": "markdown",
   "metadata": {},
   "source": [
    "# Exercice 3.1"
   ]
  },
  {
   "cell_type": "code",
   "execution_count": 4,
   "metadata": {
    "collapsed": true
   },
   "outputs": [],
   "source": [
    "data = sc.textFile(\"/ix/ml-20m/genome-scores.txt\").map(json.loads)"
   ]
  },
  {
   "cell_type": "code",
   "execution_count": 5,
   "metadata": {},
   "outputs": [],
   "source": [
    "movies = data.map(itemgetter(\"movieId\")).distinct()\n",
    "nbMovies = movies.count()\n",
    "#map to remember which movies is in which row in the matrix\n",
    "movies_index = dict(movies.zipWithIndex().collect())\n",
    "tags = data.map(itemgetter(\"tagId\")).distinct()\n",
    "nbTags = tags.count()"
   ]
  },
  {
   "cell_type": "code",
   "execution_count": 6,
   "metadata": {},
   "outputs": [],
   "source": [
    "#map of the form [(movieId,tagId),relevance]\n",
    "score_map = data.map(itemgetter(\"movieId\", \"tagId\", \"relevance\")).map(lambda x : ((x[0],x[1]),x[2]))"
   ]
  },
  {
   "cell_type": "code",
   "execution_count": 7,
   "metadata": {
    "collapsed": true
   },
   "outputs": [],
   "source": [
    "scores = score_map.collect()"
   ]
  },
  {
   "cell_type": "code",
   "execution_count": 8,
   "metadata": {},
   "outputs": [],
   "source": [
    "#filling the matrix with datas\n",
    "matrix = np.ndarray(shape=(nbMovies,nbTags))\n",
    "for score in scores:\n",
    "    movieID = score[0][0]\n",
    "    tagID = score[0][1]\n",
    "    matrix[(movies_index[movieID],tagID -1 )] = score[1]"
   ]
  },
  {
   "cell_type": "code",
   "execution_count": 9,
   "metadata": {},
   "outputs": [],
   "source": [
    "#computing variances for all columns\n",
    "var_array = np.var(matrix,axis = 0)\n",
    "total_variance = sum(var_array)\n",
    "sorted_var_array = np.sort(var_array)"
   ]
  },
  {
   "cell_type": "code",
   "execution_count": 13,
   "metadata": {},
   "outputs": [
    {
     "data": {
      "image/png": "[encoded data removed]",
      "text/plain": [
       "<matplotlib.figure.Figure at 0x7fe25a340748>"
      ]
     },
     "metadata": {},
     "output_type": "display_data"
    }
   ],
   "source": [
    "plt.plot(sorted_var_array, label='Test')\n",
    "plt.show()"
   ]
  },
  {
   "cell_type": "code",
   "execution_count": 14,
   "metadata": {
    "scrolled": true
   },
   "outputs": [
    {
     "data": {
      "image/png": "[encoded data removed]",
      "text/plain": [
       "<matplotlib.figure.Figure at 0x7fe312bdcda0>"
      ]
     },
     "metadata": {},
     "output_type": "display_data"
    }
   ],
   "source": [
    "centered_matrix = matrix - np.mean(matrix,axis = 0)\n",
    "covariance_matrix = np.cov(centered_matrix, rowvar=False, bias = True)\n",
    "values,vectors = np.linalg.eigh(covariance_matrix)\n",
    "plt.plot(values)\n",
    "plt.yscale('log')\n",
    "plt.xscale('log')\n",
    "plt.show()"
   ]
  },
  {
   "cell_type": "code",
   "execution_count": 12,
   "metadata": {
    "scrolled": true
   },
   "outputs": [
    {
     "name": "stdout",
     "output_type": "stream",
     "text": [
      "Principal component 1 captures 16.0998401824% of the total variance\n",
      "Principal component 2 captures 7.14231474524% of the total variance\n",
      "Principal component 3 captures 5.82421785317% of the total variance\n",
      "Principal component 4 captures 3.87194266108% of the total variance\n",
      "Principal component 5 captures 3.42494118574% of the total variance\n",
      "Principal component 6 captures 2.7735405351% of the total variance\n",
      "Principal component 7 captures 2.69809092675% of the total variance\n",
      "Principal component 8 captures 2.3226015567% of the total variance\n",
      "Principal component 9 captures 1.99696401373% of the total variance\n",
      "Principal component 10 captures 1.68924810457% of the total variance\n",
      "Principal component 11 captures 1.52504419883% of the total variance\n",
      "Principal component 12 captures 1.36710573857% of the total variance\n",
      "Principal component 13 captures 1.30008923777% of the total variance\n",
      "Principal component 14 captures 1.21490078948% of the total variance\n",
      "Principal component 15 captures 1.12693104698% of the total variance\n",
      "Principal component 16 captures 1.03714979415% of the total variance\n",
      "Principal component 17 captures 0.993799583319% of the total variance\n",
      "Principal component 18 captures 0.892358711869% of the total variance\n",
      "Principal component 19 captures 0.803005517318% of the total variance\n",
      "Principal component 20 captures 0.76868371559% of the total variance\n",
      "Principal component 21 captures 0.705753286336% of the total variance\n",
      "Principal component 22 captures 0.65809553622% of the total variance\n",
      "Principal component 23 captures 0.639996547893% of the total variance\n",
      "Principal component 24 captures 0.585706500495% of the total variance\n",
      "Principal component 25 captures 0.551129453524% of the total variance\n",
      "Principal component 26 captures 0.51541056219% of the total variance\n",
      "Principal component 27 captures 0.487858533381% of the total variance\n",
      "Principal component 28 captures 0.47324405455% of the total variance\n",
      "Principal component 29 captures 0.456383376969% of the total variance\n",
      "Principal component 30 captures 0.437872134692% of the total variance\n",
      "Principal component 31 captures 0.417340310778% of the total variance\n",
      "Principal component 32 captures 0.398021676995% of the total variance\n",
      "Principal component 33 captures 0.389747828904% of the total variance\n",
      "Principal component 34 captures 0.363363630484% of the total variance\n",
      "Principal component 35 captures 0.358144465398% of the total variance\n",
      "Principal component 36 captures 0.340612908487% of the total variance\n",
      "Principal component 37 captures 0.333435081283% of the total variance\n",
      "37 components capture 66.9848859869% of the total variance\n"
     ]
    }
   ],
   "source": [
    "variance_PCS = 0;\n",
    "index = len(vectors)\n",
    "while index > 0 and variance_PCS < 2 / 3:\n",
    "    index -= 1\n",
    "    PC = np.matmul(centered_matrix,vectors[:,index])\n",
    "    partial_var = np.var(PC) / total_variance\n",
    "    variance_PCS += partial_var\n",
    "    print(\"Principal component \" + str(len(vectors) - index) + \" captures \" + str(partial_var * 100) +\"% of the total variance\")\n",
    "    \n",
    "print(str(len(vectors)-index) + \" components capture \" + str(variance_PCS * 100) + \"% of the total variance\")"
   ]
  },
  {
   "cell_type": "markdown",
   "metadata": {},
   "source": [
    "As seen above, 37 components capture 66.98% of the total variance"
   ]
  },
  {
   "cell_type": "code",
   "execution_count": 74,
   "metadata": {
    "collapsed": true
   },
   "outputs": [],
   "source": [
    "def print_max_min_PC(PC):\n",
    "    PC_index = sorted([(x,index[0]) for index, x in np.ndenumerate(PC)])\n",
    "    #remember : tagId n is at index n-1\n",
    "    tag_minimum = [pair[1] + 1 for pair in PC_index[:10]]\n",
    "    tag_maximum = [pair[1] + 1 for pair in PC_index[-10:]][::-1]\n",
    "    print(\"Maximum: \")\n",
    "    for tag in tag_maximum:\n",
    "        print(tag2name[tag])\n",
    "\n",
    "    print()    \n",
    "    print(\"Minimum\")\n",
    "    for tag in tag_minimum:\n",
    "        print(tag2name[tag])\n",
    "    return tag_minimum, tag_maximum"
   ]
  },
  {
   "cell_type": "markdown",
   "metadata": {},
   "source": [
    "### First principal component"
   ]
  },
  {
   "cell_type": "code",
   "execution_count": 75,
   "metadata": {
    "scrolled": false
   },
   "outputs": [
    {
     "name": "stdout",
     "output_type": "stream",
     "text": [
      "Maximum: \n",
      "talky\n",
      "social commentary\n",
      "criterion\n",
      "imdb top 250\n",
      "great acting\n",
      "drama\n",
      "oscar (best directing)\n",
      "bleak\n",
      "dramatic\n",
      "cinematography\n",
      "\n",
      "Minimum\n",
      "predictable\n",
      "so bad it's funny\n",
      "bad plot\n",
      "silly\n",
      "silly fun\n",
      "horrible\n",
      "franchise\n",
      "lame\n",
      "big budget\n",
      "comedy\n"
     ]
    }
   ],
   "source": [
    "PC1 = vectors[:,-1]\n",
    "mini_PC1, maxi_PC1 = print_max_min_PC(PC1)"
   ]
  },
  {
   "cell_type": "markdown",
   "metadata": {},
   "source": [
    "### Second principal component"
   ]
  },
  {
   "cell_type": "code",
   "execution_count": 76,
   "metadata": {},
   "outputs": [
    {
     "name": "stdout",
     "output_type": "stream",
     "text": [
      "Maximum: \n",
      "intimate\n",
      "relationships\n",
      "criterion\n",
      "melancholic\n",
      "loneliness\n",
      "golden palm\n",
      "meditative\n",
      "art house\n",
      "melancholy\n",
      "sexual\n",
      "\n",
      "Minimum\n",
      "action\n",
      "special effects\n",
      "big budget\n",
      "chase\n",
      "fast paced\n",
      "suspense\n",
      "good action\n",
      "plot\n",
      "pg-13\n",
      "action packed\n"
     ]
    }
   ],
   "source": [
    "PC2 = vectors[:,-2]\n",
    "mini_PC2, maxi_PC2 = print_max_min_PC(PC2)"
   ]
  },
  {
   "cell_type": "markdown",
   "metadata": {},
   "source": [
    "### Third principal component"
   ]
  },
  {
   "cell_type": "code",
   "execution_count": 78,
   "metadata": {},
   "outputs": [
    {
     "name": "stdout",
     "output_type": "stream",
     "text": [
      "Maximum: \n",
      "feel-good\n",
      "sentimental\n",
      "love story\n",
      "heartwarming\n",
      "touching\n",
      "romantic\n",
      "sweet\n",
      "courage\n",
      "girlie movie\n",
      "feel good movie\n",
      "\n",
      "Minimum\n",
      "horror\n",
      "weird\n",
      "creepy\n",
      "splatter\n",
      "stylish\n",
      "cult classic\n",
      "disturbing\n",
      "violence\n",
      "cult film\n",
      "dark\n"
     ]
    }
   ],
   "source": [
    "PC3 = vectors[:,-3]\n",
    "mini_PC3, maxi_PC3 = print_max_min_PC(PC3)"
   ]
  },
  {
   "cell_type": "markdown",
   "metadata": {},
   "source": [
    "### Fourth principal component"
   ]
  },
  {
   "cell_type": "code",
   "execution_count": 79,
   "metadata": {},
   "outputs": [
    {
     "name": "stdout",
     "output_type": "stream",
     "text": [
      "Maximum: \n",
      "visual\n",
      "visually stunning\n",
      "imagination\n",
      "sci-fi\n",
      "scifi\n",
      "visually appealing\n",
      "science fiction\n",
      "sci fi\n",
      "special effects\n",
      "beautifully filmed\n",
      "\n",
      "Minimum\n",
      "corruption\n",
      "crime\n",
      "murder\n",
      "police investigation\n",
      "thriller\n",
      "suspense\n",
      "violence\n",
      "police corruption\n",
      "gangsters\n",
      "manipulation\n"
     ]
    }
   ],
   "source": [
    "PC4 = vectors[:,-4]\n",
    "mini_PC4, maxi_PC4 = print_max_min_PC(PC4)"
   ]
  },
  {
   "cell_type": "markdown",
   "metadata": {},
   "source": [
    "### Fifth principal component"
   ]
  },
  {
   "cell_type": "code",
   "execution_count": 80,
   "metadata": {},
   "outputs": [
    {
     "name": "stdout",
     "output_type": "stream",
     "text": [
      "Maximum: \n",
      "thriller\n",
      "conspiracy\n",
      "secrets\n",
      "suspenseful\n",
      "tense\n",
      "mystery\n",
      "suspense\n",
      "investigation\n",
      "murder mystery\n",
      "betrayal\n",
      "\n",
      "Minimum\n",
      "comedy\n",
      "funny\n",
      "hilarious\n",
      "goofy\n",
      "humorous\n",
      "humor\n",
      "very funny\n",
      "cult classic\n",
      "quotable\n",
      "funny as hell\n"
     ]
    }
   ],
   "source": [
    "PC5 = vectors[:,-5]\n",
    "mini_PC5, maxi_PC5 = print_max_min_PC(PC5)"
   ]
  },
  {
   "cell_type": "code",
   "execution_count": null,
   "metadata": {
    "collapsed": true
   },
   "outputs": [],
   "source": []
  }
 ],
 "metadata": {
  "anaconda-cloud": {},
  "kernelspec": {
   "display_name": "Python 3",
   "language": "python",
   "name": "python3"
  },
  "language_info": {
   "codemirror_mode": {
    "name": "ipython",
    "version": 3
   },
   "file_extension": ".py",
   "mimetype": "text/x-python",
   "name": "python",
   "nbconvert_exporter": "python",
   "pygments_lexer": "ipython3",
   "version": "3.6.3"
  }
 },
 "nbformat": 4,
 "nbformat_minor": 1
}
