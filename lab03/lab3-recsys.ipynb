{
 "cells": [
  {
   "cell_type": "markdown",
   "metadata": {},
   "source": [
    "# Lab 3 — recommender systems"
   ]
  },
  {
   "cell_type": "code",
   "execution_count": 3,
   "metadata": {
    "collapsed": true
   },
   "outputs": [],
   "source": [
    "import json\n",
    "import matplotlib.pyplot as plt\n",
    "import numpy as np\n",
    "\n",
    "%matplotlib inline\n",
    "plt.style.use(\"ggplot\")"
   ]
  },
  {
   "cell_type": "markdown",
   "metadata": {},
   "source": [
    "What does the data look like?"
   ]
  },
  {
   "cell_type": "code",
   "execution_count": 4,
   "metadata": {},
   "outputs": [
    {
     "name": "stdout",
     "output_type": "stream",
     "text": [
      "{\"movieId\": 70286, \"userId\": 138493, \"timestamp\": 1258126944, \"rating\": 5.0}\r\n",
      "{\"movieId\": 71619, \"userId\": 138493, \"timestamp\": 1255811136, \"rating\": 2.5}\r\n"
     ]
    }
   ],
   "source": [
    "!hdfs dfs -cat /ix/ml-20m/ratings.txt | tail -n 2"
   ]
  },
  {
   "cell_type": "code",
   "execution_count": 5,
   "metadata": {
    "collapsed": true
   },
   "outputs": [],
   "source": [
    "data = sc.textFile(\"/ix/ml-20m/ratings.txt\").map(json.loads)"
   ]
  },
  {
   "cell_type": "markdown",
   "metadata": {},
   "source": [
    "## Exercise 3.4 Basic statistics :"
   ]
  },
  {
   "cell_type": "markdown",
   "metadata": {},
   "source": [
    "Users :"
   ]
  },
  {
   "cell_type": "code",
   "execution_count": 6,
   "metadata": {
    "collapsed": true
   },
   "outputs": [],
   "source": [
    "users_ratings = data.map(lambda x: (x['userId'], x['rating']))\n",
    "users_counts = users_ratings.countByKey().items()"
   ]
  },
  {
   "cell_type": "markdown",
   "metadata": {},
   "source": [
    "Movies"
   ]
  },
  {
   "cell_type": "code",
   "execution_count": 7,
   "metadata": {
    "collapsed": true
   },
   "outputs": [],
   "source": [
    "movies_ratings = data.map(lambda x: (x['movieId'], x['rating']))\n",
    "movies_counts = movies_ratings.countByKey().items()"
   ]
  },
  {
   "cell_type": "markdown",
   "metadata": {},
   "source": [
    "Now let's plot :"
   ]
  },
  {
   "cell_type": "code",
   "execution_count": 8,
   "metadata": {},
   "outputs": [
    {
     "data": {
      "image/png": "[encoded data removed]",
      "text/plain": [
       "<matplotlib.figure.Figure at 0x7f11ec621518>"
      ]
     },
     "metadata": {},
     "output_type": "display_data"
    }
   ],
   "source": [
    "cumulative_users = np.cumsum(sorted(list(users_counts)))\n",
    "cumulative_movies = np.cumsum(sorted(list(movies_counts)))\n",
    "\n",
    "fig, (axe1, axe2) = plt.subplots(ncols=2, figsize=(15, 5))\n",
    "axe1.plot(cumulative_users)\n",
    "axe1.set_title(\"Users\")\n",
    "axe1.set_xlabel('User')\n",
    "axe1.set_ylabel('Ratings')\n",
    "\n",
    "axe2.plot(cumulative_movies)\n",
    "axe2.set_title(\"Movies\")\n",
    "axe2.set_xlabel('Movie')\n",
    "axe2.set_ylabel('Ratings')\n",
    "\n",
    "axe2.loglog()\n",
    "axe1.loglog()\n",
    "\n",
    "plt.show()"
   ]
  },
  {
   "cell_type": "markdown",
   "metadata": {},
   "source": [
    "Some users have a lot of ratings as well as movies and users having little number of ratings. The distributions of the ratings isn't balanced uniformly."
   ]
  },
  {
   "cell_type": "markdown",
   "metadata": {},
   "source": [
    "## Exercise 3.5 Partitioning the dataset :"
   ]
  },
  {
   "cell_type": "code",
   "execution_count": 9,
   "metadata": {
    "collapsed": true
   },
   "outputs": [],
   "source": [
    "personnal_ratings = list() ## add the personnal ranking somehow\n",
    "with open(\"my-ratings.txt\") as f :\n",
    "    for line in f:\n",
    "        personnal_ratings.append(json.loads(line.strip()))\n",
    "\n",
    "newData = data.union(sc.parallelize(personnal_ratings))\n",
    "\n",
    "training = newData.filter(lambda x: (x['timestamp'] % 10) > 1).map(lambda x: (x['userId'], x['movieId'], x['rating']))\n",
    "test = newData.filter(lambda x: (x['timestamp'] % 10) <= 1).map(lambda x: (x['userId'], x['movieId'], x['rating']))"
   ]
  },
  {
   "cell_type": "markdown",
   "metadata": {},
   "source": [
    "### Baseline recommender system"
   ]
  },
  {
   "cell_type": "markdown",
   "metadata": {},
   "source": [
    "#### Baseline model"
   ]
  },
  {
   "cell_type": "code",
   "execution_count": 10,
   "metadata": {
    "collapsed": true
   },
   "outputs": [],
   "source": [
    "mu = training.map(lambda x: x[2]).mean()"
   ]
  },
  {
   "cell_type": "code",
   "execution_count": 11,
   "metadata": {},
   "outputs": [
    {
     "data": {
      "text/plain": [
       "3.5255073364131326"
      ]
     },
     "execution_count": 11,
     "metadata": {},
     "output_type": "execute_result"
    }
   ],
   "source": [
    "mu"
   ]
  },
  {
   "cell_type": "code",
   "execution_count": 12,
   "metadata": {
    "collapsed": true
   },
   "outputs": [],
   "source": [
    "## find how to get all_user_bias and all_item_bias\n",
    "all_user_mean = training.map(lambda x: (x[0], x[2])).aggregateByKey((0,0), lambda a,b: (a[0] + b,a[1] + 1), lambda a,b: (a[0] + b[0], a[1] + b[1])).mapValues(lambda v: v[0]/v[1])\n",
    "all_user_bias = all_user_mean.map(lambda x: (x[0], x[1]-mu))"
   ]
  },
  {
   "cell_type": "code",
   "execution_count": 13,
   "metadata": {},
   "outputs": [
    {
     "data": {
      "text/plain": [
       "0.10160805230563542"
      ]
     },
     "execution_count": 13,
     "metadata": {},
     "output_type": "execute_result"
    }
   ],
   "source": [
    "mean_user_bias = all_user_bias.values().mean()\n",
    "mean_user_bias"
   ]
  },
  {
   "cell_type": "code",
   "execution_count": 20,
   "metadata": {},
   "outputs": [],
   "source": [
    "collected_all_user_bias = all_user_bias.collectAsMap()"
   ]
  },
  {
   "cell_type": "code",
   "execution_count": 21,
   "metadata": {},
   "outputs": [],
   "source": [
    "all_item_bias = training.map(lambda x: (x[1], x[2] - collected_all_user_bias[x[0]] - mu)).aggregateByKey((0,0), lambda a,b: (a[0] + b,a[1] + 1), lambda a,b: (a[0] + b[0], a[1] + b[1])).mapValues(lambda v: v[0]/v[1])"
   ]
  },
  {
   "cell_type": "code",
   "execution_count": 22,
   "metadata": {},
   "outputs": [
    {
     "data": {
      "text/plain": [
       "-0.20496287461285176"
      ]
     },
     "execution_count": 22,
     "metadata": {},
     "output_type": "execute_result"
    }
   ],
   "source": [
    "mean_item_bias = all_item_bias.values().mean()\n",
    "mean_item_bias"
   ]
  },
  {
   "cell_type": "code",
   "execution_count": 23,
   "metadata": {
    "collapsed": true
   },
   "outputs": [],
   "source": [
    "def user_bias(userId):\n",
    "    if userId in all_user_bias.keys():\n",
    "        return all_user_bias[userId]\n",
    "    \n",
    "    return mean_user_bias\n",
    "\n",
    "def item_bias(movieId):\n",
    "    if movieId in all_item_bias.keys():\n",
    "        return all_item_bias[movieId]\n",
    "    \n",
    "    return mean_item_bias"
   ]
  },
  {
   "cell_type": "code",
   "execution_count": 24,
   "metadata": {
    "collapsed": true
   },
   "outputs": [],
   "source": [
    "def predict(user, movie):\n",
    "    return ((user, movie), mu + user_bias(user) + item_bias(movie))"
   ]
  },
  {
   "cell_type": "code",
   "execution_count": 25,
   "metadata": {
    "collapsed": true
   },
   "outputs": [],
   "source": [
    "def predict_all(users_movies):\n",
    "    return users_movies.map(lambda x: predict(x[0], x[1]))\n"
   ]
  },
  {
   "cell_type": "markdown",
   "metadata": {},
   "source": [
    "#### Evaluation"
   ]
  },
  {
   "cell_type": "code",
   "execution_count": 26,
   "metadata": {
    "collapsed": true
   },
   "outputs": [],
   "source": [
    "def errorFct(rdd):\n",
    "    ranks_predictions = test.map(lambda x: ((x[0], x[1]), x[2])).join(rdd)\n",
    "    \n",
    "    errors = ranks_predictions.map(lambda t: (t[0][0], (t[1][0] - t[1][1]) ** 2))\n",
    "    \n",
    "    error_mean = errors.aggregateByKey((0,0), lambda a,b: (a[0] + b,a[1] + 1), lambda a,b: (a[0] + b[0], a[1] + b[1])).mapValues(lambda v: v[0]/v[1])\n",
    "    \n",
    "    err = error_mean.map(lambda u: np.sqrt(u[1])).mean()\n",
    "    \n",
    "    return err"
   ]
  },
  {
   "cell_type": "markdown",
   "metadata": {},
   "source": [
    "### Matrix-factorization model"
   ]
  },
  {
   "cell_type": "code",
   "execution_count": 27,
   "metadata": {
    "collapsed": true
   },
   "outputs": [],
   "source": [
    "from pyspark.mllib.recommendation import ALS"
   ]
  },
  {
   "cell_type": "markdown",
   "metadata": {},
   "source": [
    "Lower rank implies simpler model, thus a faster training. Higher rank increases the amount of parameters used in the learning process, thus the probability of overfitting increases with the rank."
   ]
  },
  {
   "cell_type": "code",
   "execution_count": 28,
   "metadata": {
    "collapsed": true
   },
   "outputs": [],
   "source": [
    "## Choose the rank ? (Shall we use 10 ?)\n",
    "rank = 5\n",
    "predictions_param = test.map(lambda x: (x[0],x[1]))"
   ]
  },
  {
   "cell_type": "markdown",
   "metadata": {},
   "source": [
    "#### Regularization"
   ]
  },
  {
   "cell_type": "code",
   "execution_count": 33,
   "metadata": {},
   "outputs": [
    {
     "name": "stdout",
     "output_type": "stream",
     "text": [
      "Error with lambda=10^-4:  0.834783382938\n"
     ]
    }
   ],
   "source": [
    "param = 10e-4\n",
    "model1 = ALS.train(training, rank, lambda_=param)\n",
    "prediction = model1.predictAll(predictions_param).map(lambda x: ((x[0], x[1]), x[2]))\n",
    "\n",
    "\n",
    "error1 = errorFct(prediction)\n",
    "print('Error with lambda=10^-4: ', error)"
   ]
  },
  {
   "cell_type": "code",
   "execution_count": 30,
   "metadata": {},
   "outputs": [
    {
     "name": "stdout",
     "output_type": "stream",
     "text": [
      "Error with lambda=10.0:  3.74687983336\n"
     ]
    }
   ],
   "source": [
    "param2 = 10.0\n",
    "model2 = ALS.train(training, rank, lambda_=param2)\n",
    "prediction2 = model2.predictAll(predictions_param).map(lambda x: ((x[0], x[1]), x[2]))\n",
    "\n",
    "\n",
    "error2 = errorFct(prediction2)\n",
    "print('Error with lambda=10.0: ', error2)"
   ]
  },
  {
   "cell_type": "code",
   "execution_count": 31,
   "metadata": {},
   "outputs": [],
   "source": [
    "## Find optimal lambda below\n",
    "## optimal_lambda = VALUE\n",
    "optimal_lambda = 0.1"
   ]
  },
  {
   "cell_type": "markdown",
   "metadata": {},
   "source": [
    "#### Recommendation"
   ]
  },
  {
   "cell_type": "code",
   "execution_count": 41,
   "metadata": {
    "collapsed": true
   },
   "outputs": [],
   "source": [
    "from operator import itemgetter"
   ]
  },
  {
   "cell_type": "code",
   "execution_count": 42,
   "metadata": {},
   "outputs": [],
   "source": [
    "model = ALS.train(newData.map(lambda x: (x['userId'], x['movieId'], x['rating'])), rank=10, lambda_=optimal_lambda)\n",
    "\n",
    "movies = sc.textFile(\"/ix/ml-20m/movies.txt\").map(json.loads)\n",
    "ids_to_title = movies.map(itemgetter(\"movieId\", \"title\")).collectAsMap()"
   ]
  },
  {
   "cell_type": "code",
   "execution_count": 45,
   "metadata": {
    "collapsed": true
   },
   "outputs": [],
   "source": [
    "## Do the recommendation for both users\n",
    "def user_recommendation(userId, top_n):\n",
    "    recomendations = model.recommendProducts(userId, top_n)\n",
    "    movie_ids = [rating[1] for rating in recomendations]\n",
    "    movies = [ids_to_title[movie_id] for movie_id in movie_ids]\n",
    "    return movies"
   ]
  },
  {
   "cell_type": "code",
   "execution_count": 46,
   "metadata": {},
   "outputs": [
    {
     "data": {
      "text/plain": [
       "['Marihuana (1936)',\n",
       " 'No Distance Left to Run (2010)',\n",
       " 'Bill Hicks: Sane Man (1989)',\n",
       " 'Moth, The (Cma) (1980)',\n",
       " 'My Brother Tom (2001)',\n",
       " 'Flight of the Conchords: A Texan Odyssey (2006)',\n",
       " \"It's Love I'm After (1937)\",\n",
       " 'Plastic Bag (2009)',\n",
       " 'Otakus in Love (2004)',\n",
       " 'I Belong (Som du ser meg) (2012)']"
      ]
     },
     "execution_count": 46,
     "metadata": {},
     "output_type": "execute_result"
    }
   ],
   "source": [
    "first_user = 123\n",
    "user_recommendation(first_user, 10)"
   ]
  },
  {
   "cell_type": "code",
   "execution_count": 47,
   "metadata": {},
   "outputs": [
    {
     "data": {
      "text/plain": [
       "['Marihuana (1936)',\n",
       " 'No Distance Left to Run (2010)',\n",
       " 'Drained (O cheiro do Ralo) (2006)',\n",
       " 'Crazy Stone (Fengkuang de shitou) (2006)',\n",
       " 'Chameleon (Kaméleon) (2008)',\n",
       " 'Silver Stallion (Silver Brumpy, The) (1993)',\n",
       " 'Mutant Aliens (2001)',\n",
       " \"Nicky's Family (2011)\",\n",
       " 'Code Name Coq Rouge (1989)',\n",
       " 'Afstiros katallilo (2008)']"
      ]
     },
     "execution_count": 47,
     "metadata": {},
     "output_type": "execute_result"
    }
   ],
   "source": [
    "second_user = 138494\n",
    "user_recommendation(second_user, 10)"
   ]
  },
  {
   "cell_type": "markdown",
   "metadata": {},
   "source": [
    "#### Visualisation"
   ]
  },
  {
   "cell_type": "code",
   "execution_count": null,
   "metadata": {
    "collapsed": true
   },
   "outputs": [],
   "source": [
    "new_model = ALS.train(training, rank=2, lambda_=optimal_lambda)\n",
    "selected_movies = sorted(pickle.load(open('selected-movies.pickle', 'rb'), encoding='utf-8'))"
   ]
  },
  {
   "cell_type": "code",
   "execution_count": null,
   "metadata": {
    "collapsed": true
   },
   "outputs": [],
   "source": [
    "• Create an interactive plot that embeds the movies along the 2 directions defined by the\n",
    "factorization.\n",
    "• Describe what you observe. Can you give a name to the dimensions? Do you recognize\n",
    "cluster of movies that are alike?"
   ]
  }
 ],
 "metadata": {
  "anaconda-cloud": {},
  "kernelspec": {
   "display_name": "Python 3",
   "language": "python",
   "name": "python3"
  },
  "language_info": {
   "codemirror_mode": {
    "name": "ipython",
    "version": 3
   },
   "file_extension": ".py",
   "mimetype": "text/x-python",
   "name": "python",
   "nbconvert_exporter": "python",
   "pygments_lexer": "ipython3",
   "version": "3.7.1"
  }
 },
 "nbformat": 4,
 "nbformat_minor": 1
}
