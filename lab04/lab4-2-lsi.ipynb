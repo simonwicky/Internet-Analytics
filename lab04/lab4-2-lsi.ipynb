{
 "cells": [
  {
   "cell_type": "markdown",
   "metadata": {},
   "source": [
    "# Text 2: Latent semantic indexing\n",
    "**Internet Analytics - Lab 4**\n",
    "\n",
    "---\n",
    "\n",
    "**Group:** K\n",
    "\n",
    "**Names:**\n",
    "\n",
    "* Xavier Jeanmonod\n",
    "* Adrian Baudat\n",
    "* Simon Wicky\n",
    "\n",
    "---\n",
    "\n",
    "#### Instructions\n",
    "\n",
    "*This is a template for part 2 of the lab. Clearly write your answers, comments and interpretations in Markodown cells. Don't forget that you can add $\\LaTeX$ equations in these cells. Feel free to add or remove any cell.*\n",
    "\n",
    "*Please properly comment your code. Code readability will be considered for grading. To avoid long cells of codes in the notebook, you can also embed long python functions and classes in a separate module. Don’t forget to hand in your module if that is the case. In multiple exercises, you are required to come up with your own method to solve various problems. Be creative and clearly motivate and explain your methods. Creativity and clarity will be considered for grading.*"
   ]
  },
  {
   "cell_type": "code",
   "execution_count": 1,
   "metadata": {},
   "outputs": [],
   "source": [
    "import pickle\n",
    "import numpy as np\n",
    "from scipy.sparse.linalg import svds\n",
    "from utils import load_json, load_pkl\n",
    "courses = load_json('data/courses.txt')\n",
    "stopwords = load_pkl('data/stopwords.pkl')\n",
    "all_words = load_pkl('all_words.pkl')\n",
    "course2index = load_pkl('course2index.pkl')\n",
    "word2index = load_pkl('word2index.pkl')"
   ]
  },
  {
   "cell_type": "markdown",
   "metadata": {},
   "source": [
    "## Exercise 4.4: Latent semantic indexing"
   ]
  },
  {
   "cell_type": "code",
   "execution_count": 2,
   "metadata": {},
   "outputs": [],
   "source": [
    "%store -r"
   ]
  },
  {
   "cell_type": "code",
   "execution_count": 3,
   "metadata": {},
   "outputs": [
    {
     "data": {
      "text/plain": [
       "array([[0.        , 0.        , 0.        , ..., 0.        , 0.        ,\n",
       "        0.        ],\n",
       "       [0.        , 0.46401394, 0.        , ..., 0.        , 0.        ,\n",
       "        0.        ],\n",
       "       [0.        , 0.        , 0.        , ..., 0.        , 0.        ,\n",
       "        0.        ],\n",
       "       ...,\n",
       "       [0.        , 0.        , 0.        , ..., 0.        , 0.        ,\n",
       "        0.        ],\n",
       "       [0.        , 0.        , 0.        , ..., 0.        , 0.        ,\n",
       "        0.        ],\n",
       "       [0.        , 0.        , 0.        , ..., 0.        , 0.        ,\n",
       "        0.        ]])"
      ]
     },
     "execution_count": 3,
     "metadata": {},
     "output_type": "execute_result"
    }
   ],
   "source": [
    "matrix"
   ]
  },
  {
   "cell_type": "code",
   "execution_count": 49,
   "metadata": {},
   "outputs": [
    {
     "data": {
      "text/plain": [
       "(854, 2088)"
      ]
     },
     "execution_count": 49,
     "metadata": {},
     "output_type": "execute_result"
    }
   ],
   "source": [
    "matrix.shape"
   ]
  },
  {
   "cell_type": "code",
   "execution_count": 60,
   "metadata": {},
   "outputs": [],
   "source": [
    "k = 300\n",
    "U, S, V_t = svds(matrix,k)"
   ]
  },
  {
   "cell_type": "markdown",
   "metadata": {},
   "source": [
    "#### U :"
   ]
  },
  {
   "cell_type": "code",
   "execution_count": 61,
   "metadata": {},
   "outputs": [
    {
     "name": "stdout",
     "output_type": "stream",
     "text": [
      "(854, 300)\n"
     ]
    },
    {
     "data": {
      "text/plain": [
       "array([[-5.35456348e-02, -8.16702956e-04, -2.47378324e-02, ...,\n",
       "         6.78886542e-03, -1.18039680e-02, -2.00308552e-02],\n",
       "       [-1.13462061e-02, -3.31666387e-02, -1.05037204e-02, ...,\n",
       "        -7.35668577e-03, -1.00297396e-02, -1.58853730e-02],\n",
       "       [ 5.00459598e-02,  5.47267600e-02, -5.37818466e-02, ...,\n",
       "         3.39894021e-02, -1.48901372e-02, -3.40809218e-02],\n",
       "       ...,\n",
       "       [ 3.76463192e-03,  2.32400307e-02,  1.35407911e-02, ...,\n",
       "         1.48076862e-01, -3.25653381e-02, -5.09026304e-02],\n",
       "       [ 1.96057837e-02,  1.82307035e-02,  8.63681070e-03, ...,\n",
       "        -7.18049937e-02, -1.40234591e-02, -2.23131307e-02],\n",
       "       [-2.08457052e-03, -8.89393867e-05, -4.14205207e-02, ...,\n",
       "         3.68519900e-02, -3.66485676e-02, -3.85971342e-02]])"
      ]
     },
     "execution_count": 61,
     "metadata": {},
     "output_type": "execute_result"
    }
   ],
   "source": [
    "print(U.shape)\n",
    "U"
   ]
  },
  {
   "cell_type": "markdown",
   "metadata": {},
   "source": [
    "U is mapping the rows, in this case terms, to topics. Each value in the row represent the force of the relation between term and topic."
   ]
  },
  {
   "cell_type": "markdown",
   "metadata": {},
   "source": [
    "#### V_t :"
   ]
  },
  {
   "cell_type": "code",
   "execution_count": 62,
   "metadata": {},
   "outputs": [
    {
     "name": "stdout",
     "output_type": "stream",
     "text": [
      "(300, 2088)\n"
     ]
    },
    {
     "data": {
      "text/plain": [
       "array([[-0.00500376,  0.00164216, -0.01067023, ...,  0.03164159,\n",
       "         0.00160419, -0.01626721],\n",
       "       [-0.01693939, -0.00936552,  0.02908367, ..., -0.01430534,\n",
       "         0.0050507 ,  0.00552539],\n",
       "       [-0.00404197,  0.0059113 ,  0.00096147, ...,  0.01470767,\n",
       "        -0.00543182,  0.0342661 ],\n",
       "       ...,\n",
       "       [ 0.00031406,  0.00294958,  0.00400119, ..., -0.00345994,\n",
       "         0.00106087, -0.00713993],\n",
       "       [-0.00761473, -0.00391726, -0.00314732, ..., -0.00434616,\n",
       "        -0.00200593, -0.00714724],\n",
       "       [-0.00889954, -0.00640221, -0.0044029 , ..., -0.00826982,\n",
       "        -0.00252748, -0.00718987]])"
      ]
     },
     "execution_count": 62,
     "metadata": {},
     "output_type": "execute_result"
    }
   ],
   "source": [
    "print(V_t.shape)\n",
    "V_t"
   ]
  },
  {
   "cell_type": "markdown",
   "metadata": {},
   "source": [
    "Vt is mapping the column(courses) to the topics. Each value in the column represent the force of the relation between course and topic."
   ]
  },
  {
   "cell_type": "markdown",
   "metadata": {},
   "source": [
    "#### S :"
   ]
  },
  {
   "cell_type": "code",
   "execution_count": 63,
   "metadata": {},
   "outputs": [
    {
     "name": "stdout",
     "output_type": "stream",
     "text": [
      "(300,)\n"
     ]
    },
    {
     "data": {
      "text/plain": [
       "array([10.61783528, 10.62073574, 10.62915801, 10.66096399, 10.69496227,\n",
       "       10.70380934, 10.7274979 , 10.75216881, 10.76308428, 10.80473429,\n",
       "       10.81304268, 10.82345581, 10.8581238 , 10.87180348, 10.8807253 ,\n",
       "       10.91553557, 10.92234272, 10.94709278, 10.97747027, 11.0013864 ,\n",
       "       11.00978029, 11.04099556, 11.07121323, 11.09325526, 11.11449681,\n",
       "       11.1237999 , 11.16404964, 11.19058686, 11.19563277, 11.20418916,\n",
       "       11.2282125 , 11.24903995, 11.27808652, 11.32324127, 11.3375831 ,\n",
       "       11.34916399, 11.37095357, 11.38628902, 11.42183748, 11.43118986,\n",
       "       11.45704221, 11.4834273 , 11.48948351, 11.51019888, 11.52611872,\n",
       "       11.54315391, 11.5717567 , 11.58902016, 11.62509098, 11.63364049,\n",
       "       11.66669042, 11.69997386, 11.72661119, 11.7572766 , 11.76670464,\n",
       "       11.79572542, 11.82821968, 11.84465247, 11.85422317, 11.87517831,\n",
       "       11.88279721, 11.91927028, 11.93756703, 11.95902396, 11.98171641,\n",
       "       12.04623006, 12.06790702, 12.10833621, 12.1270061 , 12.13058678,\n",
       "       12.16151883, 12.18308013, 12.18686452, 12.23694958, 12.25612877,\n",
       "       12.28821987, 12.30367649, 12.30509335, 12.34803915, 12.35815263,\n",
       "       12.37094416, 12.42946072, 12.47229969, 12.49998649, 12.53059166,\n",
       "       12.53660437, 12.559545  , 12.56182299, 12.60970811, 12.6194507 ,\n",
       "       12.64510313, 12.66888003, 12.6870823 , 12.74123976, 12.78152713,\n",
       "       12.79082289, 12.79425021, 12.84112394, 12.84993075, 12.86486344,\n",
       "       12.89443745, 12.95066612, 12.97101708, 12.97895163, 13.00303724,\n",
       "       13.0439645 , 13.05477117, 13.11780642, 13.13000849, 13.19565914,\n",
       "       13.22701457, 13.24196674, 13.2587668 , 13.28672491, 13.309576  ,\n",
       "       13.32851584, 13.37079557, 13.40892646, 13.42101802, 13.4440698 ,\n",
       "       13.4943305 , 13.51218755, 13.54705535, 13.56355082, 13.57948248,\n",
       "       13.62739517, 13.63211975, 13.67325016, 13.69086737, 13.76412012,\n",
       "       13.76598648, 13.80004316, 13.83020847, 13.86118029, 13.87636906,\n",
       "       13.90710691, 13.96993898, 13.99804011, 14.0317617 , 14.04828762,\n",
       "       14.08081448, 14.10890767, 14.17036279, 14.19184238, 14.21913656,\n",
       "       14.23555429, 14.25971409, 14.30826019, 14.36186748, 14.37191345,\n",
       "       14.42663092, 14.45400798, 14.48729028, 14.53085484, 14.56658789,\n",
       "       14.5988164 , 14.63018205, 14.68791542, 14.70338058, 14.74130935,\n",
       "       14.77091299, 14.8015282 , 14.83766472, 14.869706  , 14.91827785,\n",
       "       14.95581566, 15.00375273, 15.04607533, 15.1009807 , 15.10436578,\n",
       "       15.15588515, 15.20362379, 15.24114701, 15.29084774, 15.31813447,\n",
       "       15.34843639, 15.36869637, 15.40144474, 15.43029373, 15.51188187,\n",
       "       15.55735246, 15.57094953, 15.59367596, 15.65603699, 15.67870471,\n",
       "       15.74689601, 15.80079845, 15.84098364, 15.88433312, 15.90968387,\n",
       "       15.9654128 , 15.99173642, 16.01439668, 16.06350435, 16.10604646,\n",
       "       16.15286273, 16.19092987, 16.23867964, 16.29687945, 16.34973342,\n",
       "       16.41133965, 16.4763753 , 16.50489098, 16.57494976, 16.61794475,\n",
       "       16.64029565, 16.67758175, 16.69956342, 16.82766645, 16.86229949,\n",
       "       16.93085301, 16.96651684, 16.97782362, 17.03895385, 17.10395889,\n",
       "       17.15838764, 17.19687226, 17.26783652, 17.31205655, 17.36199971,\n",
       "       17.41081646, 17.48814009, 17.56186849, 17.617468  , 17.71142564,\n",
       "       17.74431078, 17.78056634, 17.82554465, 17.93728855, 17.94085195,\n",
       "       18.00645156, 18.0499495 , 18.1504036 , 18.21959686, 18.24725343,\n",
       "       18.40947848, 18.44052859, 18.49785933, 18.56537665, 18.61222018,\n",
       "       18.64933371, 18.74581932, 18.80716453, 18.93277668, 18.986603  ,\n",
       "       19.08568487, 19.17756948, 19.25047993, 19.29298022, 19.32909913,\n",
       "       19.40293462, 19.47254168, 19.58617157, 19.67723123, 19.75764346,\n",
       "       19.83611758, 19.92220901, 20.11705969, 20.19052835, 20.28872078,\n",
       "       20.34765991, 20.52118104, 20.61046554, 20.73001822, 20.75754691,\n",
       "       20.9151826 , 21.12144789, 21.2599887 , 21.39924271, 21.52634801,\n",
       "       21.64808015, 21.81468656, 21.9419058 , 22.07301619, 22.25395925,\n",
       "       22.37071952, 22.49458337, 22.6687916 , 22.98083321, 23.29096166,\n",
       "       23.55070536, 23.7297121 , 24.19192246, 24.52525413, 24.8093555 ,\n",
       "       25.53665799, 25.65964777, 25.7187968 , 26.2468161 , 26.93236336,\n",
       "       27.41249338, 28.40717394, 29.40101777, 30.26348612, 30.45171855,\n",
       "       31.97896251, 34.09855561, 34.68181889, 42.22065866, 57.72197452])"
      ]
     },
     "execution_count": 63,
     "metadata": {},
     "output_type": "execute_result"
    }
   ],
   "source": [
    "print(S.shape)\n",
    "S"
   ]
  },
  {
   "cell_type": "markdown",
   "metadata": {},
   "source": [
    "S is the matrix of singular values. Thoses values shows how \"strong\" a topic is. A big value implies a \"stronger\" topic."
   ]
  },
  {
   "cell_type": "markdown",
   "metadata": {},
   "source": [
    "#### The top-20 eigenvalues of X : "
   ]
  },
  {
   "cell_type": "code",
   "execution_count": 64,
   "metadata": {
    "scrolled": true
   },
   "outputs": [
    {
     "name": "stdout",
     "output_type": "stream",
     "text": [
      "3331.826342633918\n",
      "1782.5840172912438\n",
      "1202.8285615102247\n",
      "1162.711494821788\n",
      "1022.6540433309016\n",
      "927.3071625849524\n",
      "915.8785920753626\n",
      "864.4198459047258\n",
      "806.9675313841724\n",
      "751.444793261271\n",
      "725.3521959560577\n",
      "688.8953553677391\n",
      "661.4565085954038\n",
      "658.4175238842666\n",
      "652.1209015146209\n",
      "615.504120100961\n",
      "601.4880901488513\n",
      "585.2491121648346\n",
      "563.0992365677024\n",
      "554.6357229370088\n"
     ]
    }
   ],
   "source": [
    "for singular_value in S[-20:][::-1]:\n",
    "    print(singular_value*singular_value)"
   ]
  },
  {
   "cell_type": "markdown",
   "metadata": {},
   "source": [
    "## Exercise 4.5: Topic extraction"
   ]
  },
  {
   "cell_type": "markdown",
   "metadata": {
    "scrolled": true
   },
   "source": [
    "As the singular values are ordered, the indexes that we will focus on are the last 10."
   ]
  },
  {
   "cell_type": "markdown",
   "metadata": {},
   "source": [
    "#### 10 most importants terms for 10 most important topics"
   ]
  },
  {
   "cell_type": "code",
   "execution_count": 65,
   "metadata": {},
   "outputs": [
    {
     "name": "stdout",
     "output_type": "stream",
     "text": [
      "For topic  1 :\n",
      "['profession', 'manipulate', 'laplace', 'feature', 'reactive', 'partition', 'productive', 'recognize', 'schemes', 'electromechanical']\n",
      "\n",
      "\n",
      "For topic  2 :\n",
      "['success', 'earth', 'categorize', 'order', 'broad', 'discovery', 'adaptive', 'resolution', 'printing', 'direct']\n",
      "\n",
      "\n",
      "For topic  3 :\n",
      "['controlled', 'manipulation', 'security', 'manufacturing', 'economic', 'integrals', 'success', 'concept', 'geometry', 'reporting']\n",
      "\n",
      "\n",
      "For topic  4 :\n",
      "['bring', 'navigation', 'microfluidics', 'steady', 'legal', 'long', 'controlled', 'integrals', 'economic', 'success']\n",
      "\n",
      "\n",
      "For topic  5 :\n",
      "['plant', 'characterize', 'test', 'present', 'options', 'manipulation', 'signals', 'language', 'geometry', 'reporting']\n",
      "\n",
      "\n",
      "For topic  6 :\n",
      "['robots', 'publications', 'biometric', 'crystal', 'talk', 'shown', 'options', 'present', 'language', 'signals']\n",
      "\n",
      "\n",
      "For topic  7 :\n",
      "['taste', 'additional', 'investment', 'plant', 'themes', 'figures', 'matched', 'loading', 'actual', 'day']\n",
      "\n",
      "\n",
      "For topic  8 :\n",
      "['moodle', 'serve', 'technological', 'provided', 'oscillator', 'organization', 'interactions', 'leading', 'numerical', 'converters']\n",
      "\n",
      "\n",
      "For topic  9 :\n",
      "['morning', 'organization', 'topology', 'stokes', 'shown', 'creation', 'continuum', 'randomized', 'makes', 'matched']\n",
      "\n",
      "\n",
      "For topic  10 :\n",
      "['combining', 'photonics', 'multivariate', 'signals', 'continuum', 'randomized', 'makes', 'technological', 'matched', 'converters']\n",
      "\n",
      "\n"
     ]
    }
   ],
   "source": [
    "for v in range(1, 11):\n",
    "    terms = []\n",
    "    indexes = np.argsort(U[:,-v])[-10:]\n",
    "    for i in indexes:\n",
    "        for word, index in word2index.items():\n",
    "            if index == i:\n",
    "                terms.append(word)\n",
    "    print('For topic ', v, ':')\n",
    "    print(terms)\n",
    "    print('\\n')"
   ]
  },
  {
   "cell_type": "markdown",
   "metadata": {},
   "source": [
    "#### 10 most important courses for 10 most important topics"
   ]
  },
  {
   "cell_type": "code",
   "execution_count": 67,
   "metadata": {},
   "outputs": [
    {
     "name": "stdout",
     "output_type": "stream",
     "text": [
      "For topic  1 :\n",
      "[('MGT-528', 'Operations: economics & strategy'), ('CS-435', 'Analytic algorithms'), ('PHYS-602', 'Nanophotonics and plasmonics'), ('CS-699(2)', 'Project 2 (EDIC)'), ('BIOENG-433', 'Biotechnology lab (for CGC)'), ('CH-711', 'Inorganic chemistry \"Applications and spin-offs\"'), ('MGT-453', 'Industry dynamics, models & trends'), ('HUM-429(a)', 'Philosophy of life sciences I'), ('ChE-421', 'Advanced principles and applications of systems biology'), ('FIN-523', 'Global business environment')]\n",
      "\n",
      "\n",
      "For topic  2 :\n",
      "[('PHYS-455', 'Medical radiation physics'), ('CH-442', 'Photochemistry I'), ('MGT-641(b)', 'Technology and Public Policy - (b) Technology, policy and regulation'), ('COM-308', 'Internet analytics'), ('BIO-479', 'Immunology'), ('CS-622', 'Privacy Protection'), ('MGT-602', 'Mathematical models in supply chain management'), ('ChE-421', 'Advanced principles and applications of systems biology'), ('CH-711', 'Inorganic chemistry \"Applications and spin-offs\"'), ('CS-432', 'Computational motor control')]\n",
      "\n",
      "\n",
      "For topic  3 :\n",
      "[('MICRO-704', 'IC design for robustness'), ('MSE-466', 'Wood structures, properties and uses'), ('BIO-679', 'Practical - Suter Lab'), ('MSE-440', 'Composites technology'), ('CS-435', 'Analytic algorithms'), ('ME-302', 'Mechanical design principles'), ('BIO-441', 'Nutrition: from molecules to health'), ('BIO-468', 'Scientific literature analysis in Computational molecular biology'), ('ChE-301', 'Transport phenomena I'), ('ENV-525', 'Physics and hydrology of snow')]\n",
      "\n",
      "\n",
      "For topic  4 :\n",
      "[('AR-401(z)', 'Studio MA1 (Lütjens et Padmanabhan)'), ('PENS-201', 'Making structural logic'), ('ChE-204', 'Introduction to transport phenomena'), ('ENV-400', 'Air pollution and climate change\\n'), ('BIO-617', 'Practical - Gönczy Lab'), ('ChE-302', 'Transport phenomena II'), ('EE-605', 'Statistical Sequence Processing'), ('MSE-628', \"CCMX Advanced Course 'Advanced X-ray Diffraction Methods for Coatings: strain, defects and deformation analysis of thin films\"), ('CH-312', 'Molecular and cellular biophysic II'), ('CS-430', 'Intelligent agents')]\n",
      "\n",
      "\n",
      "For topic  5 :\n",
      "[('EE-490(d)', 'Lab in microelectronics'), ('MICRO-486', 'Project in neuroprosthetics'), ('CH-312', 'Molecular and cellular biophysic II'), ('ENG-616(3)', 'Energy Regulation (2016)'), ('CH-403', 'Mass spectrometry'), ('MSE-466', 'Wood structures, properties and uses'), ('CH-424', 'Supramolecular chemistry'), ('MSE-613', 'Principles of powder and densification processing'), ('ENG-619', 'Information literacy for chemists'), ('CS-430', 'Intelligent agents')]\n",
      "\n",
      "\n",
      "For topic  6 :\n",
      "[('MATH-332', 'Applied stochastic processes'), ('COM-302', 'Principles of digital communications'), ('MATH-408', 'Advanced regression'), ('CIVIL-449', 'Non linear analysis of structures'), ('MSE-629', 'Design and analysis of experiments in materials science and engineering'), ('ME-551', 'Engines and fuel cells'), ('MATH-625', 'Some problems in the theory of simple groups'), ('MSE-431', 'Physical chemistry of polymeric materials'), ('MSE-420', 'Cementitious materials (advanced)'), ('BIOENG-517', 'Lab methods : proteomics')]\n",
      "\n",
      "\n",
      "For topic  7 :\n",
      "[('BIO-447', 'Stem cell biology and technology'), ('MSE-450', 'Electron microscopy: advanced methods'), ('ChE-311', 'Biochemical engineering'), ('MATH-106(en)', 'Analysis II (English)'), ('MICRO-530', 'Nanotechnology'), ('EE-512', 'Biomedical signal processing'), ('BIO-676', 'Practical - Fellay Lab'), ('EE-537', 'Modeling of emerging electron devices'), ('EE-490(d)', 'Lab in microelectronics'), ('FIN-601', 'Theoretical corporate finance')]\n",
      "\n",
      "\n",
      "For topic  8 :\n",
      "[('CH-409', 'Nuclear magnetic resonance'), ('MSE-480', 'Dielectric properties of materials'), ('EE-551', 'Image communication'), ('MICRO-566', 'Large-area electronics: devices and materials'), ('HUM-429(a)', 'Philosophy of life sciences I'), ('MGT-409', 'D. Thinking: real problems, human-focused solutions'), ('MGT-453', 'Industry dynamics, models & trends'), ('BIO-636', 'Practical - Cole Lab'), ('MSE-648', 'Limestone-Calcined Clay - Cement : Characterisation methods'), ('CH-311', 'Molecular and cellular biophysic I')]\n",
      "\n",
      "\n",
      "For topic  9 :\n",
      "[('ME-432', 'Fracture mechanics'), ('AR-401(z)', 'Studio MA1 (Lütjens et Padmanabhan)'), ('PHYS-403', 'Computer simulation of physical systems I'), ('MGT-528', 'Operations: economics & strategy'), ('EE-530', 'Test of VLSI systems'), ('MSE-610', 'Non-destructive evaluation methods'), ('BIO-315', 'Biomolecular structure and mechanics'), ('MSE-490(a)', 'Research project in materials I'), ('CIVIL-449', 'Non linear analysis of structures'), ('AR-639', 'PhD Masterclass - The horizontal metropolis and other research questions')]\n",
      "\n",
      "\n",
      "For topic  10 :\n",
      "[('MATH-311', 'Rings and modules'), ('BIOENG-448', 'Fundamentals of neuroengineering'), ('PHYS-710', 'Structure and evolution of galaxies (UNIGe)'), ('MSE-703', 'Science and technology of UV-induced polymerization'), ('MGT-641(b)', 'Technology and Public Policy - (b) Technology, policy and regulation'), ('MATH-409', 'Algebraic curves and cryptography'), ('CS-433', 'Pattern classification and machine learning'), ('PENS-201', 'Making structural logic'), ('EE-704', 'Computational perception using multimodal sensors'), ('CS-432', 'Computational motor control')]\n",
      "\n",
      "\n"
     ]
    }
   ],
   "source": [
    "for v in range(1, 11):\n",
    "    top_courses = []\n",
    "    indexes = np.argsort(V_t[:,-v])[-10:]\n",
    "    for i in indexes:\n",
    "        for courseId, index in course2index.items():\n",
    "            if index == i:\n",
    "                top_courses.append((courseId,courses[index][\"name\"]))\n",
    "    print('For topic ', v, ':')\n",
    "    print(top_courses)\n",
    "    print('\\n')"
   ]
  },
  {
   "cell_type": "markdown",
   "metadata": {},
   "source": [
    "We can then \"label\" the 10 topics from the informations taken from U and V_t (terms and courses) :\n",
    "\n",
    "Topic 1 : Science of life\n",
    "\n",
    "Topic 2 : Chemistry/Biology\n",
    "\n",
    "Topic 3 : Geology/Finance\n",
    "\n",
    "Topic 4 : Ecology/Transport\n",
    "\n",
    "Topic 5 : Biological Computer Science\n",
    "\n",
    "Topic 6 : Markets/Financial Engineering\n",
    "\n",
    "Topic 7 : Applied Physics\n",
    "\n",
    "Topic 8 : \"Solutions for the Future\"\n",
    "\n",
    "Topic 9 : Molecular Structures\n",
    "\n",
    "Topic 10 : Theory of computation"
   ]
  },
  {
   "cell_type": "markdown",
   "metadata": {},
   "source": [
    "## Exercise 4.6: Document similarity search in concept-space"
   ]
  },
  {
   "cell_type": "code",
   "execution_count": 68,
   "metadata": {},
   "outputs": [],
   "source": [
    "def sim(t,d):\n",
    "    Sig = np.diag(S)\n",
    "    V_d = V_t.T[d]\n",
    "    SV_d = np.dot(Sig,V_d)\n",
    "    return np.dot(t,np.dot(Sig,V_d.T))/(np.sqrt(np.dot(t,t))*np.sqrt(np.dot(SV_d,SV_d)))"
   ]
  },
  {
   "cell_type": "code",
   "execution_count": 75,
   "metadata": {},
   "outputs": [],
   "source": [
    "def search(term):\n",
    "    terms = term.split(' ')\n",
    "    t = U[word2index[terms[0]]]\n",
    "    for term in terms[1:]:\n",
    "        t += U[word2index[term]]\n",
    "    similarities = np.array([sim(t,d) for d in range(len(course2index))])\n",
    "    top_5 = np.argsort(-results)[:5]\n",
    "    print(top_5)"
   ]
  },
  {
   "cell_type": "code",
   "execution_count": 76,
   "metadata": {},
   "outputs": [
    {
     "ename": "IndexError",
     "evalue": "index 1341 is out of bounds for axis 0 with size 854",
     "output_type": "error",
     "traceback": [
      "\u001b[1;31m---------------------------------------------------------------------------\u001b[0m",
      "\u001b[1;31mIndexError\u001b[0m                                Traceback (most recent call last)",
      "\u001b[1;32m<ipython-input-76-0968e9c67de5>\u001b[0m in \u001b[0;36m<module>\u001b[1;34m\u001b[0m\n\u001b[1;32m----> 1\u001b[1;33m \u001b[0msearch\u001b[0m\u001b[1;33m(\u001b[0m\u001b[1;34m'markov chains'\u001b[0m\u001b[1;33m)\u001b[0m\u001b[1;33m\u001b[0m\u001b[1;33m\u001b[0m\u001b[0m\n\u001b[0m",
      "\u001b[1;32m<ipython-input-75-ab7ae475914e>\u001b[0m in \u001b[0;36msearch\u001b[1;34m(term)\u001b[0m\n\u001b[0;32m      1\u001b[0m \u001b[1;32mdef\u001b[0m \u001b[0msearch\u001b[0m\u001b[1;33m(\u001b[0m\u001b[0mterm\u001b[0m\u001b[1;33m)\u001b[0m\u001b[1;33m:\u001b[0m\u001b[1;33m\u001b[0m\u001b[1;33m\u001b[0m\u001b[0m\n\u001b[0;32m      2\u001b[0m     \u001b[0mterms\u001b[0m \u001b[1;33m=\u001b[0m \u001b[0mterm\u001b[0m\u001b[1;33m.\u001b[0m\u001b[0msplit\u001b[0m\u001b[1;33m(\u001b[0m\u001b[1;34m' '\u001b[0m\u001b[1;33m)\u001b[0m\u001b[1;33m\u001b[0m\u001b[1;33m\u001b[0m\u001b[0m\n\u001b[1;32m----> 3\u001b[1;33m     \u001b[0mt\u001b[0m \u001b[1;33m=\u001b[0m \u001b[0mU\u001b[0m\u001b[1;33m[\u001b[0m\u001b[0mword2index\u001b[0m\u001b[1;33m[\u001b[0m\u001b[0mterms\u001b[0m\u001b[1;33m[\u001b[0m\u001b[1;36m0\u001b[0m\u001b[1;33m]\u001b[0m\u001b[1;33m]\u001b[0m\u001b[1;33m]\u001b[0m\u001b[1;33m\u001b[0m\u001b[1;33m\u001b[0m\u001b[0m\n\u001b[0m\u001b[0;32m      4\u001b[0m     \u001b[1;32mfor\u001b[0m \u001b[0mterm\u001b[0m \u001b[1;32min\u001b[0m \u001b[0mterms\u001b[0m\u001b[1;33m[\u001b[0m\u001b[1;36m1\u001b[0m\u001b[1;33m:\u001b[0m\u001b[1;33m]\u001b[0m\u001b[1;33m:\u001b[0m\u001b[1;33m\u001b[0m\u001b[1;33m\u001b[0m\u001b[0m\n\u001b[0;32m      5\u001b[0m         \u001b[0mt\u001b[0m \u001b[1;33m+=\u001b[0m \u001b[0mU\u001b[0m\u001b[1;33m[\u001b[0m\u001b[0mword2index\u001b[0m\u001b[1;33m[\u001b[0m\u001b[0mterm\u001b[0m\u001b[1;33m]\u001b[0m\u001b[1;33m]\u001b[0m\u001b[1;33m\u001b[0m\u001b[1;33m\u001b[0m\u001b[0m\n",
      "\u001b[1;31mIndexError\u001b[0m: index 1341 is out of bounds for axis 0 with size 854"
     ]
    }
   ],
   "source": [
    "search('markov chains')"
   ]
  },
  {
   "cell_type": "code",
   "execution_count": 70,
   "metadata": {},
   "outputs": [
    {
     "ename": "KeyError",
     "evalue": "'facebook'",
     "output_type": "error",
     "traceback": [
      "\u001b[1;31m---------------------------------------------------------------------------\u001b[0m",
      "\u001b[1;31mKeyError\u001b[0m                                  Traceback (most recent call last)",
      "\u001b[1;32m<ipython-input-70-9eb753d2d70c>\u001b[0m in \u001b[0;36m<module>\u001b[1;34m\u001b[0m\n\u001b[1;32m----> 1\u001b[1;33m \u001b[0msearch\u001b[0m\u001b[1;33m(\u001b[0m\u001b[1;34m'facebook'\u001b[0m\u001b[1;33m)\u001b[0m\u001b[1;33m\u001b[0m\u001b[1;33m\u001b[0m\u001b[0m\n\u001b[0m",
      "\u001b[1;32m<ipython-input-69-c9778ceb43ad>\u001b[0m in \u001b[0;36msearch\u001b[1;34m(term)\u001b[0m\n\u001b[0;32m      3\u001b[0m     \u001b[0mtop_courses\u001b[0m \u001b[1;33m=\u001b[0m \u001b[1;33m[\u001b[0m\u001b[1;33m]\u001b[0m\u001b[1;33m\u001b[0m\u001b[1;33m\u001b[0m\u001b[0m\n\u001b[0;32m      4\u001b[0m     \u001b[1;32mfor\u001b[0m \u001b[0mt\u001b[0m \u001b[1;32min\u001b[0m \u001b[0mterm\u001b[0m\u001b[1;33m.\u001b[0m\u001b[0msplit\u001b[0m\u001b[1;33m(\u001b[0m\u001b[1;33m)\u001b[0m\u001b[1;33m:\u001b[0m\u001b[1;33m\u001b[0m\u001b[1;33m\u001b[0m\u001b[0m\n\u001b[1;32m----> 5\u001b[1;33m         \u001b[0mi\u001b[0m \u001b[1;33m=\u001b[0m \u001b[0mword2index\u001b[0m\u001b[1;33m[\u001b[0m\u001b[0mt\u001b[0m\u001b[1;33m]\u001b[0m\u001b[1;33m\u001b[0m\u001b[1;33m\u001b[0m\u001b[0m\n\u001b[0m\u001b[0;32m      6\u001b[0m         \u001b[0mU_t\u001b[0m \u001b[1;33m=\u001b[0m \u001b[0mU\u001b[0m\u001b[1;33m[\u001b[0m\u001b[0mi\u001b[0m\u001b[1;33m]\u001b[0m\u001b[1;33m\u001b[0m\u001b[1;33m\u001b[0m\u001b[0m\n\u001b[0;32m      7\u001b[0m         \u001b[1;32mfor\u001b[0m \u001b[0mcourseId\u001b[0m\u001b[1;33m,\u001b[0m \u001b[0mindex\u001b[0m \u001b[1;32min\u001b[0m \u001b[0mcourse2index\u001b[0m\u001b[1;33m.\u001b[0m\u001b[0mitems\u001b[0m\u001b[1;33m(\u001b[0m\u001b[1;33m)\u001b[0m\u001b[1;33m:\u001b[0m\u001b[1;33m\u001b[0m\u001b[1;33m\u001b[0m\u001b[0m\n",
      "\u001b[1;31mKeyError\u001b[0m: 'facebook'"
     ]
    }
   ],
   "source": [
    "search('facebook')"
   ]
  },
  {
   "cell_type": "markdown",
   "metadata": {},
   "source": [
    "## Exercise 4.7: Document-document similarity"
   ]
  },
  {
   "cell_type": "markdown",
   "metadata": {},
   "source": [
    "To compute the document-document similarity, we will use the cosine similarity :"
   ]
  },
  {
   "cell_type": "code",
   "execution_count": null,
   "metadata": {},
   "outputs": [],
   "source": [
    "def cosine_similarity(doc1, doc2):\n",
    "    Sig = np.diag(S)\n",
    "    SVtd1 = np.dot(Sig,Vt[:,d1])\n",
    "    SVtd2 = np.dot(Sig,Vt[:,d2])\n",
    "    return np.dot(SVtd1,SVtd2)/(np.sqrt(np.dot(SVtd1,SVtd1))*np.sqrt(np.dot(SVtd2,SVtd2)))"
   ]
  }
 ],
 "metadata": {
  "kernelspec": {
   "display_name": "Python 3",
   "language": "python",
   "name": "python3"
  },
  "language_info": {
   "codemirror_mode": {
    "name": "ipython",
    "version": 3
   },
   "file_extension": ".py",
   "mimetype": "text/x-python",
   "name": "python",
   "nbconvert_exporter": "python",
   "pygments_lexer": "ipython3",
   "version": "3.7.1"
  },
  "varInspector": {
   "cols": {
    "lenName": 16,
    "lenType": 16,
    "lenVar": 40
   },
   "kernels_config": {
    "python": {
     "delete_cmd_postfix": "",
     "delete_cmd_prefix": "del ",
     "library": "var_list.py",
     "varRefreshCmd": "print(var_dic_list())"
    },
    "r": {
     "delete_cmd_postfix": ") ",
     "delete_cmd_prefix": "rm(",
     "library": "var_list.r",
     "varRefreshCmd": "cat(var_dic_list()) "
    }
   },
   "types_to_exclude": [
    "module",
    "function",
    "builtin_function_or_method",
    "instance",
    "_Feature"
   ],
   "window_display": false
  }
 },
 "nbformat": 4,
 "nbformat_minor": 2
}
