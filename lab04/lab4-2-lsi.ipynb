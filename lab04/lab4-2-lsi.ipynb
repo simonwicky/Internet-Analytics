{
 "cells": [
  {
   "cell_type": "markdown",
   "metadata": {},
   "source": [
    "# Text 2: Latent semantic indexing\n",
    "**Internet Analytics - Lab 4**\n",
    "\n",
    "---\n",
    "\n",
    "**Group:** K\n",
    "\n",
    "**Names:**\n",
    "\n",
    "* Xavier Jeanmonod\n",
    "* Adrian Baudat\n",
    "* Simon Wicky\n",
    "\n",
    "---\n",
    "\n",
    "#### Instructions\n",
    "\n",
    "*This is a template for part 2 of the lab. Clearly write your answers, comments and interpretations in Markodown cells. Don't forget that you can add $\\LaTeX$ equations in these cells. Feel free to add or remove any cell.*\n",
    "\n",
    "*Please properly comment your code. Code readability will be considered for grading. To avoid long cells of codes in the notebook, you can also embed long python functions and classes in a separate module. Don’t forget to hand in your module if that is the case. In multiple exercises, you are required to come up with your own method to solve various problems. Be creative and clearly motivate and explain your methods. Creativity and clarity will be considered for grading.*"
   ]
  },
  {
   "cell_type": "code",
   "execution_count": 1,
   "metadata": {},
   "outputs": [],
   "source": [
    "import pickle\n",
    "import numpy as np\n",
    "from scipy.sparse.linalg import svds\n",
    "from utils import load_json, load_pkl\n",
    "courses = load_json('data/courses.txt')\n",
    "stopwords = load_pkl('data/stopwords.pkl')\n",
    "all_words = load_pkl('all_words.pkl')\n",
    "course2index = load_pkl('course2index.pkl')\n",
    "word2index = load_pkl('word2index.pkl')"
   ]
  },
  {
   "cell_type": "markdown",
   "metadata": {},
   "source": [
    "## Exercise 4.4: Latent semantic indexing"
   ]
  },
  {
   "cell_type": "markdown",
   "metadata": {},
   "source": [
    "Before beginning, let's state that in this part we used the matrix with the words appearing only once (like facebook, since it's needed in further sub-exercise)."
   ]
  },
  {
   "cell_type": "code",
   "execution_count": 2,
   "metadata": {},
   "outputs": [],
   "source": [
    "%store -r"
   ]
  },
  {
   "cell_type": "code",
   "execution_count": 3,
   "metadata": {},
   "outputs": [
    {
     "data": {
      "text/plain": [
       "array([[0., 0., 0., ..., 0., 0., 0.],\n",
       "       [0., 0., 0., ..., 0., 0., 0.],\n",
       "       [0., 0., 0., ..., 0., 0., 0.],\n",
       "       ...,\n",
       "       [0., 0., 0., ..., 0., 0., 0.],\n",
       "       [0., 0., 0., ..., 0., 0., 0.],\n",
       "       [0., 0., 0., ..., 0., 0., 0.]])"
      ]
     },
     "execution_count": 3,
     "metadata": {},
     "output_type": "execute_result"
    }
   ],
   "source": [
    "matrix"
   ]
  },
  {
   "cell_type": "code",
   "execution_count": 4,
   "metadata": {},
   "outputs": [
    {
     "data": {
      "text/plain": [
       "(854, 15084)"
      ]
     },
     "execution_count": 4,
     "metadata": {},
     "output_type": "execute_result"
    }
   ],
   "source": [
    "matrix.shape"
   ]
  },
  {
   "cell_type": "code",
   "execution_count": 5,
   "metadata": {},
   "outputs": [],
   "source": [
    "k = 300\n",
    "U, S, V_t = svds(matrix,k)"
   ]
  },
  {
   "cell_type": "markdown",
   "metadata": {},
   "source": [
    "#### U :"
   ]
  },
  {
   "cell_type": "code",
   "execution_count": 6,
   "metadata": {},
   "outputs": [
    {
     "name": "stdout",
     "output_type": "stream",
     "text": [
      "(854, 300)\n"
     ]
    },
    {
     "data": {
      "text/plain": [
       "array([[-0.02268918,  0.02296011,  0.08074571, ..., -0.00615914,\n",
       "        -0.0111635 , -0.01853261],\n",
       "       [ 0.00644516, -0.001569  ,  0.02231831, ...,  0.00590896,\n",
       "        -0.00927564, -0.01547253],\n",
       "       [ 0.02474889,  0.0073882 ,  0.03458832, ..., -0.02814478,\n",
       "        -0.01518194, -0.03296627],\n",
       "       ...,\n",
       "       [ 0.00025759,  0.03449281,  0.01753479, ..., -0.11729665,\n",
       "        -0.03337629, -0.05017098],\n",
       "       [ 0.00443657,  0.01049228, -0.00738276, ...,  0.05652301,\n",
       "        -0.01425889, -0.02263149],\n",
       "       [ 0.00844462,  0.00439351, -0.00815017, ..., -0.01893227,\n",
       "        -0.0351451 , -0.03766727]])"
      ]
     },
     "execution_count": 6,
     "metadata": {},
     "output_type": "execute_result"
    }
   ],
   "source": [
    "print(U.shape)\n",
    "U"
   ]
  },
  {
   "cell_type": "markdown",
   "metadata": {},
   "source": [
    "U is mapping the rows, in this case courses, to topics. Each value in the row represent the force of the relation between course and topic."
   ]
  },
  {
   "cell_type": "markdown",
   "metadata": {},
   "source": [
    "#### V_t :"
   ]
  },
  {
   "cell_type": "code",
   "execution_count": 7,
   "metadata": {},
   "outputs": [
    {
     "name": "stdout",
     "output_type": "stream",
     "text": [
      "(300, 15084)\n"
     ]
    },
    {
     "data": {
      "text/plain": [
       "array([[ 2.67285860e-03,  1.23772981e-02, -3.82495177e-04, ...,\n",
       "        -1.35336654e-03, -2.89373096e-02,  2.94617282e-03],\n",
       "       [-5.23307048e-04, -1.39375297e-04,  8.74696329e-06, ...,\n",
       "         1.29707445e-04,  4.59221938e-04,  7.08964128e-04],\n",
       "       [ 2.78861709e-03,  2.43489122e-03,  6.48166365e-04, ...,\n",
       "         2.89141047e-05,  1.49177048e-02,  1.80106420e-03],\n",
       "       ...,\n",
       "       [-7.27293897e-04,  1.67416621e-03,  3.60799701e-03, ...,\n",
       "         5.58226583e-04,  2.43202958e-02,  8.32244498e-05],\n",
       "       [-2.00508609e-03, -1.09775088e-03, -9.06381074e-04, ...,\n",
       "        -3.61922682e-04, -1.33296148e-02, -1.81499829e-04],\n",
       "       [-2.29073425e-03, -8.12133706e-04, -1.02802441e-03, ...,\n",
       "        -4.43996313e-04, -1.19143717e-02, -1.37813739e-04]])"
      ]
     },
     "execution_count": 7,
     "metadata": {},
     "output_type": "execute_result"
    }
   ],
   "source": [
    "print(V_t.shape)\n",
    "V_t"
   ]
  },
  {
   "cell_type": "markdown",
   "metadata": {},
   "source": [
    "Vt is mapping the column(terms) to the topics. Each value in the column represent the force of the relation between term and topic."
   ]
  },
  {
   "cell_type": "markdown",
   "metadata": {},
   "source": [
    "#### S :"
   ]
  },
  {
   "cell_type": "code",
   "execution_count": 8,
   "metadata": {},
   "outputs": [
    {
     "name": "stdout",
     "output_type": "stream",
     "text": [
      "(300,)\n"
     ]
    },
    {
     "data": {
      "text/plain": [
       "array([14.58908517, 14.61303118, 14.62856051, 14.64281564, 14.68347555,\n",
       "       14.71609496, 14.72414101, 14.7410776 , 14.7555014 , 14.77397972,\n",
       "       14.79343359, 14.81247579, 14.84991953, 14.88279825, 14.8952375 ,\n",
       "       14.9164187 , 14.95366958, 14.96127146, 15.00082855, 15.01803266,\n",
       "       15.0403938 , 15.05462628, 15.08299704, 15.11826093, 15.13239177,\n",
       "       15.14351906, 15.173214  , 15.18727269, 15.22265818, 15.23907516,\n",
       "       15.2719911 , 15.29163237, 15.31346592, 15.32439113, 15.34173508,\n",
       "       15.36811342, 15.38872544, 15.43358504, 15.45997672, 15.47191087,\n",
       "       15.49025909, 15.53155289, 15.55252486, 15.55538985, 15.59463359,\n",
       "       15.60288057, 15.64006408, 15.67274239, 15.69356033, 15.70964046,\n",
       "       15.72402955, 15.77028582, 15.79309517, 15.81296436, 15.84243488,\n",
       "       15.86848064, 15.9022868 , 15.94148775, 15.96034776, 15.99118629,\n",
       "       16.00632682, 16.02124652, 16.05902298, 16.08720169, 16.13572849,\n",
       "       16.1390365 , 16.16263213, 16.20007044, 16.2203879 , 16.24579732,\n",
       "       16.24879037, 16.26131127, 16.30520884, 16.35133686, 16.38313473,\n",
       "       16.39763366, 16.4391058 , 16.45885169, 16.47251833, 16.48817243,\n",
       "       16.52640277, 16.54167437, 16.59732718, 16.62627262, 16.65198862,\n",
       "       16.65756389, 16.70984319, 16.73379058, 16.76502361, 16.77495378,\n",
       "       16.80845932, 16.87513283, 16.88780281, 16.91798891, 16.93500258,\n",
       "       16.96358036, 16.98721317, 17.01278886, 17.02563714, 17.06151619,\n",
       "       17.09765013, 17.11548028, 17.15533499, 17.16318751, 17.19940577,\n",
       "       17.22452604, 17.26539244, 17.31140915, 17.33934852, 17.3615635 ,\n",
       "       17.39182159, 17.40893949, 17.4428892 , 17.49260079, 17.51170203,\n",
       "       17.52249974, 17.54748568, 17.58047647, 17.59737166, 17.63619244,\n",
       "       17.66246432, 17.68752374, 17.72149418, 17.72923826, 17.787997  ,\n",
       "       17.85823805, 17.8756246 , 17.95130576, 17.96067575, 18.00272669,\n",
       "       18.01019723, 18.05390076, 18.07890686, 18.10201987, 18.11775273,\n",
       "       18.12847083, 18.19142497, 18.27227646, 18.29666419, 18.31630618,\n",
       "       18.35730311, 18.41131091, 18.45395079, 18.52337372, 18.54684208,\n",
       "       18.55429798, 18.60896424, 18.64189586, 18.68412837, 18.73503687,\n",
       "       18.75473445, 18.77922986, 18.84886002, 18.89324187, 18.90043847,\n",
       "       18.94918582, 18.97360115, 19.04269263, 19.088533  , 19.11047888,\n",
       "       19.13357659, 19.15494891, 19.22660139, 19.23511485, 19.29994949,\n",
       "       19.33418886, 19.34275682, 19.39248365, 19.43590666, 19.47273076,\n",
       "       19.52740053, 19.55502015, 19.588624  , 19.61433471, 19.67857366,\n",
       "       19.76677586, 19.78258659, 19.811295  , 19.87366697, 19.91323138,\n",
       "       19.93949701, 19.98784595, 20.05961041, 20.09721813, 20.15894709,\n",
       "       20.20439778, 20.27192822, 20.28433201, 20.36034633, 20.37959546,\n",
       "       20.43332638, 20.49056438, 20.51963   , 20.56863625, 20.62826195,\n",
       "       20.68103581, 20.69525564, 20.76390783, 20.79460564, 20.85036365,\n",
       "       20.95265247, 20.95767318, 21.01237478, 21.06756099, 21.11207847,\n",
       "       21.16327833, 21.22551262, 21.25604797, 21.3496214 , 21.40341269,\n",
       "       21.44328039, 21.45729621, 21.50223892, 21.58302381, 21.61749565,\n",
       "       21.65987706, 21.69347706, 21.78567219, 21.81846656, 21.8535547 ,\n",
       "       21.86632208, 21.94175924, 22.01772522, 22.04280462, 22.18830165,\n",
       "       22.23854877, 22.25626039, 22.32810227, 22.34420512, 22.38710126,\n",
       "       22.45976145, 22.46867349, 22.54921188, 22.62439602, 22.66383227,\n",
       "       22.74311604, 22.8443223 , 22.87624072, 22.9449314 , 23.02152479,\n",
       "       23.06805204, 23.12736171, 23.20981833, 23.3167714 , 23.35640459,\n",
       "       23.42549078, 23.56865334, 23.62833894, 23.70119745, 23.74817187,\n",
       "       23.85704202, 23.88727785, 23.96997555, 24.07306513, 24.12503701,\n",
       "       24.29152819, 24.3993624 , 24.50293389, 24.53546965, 24.67177608,\n",
       "       24.71287069, 24.83460783, 24.84598911, 24.94396772, 25.0965483 ,\n",
       "       25.2087447 , 25.26990498, 25.49778959, 25.62541445, 25.66571251,\n",
       "       25.89023984, 26.05912124, 26.20718183, 26.4659739 , 26.62734838,\n",
       "       26.70101061, 26.88868546, 27.07646835, 27.22450464, 27.52236579,\n",
       "       27.888625  , 28.35094021, 28.50161196, 28.73962474, 29.26167381,\n",
       "       29.60778409, 29.72612901, 30.09543646, 30.5817885 , 30.59024923,\n",
       "       31.65688959, 32.8224278 , 33.02055667, 33.86635468, 34.52746287,\n",
       "       35.19026117, 36.87887234, 37.43823985, 45.20834303, 59.07460897])"
      ]
     },
     "execution_count": 8,
     "metadata": {},
     "output_type": "execute_result"
    }
   ],
   "source": [
    "print(S.shape)\n",
    "S"
   ]
  },
  {
   "cell_type": "markdown",
   "metadata": {},
   "source": [
    "S is the matrix of singular values. Thoses values shows how \"strong\" a topic is. A big value implies a \"stronger\" topic."
   ]
  },
  {
   "cell_type": "markdown",
   "metadata": {},
   "source": [
    "#### The top-20 eigenvalues of X : "
   ]
  },
  {
   "cell_type": "code",
   "execution_count": 9,
   "metadata": {
    "scrolled": true
   },
   "outputs": [
    {
     "name": "stdout",
     "output_type": "stream",
     "text": [
      "3489.809424671651\n",
      "2043.7942798555757\n",
      "1401.6218034267595\n",
      "1360.0512253679583\n",
      "1238.354481013834\n",
      "1192.1456925719333\n",
      "1146.9299796083835\n",
      "1090.3571629562127\n",
      "1077.3117669864378\n",
      "1002.158658295746\n",
      "935.7633478290616\n",
      "935.2457879985973\n",
      "905.7352957376381\n",
      "883.6427459159333\n",
      "876.6208789055595\n",
      "856.2455539745112\n",
      "825.9660303413124\n",
      "812.3418842576767\n",
      "803.7758108674012\n",
      "777.775404544573\n"
     ]
    }
   ],
   "source": [
    "for singular_value in S[-20:][::-1]:\n",
    "    print(singular_value*singular_value)"
   ]
  },
  {
   "cell_type": "markdown",
   "metadata": {},
   "source": [
    "## Exercise 4.5: Topic extraction"
   ]
  },
  {
   "cell_type": "markdown",
   "metadata": {
    "scrolled": true
   },
   "source": [
    "As the singular values are ordered, the indexes that we will focus on are the last 10."
   ]
  },
  {
   "cell_type": "markdown",
   "metadata": {},
   "source": [
    "#### 10 most importants terms for 10 most important topics"
   ]
  },
  {
   "cell_type": "code",
   "execution_count": 10,
   "metadata": {},
   "outputs": [
    {
     "name": "stdout",
     "output_type": "stream",
     "text": [
      "For topic  1 :\n",
      "['snowpackformulate', 'snowatmosphere', 'eng272', 'transmits', 'vegetation', 'coverclimate', 'snowairground', 'pack', 'avalanches', 'metamorphism']\n",
      "\n",
      "\n",
      "For topic  2 :\n",
      "['reports', 'projects', 'host', 'head', 'supervising', 'laboratorybased', 'experiments', 'obtained', 'wetlab', 'experimentation']\n",
      "\n",
      "\n",
      "For topic  3 :\n",
      "['spectroscopy', 'electron', 'note', 'thin', 'chemical', 'optical', 'cell', 'protein', 'molecular', 'microscopy']\n",
      "\n",
      "\n",
      "For topic  4 :\n",
      "['expound', 'compose', 'assesses', 'audience', 'coherently', 'applies', 'subject', 'form', 'laboratories', 'acquired']\n",
      "\n",
      "\n",
      "For topic  5 :\n",
      "['territorial', 'urban', 'doctoral', 'architectural', 'cell', 'edms', 'laba', 'architecture', 'development', 'studio']\n",
      "\n",
      "\n",
      "For topic  6 :\n",
      "['note', 'drug', 'molecular', 'cells', 'cellular', 'biology', 'doctoral', 'edms', 'protein', 'cell']\n",
      "\n",
      "\n",
      "For topic  7 :\n",
      "['growth', 'alloys', 'asset', 'corporate', 'retreat', 'markets', 'finance', 'pricing', 'risk', 'financial']\n",
      "\n",
      "\n",
      "For topic  8 :\n",
      "['recrystallization', 'priority', 'modules', 'regression', 'retreat', 'algorithms', 'linear', 'doctoral', 'note', 'edms']\n",
      "\n",
      "\n",
      "For topic  9 :\n",
      "['devices', 'valuation', 'microscopy', 'markets', 'optical', 'corporate', 'finance', 'pricing', 'risk', 'financial']\n",
      "\n",
      "\n",
      "For topic  10 :\n",
      "['analog', 'technology', 'memories', 'electronics', 'mos', 'transistor', 'architectures', 'devices', 'circuits', 'cmos']\n",
      "\n",
      "\n"
     ]
    }
   ],
   "source": [
    "for v in range(1, 11):\n",
    "    terms = []\n",
    "    indexes = np.argsort(V_t[-v,:])[-10:]\n",
    "    for i in indexes:\n",
    "        for word, index in word2index.items():\n",
    "            if index == i:\n",
    "                terms.append(word)\n",
    "    print('For topic ', v, ':')\n",
    "    print(terms)\n",
    "    print('\\n')"
   ]
  },
  {
   "cell_type": "markdown",
   "metadata": {},
   "source": [
    "#### 10 most important courses for 10 most important topics"
   ]
  },
  {
   "cell_type": "code",
   "execution_count": 11,
   "metadata": {},
   "outputs": [
    {
     "name": "stdout",
     "output_type": "stream",
     "text": [
      "For topic  1 :\n",
      "[('MICRO-600', 'Emerging Nanopatterning Methods'), ('COM-414', 'Satellite communications  systems and networks'), ('CH-404', 'Laboratory information management systems (LIMS)'), ('ENV-525', 'Physics and hydrology of snow'), ('EE-466', 'Energy storage in power systems: technologies, applications and future needs'), ('AR-202(c)', 'Studio BA4 (De Vylder & Taillieu)'), ('BIO-430', 'Multidisciplinary organization of medtechs/biotechs'), ('BIO-699(n)', 'Training Rotation (EDNE)'), ('MGT-690(A)', 'Field Research Project A'), ('MGT-690(B)', 'Field Research Project B')]\n",
      "\n",
      "\n",
      "For topic  2 :\n",
      "[('MSE-490(b)', 'Research project in materials II'), ('BIOENG-489', 'Semester project in Bioengineering'), ('BIO-502', 'Lab immersion II'), ('BIO-505', 'Lab immersion academic (outside EPFL) B'), ('BIO-504', 'Lab immersion academic (outside EPFL) A'), ('BIO-506', 'Lab immersion in industry A'), ('BIO-501', 'Lab immersion I'), ('BIO-507', 'Lab immersion in industry B'), ('BIO-503', 'Lab immersion III'), ('BIOENG-390', 'Project in bioengineering and biosciences')]\n",
      "\n",
      "\n",
      "For topic  3 :\n",
      "[('BIO-504', 'Lab immersion academic (outside EPFL) A'), ('BIO-505', 'Lab immersion academic (outside EPFL) B'), ('BIO-622', 'Practical - Lingner Lab'), ('BIO-506', 'Lab immersion in industry A'), ('ChE-311', 'Biochemical engineering'), ('BIO-507', 'Lab immersion in industry B'), ('CH-311', 'Molecular and cellular biophysic I'), ('ChE-437', 'Bioprocesses and downstream processing'), ('CH-413', 'Nanobiotechnology and biophysics'), ('MSE-646', 'CCMX Winter School - Metal Science')]\n",
      "\n",
      "\n",
      "For topic  4 :\n",
      "[('EE-491(b)', 'Project in information technologies'), ('EE-491(a)', 'Project in Electrical Energy Systems'), ('CH-413', 'Nanobiotechnology and biophysics'), ('EE-491(c)', 'Project in micro and nanoelectronics'), ('MICRO-563', 'Project in biomedical technologies'), ('MSE-646', 'CCMX Winter School - Metal Science'), ('CH-491', 'Project in molecular sciences'), ('MSE-490(c)', 'Specialisation project in materials'), ('MSE-490(a)', 'Research project in materials I'), ('MSE-490(b)', 'Research project in materials II')]\n",
      "\n",
      "\n",
      "For topic  5 :\n",
      "[('AR-401(y)', 'Théorie et critique du projet MA1 (Huang)'), ('AR-402(w)', 'Studio MA2 (Escher et GuneWardena)'), ('AR-301(d)', 'Studio BA5 (Fröhlich M. & A.)'), ('AR-401(w)', 'Studio MA1 (Escher et GuneWardena)'), ('BIO-611', 'Practical - Constam Lab'), ('PENS-210', 'Renewable energy and solar architecture in Davos'), ('BIO-622', 'Practical - Lingner Lab'), ('AR-482', 'UE W: Reading construction'), ('AR-401(b)', 'Théorie et critique du projet MA1 (Gugger)'), ('AR-402(b)', 'Théorie et critique du projet MA2 (Gugger)')]\n",
      "\n",
      "\n",
      "For topic  6 :\n",
      "[('BIO-677', 'Practical - Hantschel Lab'), ('BIO-617', 'Practical - Gönczy Lab'), ('CH-415', 'Chemistry of small biological molecules'), ('ChE-311', 'Biochemical engineering'), ('ChE-437', 'Bioprocesses and downstream processing'), ('BIO-105', 'Cellular biology and biochemistry for engineers'), ('CH-311', 'Molecular and cellular biophysic I'), ('BIO-611', 'Practical - Constam Lab'), ('CH-413', 'Nanobiotechnology and biophysics'), ('BIO-622', 'Practical - Lingner Lab')]\n",
      "\n",
      "\n",
      "For topic  7 :\n",
      "[('FIN-521', 'Advanced topics in financial econometrics'), ('FIN-506', 'Investing: a Guide to Doing the Right Thing'), ('FIN-405', 'Investments'), ('FIN-402', 'Quantitative methods in finance'), ('FIN-609', 'Asset Pricing'), ('FIN-401', 'Introduction to finance (IF master and minor only)'), ('ChE-311', 'Biochemical engineering'), ('MGT-482', 'Principles of finance'), ('ChE-437', 'Bioprocesses and downstream processing'), ('MSE-646', 'CCMX Winter School - Metal Science')]\n",
      "\n",
      "\n",
      "For topic  8 :\n",
      "[('CS-401', 'Applied data analysis'), ('CS-435', 'Analytic algorithms'), ('BIO-676', 'Practical - Fellay Lab'), ('CS-450', 'Advanced algorithms'), ('BIO-617', 'Practical - Gönczy Lab'), ('EE-613', 'Machine Learning for Engineers'), ('EE-516', 'Data analysis and model classification'), ('BIO-611', 'Practical - Constam Lab'), ('BIO-622', 'Practical - Lingner Lab'), ('MSE-646', 'CCMX Winter School - Metal Science')]\n",
      "\n",
      "\n",
      "For topic  9 :\n",
      "[('FIN-402', 'Quantitative methods in finance'), ('FIN-521', 'Advanced topics in financial econometrics'), ('MICRO-611', 'Nanoscale MOSFETs and beyond CMOS devices'), ('FIN-405', 'Investments'), ('FIN-601', 'Theoretical corporate finance'), ('FIN-506', 'Investing: a Guide to Doing the Right Thing'), ('FIN-609', 'Asset Pricing'), ('CH-413', 'Nanobiotechnology and biophysics'), ('FIN-401', 'Introduction to finance (IF master and minor only)'), ('MGT-482', 'Principles of finance')]\n",
      "\n",
      "\n",
      "For topic  10 :\n",
      "[('ChE-311', 'Biochemical engineering'), ('EE-616', 'IEEE Sensors Council Summer School on Nano-Bio-Sensing'), ('MSE-646', 'CCMX Winter School - Metal Science'), ('EE-532', 'Integrated circuits technology'), ('MICRO-432', 'Microelectronics'), ('BIO-622', 'Practical - Lingner Lab'), ('ChE-437', 'Bioprocesses and downstream processing'), ('EE-606', 'Nanocomputing: Devices, Circuits and Architectures'), ('EE-535', 'Nanoelectronics'), ('MICRO-611', 'Nanoscale MOSFETs and beyond CMOS devices')]\n",
      "\n",
      "\n"
     ]
    }
   ],
   "source": [
    "for v in range(1, 11):\n",
    "    top_courses = []\n",
    "    indexes = np.argsort(U[:,-v])[-10:]\n",
    "    for i in indexes:\n",
    "        for courseId, index in course2index.items():\n",
    "            if index == i:\n",
    "                top_courses.append((courseId,courses[index][\"name\"]))\n",
    "    print('For topic ', v, ':')\n",
    "    print(top_courses)\n",
    "    print('\\n')"
   ]
  },
  {
   "cell_type": "markdown",
   "metadata": {},
   "source": [
    "We can then \"label\" the 10 topics from the informations taken from U and V_t (courses and terms) :\n",
    "\n",
    "Topic 1 : Climate and energy\n",
    "\n",
    "Topic 2 : Lab immersion / Bioengineering\n",
    "\n",
    "Topic 3 : Biotechnology\n",
    "\n",
    "Topic 4 : Projects\n",
    "\n",
    "Topic 5 : Architecture\n",
    "\n",
    "Topic 6 : Biology\n",
    "\n",
    "Topic 7 : Finance\n",
    "\n",
    "Topic 8 : Machine Learning - Artificial Intelligence\n",
    "\n",
    "Topic 9 : Finance theory\n",
    "\n",
    "Topic 10 : Bioelectronics"
   ]
  },
  {
   "cell_type": "markdown",
   "metadata": {},
   "source": [
    "## Exercise 4.6: Document similarity search in concept-space"
   ]
  },
  {
   "cell_type": "code",
   "execution_count": 12,
   "metadata": {},
   "outputs": [],
   "source": [
    "def sim(U_t,V_d):\n",
    "    Sig = np.diag(S)\n",
    "    return ((np.dot(U_t, np.dot(Sig, V_d)))/(np.linalg.norm(U_t) * np.linalg.norm(np.dot(S, V_d))))"
   ]
  },
  {
   "cell_type": "code",
   "execution_count": 27,
   "metadata": {},
   "outputs": [],
   "source": [
    "def search(term):\n",
    "    results = np.zeros(len(courses))\n",
    "    for terms in term.split():\n",
    "        t = word2index[terms]\n",
    "        V_d = V_t[:,t]\n",
    "        for d, i in course2index.items():\n",
    "            U_t = U[i]\n",
    "            results[i] += sim(U_t, V_d)\n",
    "    top_5 = np.argsort(results)[::-1][0:5]\n",
    "    for top in top_5:\n",
    "        for course, index in course2index.items():\n",
    "            if index == top:\n",
    "                print(course, courses[index][\"name\"], results[index])"
   ]
  },
  {
   "cell_type": "code",
   "execution_count": 28,
   "metadata": {},
   "outputs": [
    {
     "name": "stdout",
     "output_type": "stream",
     "text": [
      "COM-516 Markov chains and algorithmic applications 3.244641440942266\n",
      "MGT-484 Applied probability & stochastic processes 3.221051698608126\n",
      "MATH-332 Applied stochastic processes 3.1718456268851747\n",
      "EE-605 Statistical Sequence Processing 2.0175325733666796\n",
      "COM-512 Networks out of control 1.7203296404840267\n"
     ]
    }
   ],
   "source": [
    "search('markov chains')"
   ]
  },
  {
   "cell_type": "markdown",
   "metadata": {},
   "source": [
    "All courses seems pretty relevant, with really decent scores, and most of them are the same as in the previous section."
   ]
  },
  {
   "cell_type": "code",
   "execution_count": 29,
   "metadata": {},
   "outputs": [
    {
     "name": "stdout",
     "output_type": "stream",
     "text": [
      "EE-727 Computational Social Media 1.125913852505279\n",
      "EE-593 Social media 0.8663649477410287\n",
      "CS-622 Privacy Protection 0.4288917563976208\n",
      "EE-552 Media security 0.3963143712998568\n",
      "CS-423 Distributed information systems 0.3364855446809766\n"
     ]
    }
   ],
   "source": [
    "search('facebook')"
   ]
  },
  {
   "cell_type": "markdown",
   "metadata": {},
   "source": [
    "Here we get 5 courses, even tho facebook appears only once, this method allows to get more results, but we see that the similarity score is much lower than in the previous section. Also, the \"best\" course is the same in both cases."
   ]
  },
  {
   "cell_type": "markdown",
   "metadata": {},
   "source": [
    "## Exercise 4.7: Document-document similarity"
   ]
  },
  {
   "cell_type": "markdown",
   "metadata": {},
   "source": [
    "To compute the document-document similarity, we will use the cosine similarity :"
   ]
  },
  {
   "cell_type": "code",
   "execution_count": 16,
   "metadata": {},
   "outputs": [],
   "source": [
    "def cosine_similarity(doc1, doc2):\n",
    "    Sig = np.diag(S)\n",
    "    d1 = np.dot(Sig,U[doc1])\n",
    "    d2 = np.dot(Sig,U[doc2])\n",
    "    return (np.dot(d1, d2)/(np.linalg.norm(d1) * np.linalg.norm(d2)))"
   ]
  },
  {
   "cell_type": "code",
   "execution_count": 17,
   "metadata": {},
   "outputs": [],
   "source": [
    "COM308 = course2index['COM-308']"
   ]
  },
  {
   "cell_type": "code",
   "execution_count": 18,
   "metadata": {},
   "outputs": [],
   "source": [
    "all_other_courses_index = [index for course, index in course2index.items() if not index == COM308]"
   ]
  },
  {
   "cell_type": "code",
   "execution_count": 19,
   "metadata": {},
   "outputs": [],
   "source": [
    "similar = np.array(list(map(lambda d: cosine_similarity(COM308,d), all_other_courses_index)))"
   ]
  },
  {
   "cell_type": "code",
   "execution_count": 21,
   "metadata": {},
   "outputs": [],
   "source": [
    "top = np.argsort(-similar)[:5]"
   ]
  },
  {
   "cell_type": "code",
   "execution_count": 22,
   "metadata": {},
   "outputs": [
    {
     "name": "stdout",
     "output_type": "stream",
     "text": [
      "Top 5 courses similar to COM-308 :\n",
      "ENG-430 Risk management\n",
      "MATH-470 Martingales in financial mathematics\n",
      "MGT-409 D. Thinking: real problems, human-focused solutions\n",
      "MATH-726(2) Working group in Topology II\n",
      "CS-452 Foundations of software\n"
     ]
    }
   ],
   "source": [
    "print(\"Top 5 courses similar to COM-308 :\")\n",
    "for i in top:\n",
    "        for course, index in course2index.items():\n",
    "            if index == i:\n",
    "                print(course, courses[index][\"name\"])"
   ]
  }
 ],
 "metadata": {
  "kernelspec": {
   "display_name": "Python 3",
   "language": "python",
   "name": "python3"
  },
  "language_info": {
   "codemirror_mode": {
    "name": "ipython",
    "version": 3
   },
   "file_extension": ".py",
   "mimetype": "text/x-python",
   "name": "python",
   "nbconvert_exporter": "python",
   "pygments_lexer": "ipython3",
   "version": "3.7.1"
  },
  "varInspector": {
   "cols": {
    "lenName": 16,
    "lenType": 16,
    "lenVar": 40
   },
   "kernels_config": {
    "python": {
     "delete_cmd_postfix": "",
     "delete_cmd_prefix": "del ",
     "library": "var_list.py",
     "varRefreshCmd": "print(var_dic_list())"
    },
    "r": {
     "delete_cmd_postfix": ") ",
     "delete_cmd_prefix": "rm(",
     "library": "var_list.r",
     "varRefreshCmd": "cat(var_dic_list()) "
    }
   },
   "types_to_exclude": [
    "module",
    "function",
    "builtin_function_or_method",
    "instance",
    "_Feature"
   ],
   "window_display": false
  }
 },
 "nbformat": 4,
 "nbformat_minor": 2
}
