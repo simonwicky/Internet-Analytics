<!DOCTYPE html>

<html  dir="ltr" lang="en" xml:lang="en">
<head>
    <title>COM-308</title>
    <link rel="shortcut icon" href="https://moodle.epfl.ch/theme/image.php/epfl/theme/1550067298/favicon" />
    <meta http-equiv="Content-Type" content="text/html; charset=utf-8" />
<meta name="keywords" content="moodle, COM-308" />
<link rel="stylesheet" type="text/css" href="https://moodle.epfl.ch/theme/yui_combo.php?rollup/3.17.2/yui-moodlesimple-min.css" /><script id="firstthemesheet" type="text/css">/** Required in order to fix style inclusion problems in IE with YUI **/</script><link rel="stylesheet" type="text/css" href="https://moodle.epfl.ch/theme/styles.php/epfl/1550067298_1549557040/all" />
<script type="text/javascript">
//<![CDATA[
var M = {}; M.yui = {};
M.pageloadstarttime = new Date();
M.cfg = {"wwwroot":"https:\/\/moodle.epfl.ch","sesskey":"CQiHS2wvWd","themerev":"1550067298","slasharguments":1,"theme":"epfl","iconsystemmodule":"core\/icon_system_fontawesome","jsrev":"1550067298","admin":"admin","svgicons":true,"usertimezone":"Europe\/Zurich","contextid":1518802};var yui1ConfigFn = function(me) {if(/-skin|reset|fonts|grids|base/.test(me.name)){me.type='css';me.path=me.path.replace(/\.js/,'.css');me.path=me.path.replace(/\/yui2-skin/,'/assets/skins/sam/yui2-skin')}};
var yui2ConfigFn = function(me) {var parts=me.name.replace(/^moodle-/,'').split('-'),component=parts.shift(),module=parts[0],min='-min';if(/-(skin|core)$/.test(me.name)){parts.pop();me.type='css';min=''}
if(module){var filename=parts.join('-');me.path=component+'/'+module+'/'+filename+min+'.'+me.type}else{me.path=component+'/'+component+'.'+me.type}};
YUI_config = {"debug":false,"base":"https:\/\/moodle.epfl.ch\/lib\/yuilib\/3.17.2\/","comboBase":"https:\/\/moodle.epfl.ch\/theme\/yui_combo.php?","combine":true,"filter":null,"insertBefore":"firstthemesheet","groups":{"yui2":{"base":"https:\/\/moodle.epfl.ch\/lib\/yuilib\/2in3\/2.9.0\/build\/","comboBase":"https:\/\/moodle.epfl.ch\/theme\/yui_combo.php?","combine":true,"ext":false,"root":"2in3\/2.9.0\/build\/","patterns":{"yui2-":{"group":"yui2","configFn":yui1ConfigFn}}},"moodle":{"name":"moodle","base":"https:\/\/moodle.epfl.ch\/theme\/yui_combo.php?m\/1550067298\/","combine":true,"comboBase":"https:\/\/moodle.epfl.ch\/theme\/yui_combo.php?","ext":false,"root":"m\/1550067298\/","patterns":{"moodle-":{"group":"moodle","configFn":yui2ConfigFn}},"filter":null,"modules":{"moodle-core-tooltip":{"requires":["base","node","io-base","moodle-core-notification-dialogue","json-parse","widget-position","widget-position-align","event-outside","cache-base"]},"moodle-core-maintenancemodetimer":{"requires":["base","node"]},"moodle-core-popuphelp":{"requires":["moodle-core-tooltip"]},"moodle-core-chooserdialogue":{"requires":["base","panel","moodle-core-notification"]},"moodle-core-handlebars":{"condition":{"trigger":"handlebars","when":"after"}},"moodle-core-dragdrop":{"requires":["base","node","io","dom","dd","event-key","event-focus","moodle-core-notification"]},"moodle-core-actionmenu":{"requires":["base","event","node-event-simulate"]},"moodle-core-formchangechecker":{"requires":["base","event-focus","moodle-core-event"]},"moodle-core-event":{"requires":["event-custom"]},"moodle-core-notification":{"requires":["moodle-core-notification-dialogue","moodle-core-notification-alert","moodle-core-notification-confirm","moodle-core-notification-exception","moodle-core-notification-ajaxexception"]},"moodle-core-notification-dialogue":{"requires":["base","node","panel","escape","event-key","dd-plugin","moodle-core-widget-focusafterclose","moodle-core-lockscroll"]},"moodle-core-notification-alert":{"requires":["moodle-core-notification-dialogue"]},"moodle-core-notification-confirm":{"requires":["moodle-core-notification-dialogue"]},"moodle-core-notification-exception":{"requires":["moodle-core-notification-dialogue"]},"moodle-core-notification-ajaxexception":{"requires":["moodle-core-notification-dialogue"]},"moodle-core-languninstallconfirm":{"requires":["base","node","moodle-core-notification-confirm","moodle-core-notification-alert"]},"moodle-core-checknet":{"requires":["base-base","moodle-core-notification-alert","io-base"]},"moodle-core-blocks":{"requires":["base","node","io","dom","dd","dd-scroll","moodle-core-dragdrop","moodle-core-notification"]},"moodle-core-dock":{"requires":["base","node","event-custom","event-mouseenter","event-resize","escape","moodle-core-dock-loader","moodle-core-event"]},"moodle-core-dock-loader":{"requires":["escape"]},"moodle-core-lockscroll":{"requires":["plugin","base-build"]},"moodle-core_availability-form":{"requires":["base","node","event","event-delegate","panel","moodle-core-notification-dialogue","json"]},"moodle-backup-confirmcancel":{"requires":["node","node-event-simulate","moodle-core-notification-confirm"]},"moodle-backup-backupselectall":{"requires":["node","event","node-event-simulate","anim"]},"moodle-course-dragdrop":{"requires":["base","node","io","dom","dd","dd-scroll","moodle-core-dragdrop","moodle-core-notification","moodle-course-coursebase","moodle-course-util"]},"moodle-course-formatchooser":{"requires":["base","node","node-event-simulate"]},"moodle-course-util":{"requires":["node"],"use":["moodle-course-util-base"],"submodules":{"moodle-course-util-base":{},"moodle-course-util-section":{"requires":["node","moodle-course-util-base"]},"moodle-course-util-cm":{"requires":["node","moodle-course-util-base"]}}},"moodle-course-modchooser":{"requires":["moodle-core-chooserdialogue","moodle-course-coursebase"]},"moodle-course-categoryexpander":{"requires":["node","event-key"]},"moodle-course-management":{"requires":["base","node","io-base","moodle-core-notification-exception","json-parse","dd-constrain","dd-proxy","dd-drop","dd-delegate","node-event-delegate"]},"moodle-form-shortforms":{"requires":["node","base","selector-css3","moodle-core-event"]},"moodle-form-dateselector":{"requires":["base","node","overlay","calendar"]},"moodle-form-showadvanced":{"requires":["node","base","selector-css3"]},"moodle-form-passwordunmask":{"requires":[]},"moodle-question-chooser":{"requires":["moodle-core-chooserdialogue"]},"moodle-question-searchform":{"requires":["base","node"]},"moodle-question-qbankmanager":{"requires":["node","selector-css3"]},"moodle-question-preview":{"requires":["base","dom","event-delegate","event-key","core_question_engine"]},"moodle-availability_completion-form":{"requires":["base","node","event","moodle-core_availability-form"]},"moodle-availability_date-form":{"requires":["base","node","event","io","moodle-core_availability-form"]},"moodle-availability_grade-form":{"requires":["base","node","event","moodle-core_availability-form"]},"moodle-availability_group-form":{"requires":["base","node","event","moodle-core_availability-form"]},"moodle-availability_grouping-form":{"requires":["base","node","event","moodle-core_availability-form"]},"moodle-availability_profile-form":{"requires":["base","node","event","moodle-core_availability-form"]},"moodle-qtype_ddimageortext-dd":{"requires":["node","dd","dd-drop","dd-constrain"]},"moodle-qtype_ddimageortext-form":{"requires":["moodle-qtype_ddimageortext-dd","form_filepicker"]},"moodle-qtype_ddmarker-dd":{"requires":["node","event-resize","dd","dd-drop","dd-constrain","graphics"]},"moodle-qtype_ddmarker-form":{"requires":["moodle-qtype_ddmarker-dd","form_filepicker","graphics","escape"]},"moodle-qtype_ddwtos-dd":{"requires":["node","dd","dd-drop","dd-constrain"]},"moodle-mod_assign-history":{"requires":["node","transition"]},"moodle-mod_forum-subscriptiontoggle":{"requires":["base-base","io-base"]},"moodle-mod_quiz-quizbase":{"requires":["base","node"]},"moodle-mod_quiz-toolboxes":{"requires":["base","node","event","event-key","io","moodle-mod_quiz-quizbase","moodle-mod_quiz-util-slot","moodle-core-notification-ajaxexception"]},"moodle-mod_quiz-dragdrop":{"requires":["base","node","io","dom","dd","dd-scroll","moodle-core-dragdrop","moodle-core-notification","moodle-mod_quiz-quizbase","moodle-mod_quiz-util-base","moodle-mod_quiz-util-page","moodle-mod_quiz-util-slot","moodle-course-util"]},"moodle-mod_quiz-repaginate":{"requires":["base","event","node","io","moodle-core-notification-dialogue"]},"moodle-mod_quiz-modform":{"requires":["base","node","event"]},"moodle-mod_quiz-util":{"requires":["node","moodle-core-actionmenu"],"use":["moodle-mod_quiz-util-base"],"submodules":{"moodle-mod_quiz-util-base":{},"moodle-mod_quiz-util-slot":{"requires":["node","moodle-mod_quiz-util-base"]},"moodle-mod_quiz-util-page":{"requires":["node","moodle-mod_quiz-util-base"]}}},"moodle-mod_quiz-autosave":{"requires":["base","node","event","event-valuechange","node-event-delegate","io-form"]},"moodle-mod_quiz-questionchooser":{"requires":["moodle-core-chooserdialogue","moodle-mod_quiz-util","querystring-parse"]},"moodle-mod_scheduler-delselected":{"requires":["base","node","event"]},"moodle-mod_scheduler-studentlist":{"requires":["base","node","event","io"]},"moodle-mod_scheduler-saveseen":{"requires":["base","node","event"]},"moodle-message_airnotifier-toolboxes":{"requires":["base","node","io"]},"moodle-filter_glossary-autolinker":{"requires":["base","node","io-base","json-parse","event-delegate","overlay","moodle-core-event","moodle-core-notification-alert","moodle-core-notification-exception","moodle-core-notification-ajaxexception"]},"moodle-filter_mathjaxloader-loader":{"requires":["moodle-core-event"]},"moodle-editor_atto-rangy":{"requires":[]},"moodle-editor_atto-editor":{"requires":["node","transition","io","overlay","escape","event","event-simulate","event-custom","node-event-html5","node-event-simulate","yui-throttle","moodle-core-notification-dialogue","moodle-core-notification-confirm","moodle-editor_atto-rangy","handlebars","timers","querystring-stringify"]},"moodle-editor_atto-plugin":{"requires":["node","base","escape","event","event-outside","handlebars","event-custom","timers","moodle-editor_atto-menu"]},"moodle-editor_atto-menu":{"requires":["moodle-core-notification-dialogue","node","event","event-custom"]},"moodle-report_eventlist-eventfilter":{"requires":["base","event","node","node-event-delegate","datatable","autocomplete","autocomplete-filters"]},"moodle-report_loglive-fetchlogs":{"requires":["base","event","node","io","node-event-delegate"]},"moodle-gradereport_grader-gradereporttable":{"requires":["base","node","event","handlebars","overlay","event-hover"]},"moodle-gradereport_history-userselector":{"requires":["escape","event-delegate","event-key","handlebars","io-base","json-parse","moodle-core-notification-dialogue"]},"moodle-tool_capability-search":{"requires":["base","node"]},"moodle-tool_lp-dragdrop-reorder":{"requires":["moodle-core-dragdrop"]},"moodle-tool_monitor-dropdown":{"requires":["base","event","node"]},"moodle-assignfeedback_editpdf-editor":{"requires":["base","event","node","io","graphics","json","event-move","event-resize","transition","querystring-stringify-simple","moodle-core-notification-dialog","moodle-core-notification-alert","moodle-core-notification-exception","moodle-core-notification-ajaxexception"]},"moodle-atto_accessibilitychecker-button":{"requires":["color-base","moodle-editor_atto-plugin"]},"moodle-atto_accessibilityhelper-button":{"requires":["moodle-editor_atto-plugin"]},"moodle-atto_align-button":{"requires":["moodle-editor_atto-plugin"]},"moodle-atto_bold-button":{"requires":["moodle-editor_atto-plugin"]},"moodle-atto_charmap-button":{"requires":["moodle-editor_atto-plugin"]},"moodle-atto_clear-button":{"requires":["moodle-editor_atto-plugin"]},"moodle-atto_collapse-button":{"requires":["moodle-editor_atto-plugin"]},"moodle-atto_emoticon-button":{"requires":["moodle-editor_atto-plugin"]},"moodle-atto_equation-button":{"requires":["moodle-editor_atto-plugin","moodle-core-event","io","event-valuechange","tabview","array-extras"]},"moodle-atto_fullscreen-button":{"requires":["event-resize","moodle-editor_atto-plugin"]},"moodle-atto_html-button":{"requires":["moodle-editor_atto-plugin","event-valuechange"]},"moodle-atto_image-button":{"requires":["moodle-editor_atto-plugin"]},"moodle-atto_indent-button":{"requires":["moodle-editor_atto-plugin"]},"moodle-atto_italic-button":{"requires":["moodle-editor_atto-plugin"]},"moodle-atto_link-button":{"requires":["moodle-editor_atto-plugin"]},"moodle-atto_managefiles-usedfiles":{"requires":["node","escape"]},"moodle-atto_managefiles-button":{"requires":["moodle-editor_atto-plugin"]},"moodle-atto_media-button":{"requires":["moodle-editor_atto-plugin","moodle-form-shortforms"]},"moodle-atto_noautolink-button":{"requires":["moodle-editor_atto-plugin"]},"moodle-atto_orderedlist-button":{"requires":["moodle-editor_atto-plugin"]},"moodle-atto_recordrtc-recording":{"requires":["moodle-atto_recordrtc-button"]},"moodle-atto_recordrtc-button":{"requires":["moodle-editor_atto-plugin","moodle-atto_recordrtc-recording"]},"moodle-atto_rtl-button":{"requires":["moodle-editor_atto-plugin"]},"moodle-atto_strike-button":{"requires":["moodle-editor_atto-plugin"]},"moodle-atto_subscript-button":{"requires":["moodle-editor_atto-plugin"]},"moodle-atto_superscript-button":{"requires":["moodle-editor_atto-plugin"]},"moodle-atto_table-button":{"requires":["moodle-editor_atto-plugin","moodle-editor_atto-menu","event","event-valuechange"]},"moodle-atto_title-button":{"requires":["moodle-editor_atto-plugin"]},"moodle-atto_underline-button":{"requires":["moodle-editor_atto-plugin"]},"moodle-atto_undo-button":{"requires":["moodle-editor_atto-plugin"]},"moodle-atto_unorderedlist-button":{"requires":["moodle-editor_atto-plugin"]}}},"gallery":{"name":"gallery","base":"https:\/\/moodle.epfl.ch\/lib\/yuilib\/gallery\/","combine":true,"comboBase":"https:\/\/moodle.epfl.ch\/theme\/yui_combo.php?","ext":false,"root":"gallery\/1550067298\/","patterns":{"gallery-":{"group":"gallery"}}}},"modules":{"core_filepicker":{"name":"core_filepicker","fullpath":"https:\/\/moodle.epfl.ch\/lib\/javascript.php\/1550067298\/repository\/filepicker.js","requires":["base","node","node-event-simulate","json","async-queue","io-base","io-upload-iframe","io-form","yui2-treeview","panel","cookie","datatable","datatable-sort","resize-plugin","dd-plugin","escape","moodle-core_filepicker","moodle-core-notification-dialogue"]},"core_comment":{"name":"core_comment","fullpath":"https:\/\/moodle.epfl.ch\/lib\/javascript.php\/1550067298\/comment\/comment.js","requires":["base","io-base","node","json","yui2-animation","overlay","escape"]},"mathjax":{"name":"mathjax","fullpath":"https:\/\/cdnjs.cloudflare.com\/ajax\/libs\/mathjax\/2.7.2\/MathJax.js?delayStartupUntil=configured"}}};
M.yui.loader = {modules: {}};

//]]>
</script>
<link href="https://fonts.googleapis.com/css?family=Open+Sans:400,400i,700,700i" rel="stylesheet"/>

    <meta name="viewport" content="width=device-width, initial-scale=1.0">
</head>
<body  id="page-enrol-index" class="format-weeks  path-enrol dir-ltr lang-en yui-skin-sam yui3-skin-sam moodle-epfl-ch pagelayout-incourse course-13833 context-1518802 category-60 category-53 drawer-open-left">

<div id="page-wrapper">

    <div>
    <a class="sr-only sr-only-focusable" href="#maincontent">Skip to main content</a>
</div><script type="text/javascript" src="https://moodle.epfl.ch/theme/yui_combo.php?rollup/3.17.2/yui-moodlesimple-min.js"></script><script type="text/javascript" src="https://moodle.epfl.ch/lib/javascript.php/1550067298/lib/javascript-static.js"></script>
<script type="text/javascript">
//<![CDATA[
document.body.className += ' jsenabled';
//]]>
</script>



    <nav class="fixed-top navbar navbar-light bg-white navbar-expand moodle-has-zindex">
        <header role="banner" class="header header-light">
    
            <div data-region="drawer-toggle" class="drawer d-inline-block">
                <button aria-expanded="true"
                        aria-controls="nav-drawer"
                        type="button"
                        class="drawer-toggle"
                        data-action="toggle-drawer"
                        data-side="left"
                        data-preference="drawer-open-nav"
                        >
                    <svg class="icon" aria-hidden="true"><use xlink:href="#icon-chevron-right"></use></svg>
                </button>
                <a href="https://www.epfl.ch/" class="drawer-link open">
                  <span class="text">Go to main site</span>
                </a>
            </div>
    
            <div class="header-light-content">
                <a class="logo" href="https://www.epfl.ch/">
                    <img src="https://moodle.epfl.ch/theme/image.php/epfl/theme_epfl/1550067298/epfl-logo" alt="EPFL - École polytechnique fédérale de Lausanne" class="img-fluid">
                </a>
                <h1>Moodle</h1>
    
                <ul class="navbar-nav d-none d-lg-flex">
                    <!-- custom_menu -->
                    <ul class="nav-header">
    <li class="yui3-menuitem"><a class="yui3-menuitem-content" title="About" href="https://information.epfl.ch/presentation">About</a></li>
    <li class="yui3-menuitem"><a class="yui3-menuitem-content" title="Campus" href="https://information.epfl.ch/batiments">Campus</a></li>
    <li class="yui3-menuitem"><a class="yui3-menuitem-content" title="Education" href="https://futuretudiant.epfl.ch/">Education</a></li>
</ul>
                    <!-- page_heading_menu -->
                    
                </ul>
                <ul class="nav navbar-nav ml-auto">
                    <li class="nav-item d-flex align-items-center nav-lang-short">
  <ul>
      <li>
      <a href="https://moodle.epfl.ch/enrol/index.php?id=13833&amp;lang=fr" aria-label="Français ‎(fr)‎">FR</a>
</li>
      <li>
      <span class="active" aria-label="English ‎(en)‎">EN</span>
</li>
      <li>
      <a href="https://moodle.epfl.ch/enrol/index.php?id=13833&amp;lang=de" aria-label="Deutsch ‎(de)‎">DE</a>
</li>
  </ul>
</li>
                    <div class="d-none d-lg-block">
                        
                    </div>
                    <!-- navbar_plugin_output -->
                    <li class="nav-item">
                        
                    </li>
                    <!-- user_menu -->
                    <li class="nav-item d-flex align-items-center">
                        <div class="usermenu"><span class="login">You are currently using guest access (<a href="https://moodle.epfl.ch/login/index.php">Log in</a>)</span></div>
                    </li>
                </ul>
                <!-- search_box -->
            </div>
        </header>
    </nav>

    <div id="page" class="container-fluid">
        <header id="page-header" class="row">
    <div class="col-12 pt-3 pb-3">
        <div class="card">
            <div class="card-body">
                <div class="d-flex">
                    <div class="mr-auto">
                    <div class="page-context-header"><div class="page-header-headings"><h1>Internet Analytics</h1></div></div>
                    </div>

                </div>
                <div class="d-flex flex-wrap">
                    <div id="page-navbar">
                        <nav role="navigation">
    <ol class="breadcrumb">
                <li class="breadcrumb-item">
                    <a href="https://moodle.epfl.ch/" >Home</a>
                </li>
                <li class="breadcrumb-item">
                    <a href="https://moodle.epfl.ch/course/index.php" >Courses</a>
                </li>
                <li class="breadcrumb-item">
                    <a href="https://moodle.epfl.ch/course/index.php?categoryid=53" >Systèmes de communication (SC)</a>
                </li>
                <li class="breadcrumb-item">
                    <a href="https://moodle.epfl.ch/course/index.php?categoryid=60" >Bachelor</a>
                </li>
                <li class="breadcrumb-item">
                    <a href="https://moodle.epfl.ch/course/view.php?id=13833" title="Internet Analytics">COM-308</a>
                </li>
                <li class="breadcrumb-item">Enrolment options</li>
    </ol>
</nav>
                    </div>
                    <div class="ml-auto d-flex">
                        
                    </div>
                    <div id="course-header">
                        
                    </div>
                </div>
            </div>
        </div>
    </div>
</header>

        <div id="page-content" class="row">
            <div id="region-main-box" class="col-12">
                <section id="region-main" >
                    <div class="card">
                        <div class="card-body">
                            <span class="notifications" id="user-notifications"></span>
                            <div role="main"><span id="maincontent"></span><h2>Enrolment options</h2><div class="box generalbox info py-3"><div class="coursebox clearfix" data-courseid="13833" data-type="1"><div class="info"><h3 class="coursename"><a class="" href="https://moodle.epfl.ch/course/view.php?id=13833">COM-308 Internet Analytics</a></h3><div class="moreinfo"></div><div class="enrolmenticons"><i class="icon fa fa-key fa-fw " aria-hidden="true" title="Self enrolment" aria-label="Self enrolment"></i><i class="icon fa fa-key fa-fw " aria-hidden="true" title="Guest access requires password" aria-label="Guest access requires password"></i></div></div><div class="content"><ul class="teachers"><li>Professor: <a href="https://moodle.epfl.ch/user/view.php?id=1876&amp;course=1">Matthias Grossglauser</a></li><li>Teacher: <a href="https://moodle.epfl.ch/user/view.php?id=61121&amp;course=1">Victor Kristof</a></li><li>Teacher: <a href="https://moodle.epfl.ch/user/view.php?id=4648&amp;course=1">Lucas Maystre</a></li><li>Teacher: <a href="https://moodle.epfl.ch/user/view.php?id=219073&amp;course=1">Aswin Suresh</a></li><li>Teacher: <a href="https://moodle.epfl.ch/user/view.php?id=72221&amp;course=1">William Trouleau</a></li></ul></div></div></div><div class="box generalbox py-3">
<form autocomplete="off" action="https://moodle.epfl.ch/login/index.php" method="post" accept-charset="utf-8" id="mform1" class="mform">
	<div style="display: none;"><input name="sesskey" type="hidden" value="CQiHS2wvWd" />
<input name="_qf__enrol_self_empty_form" type="hidden" value="1" />
<input name="mform_isexpanded_id_selfheader" type="hidden" value="1" />
</div>


	<fieldset class="clearfix collapsible"  id="id_selfheader">
		<legend class="ftoggler">Self enrolment (Student)</legend>
		<div class="fcontainer clearfix">
		<div id="fitem_id_info" class="form-group row  fitem femptylabel  " >
    <div class="col-md-3">
        <span class="float-sm-right text-nowrap">
            
            
            
        </span>
        <span class="col-form-label d-inline-block ">
            
        </span>
    </div>
    <div class="col-md-9 form-inline felement" data-fieldtype="static">
        <div class="form-control-static">
        Guests cannot access this course. Please log in.<div class="continuebutton">
    <form method="get" action="https://moodle.epfl.ch/login/index.php" >
        <button type="submit" class="btn btn-primary"
            id="single_button5c7cd98d2301f1"
            title=""
            >Continue</button>
    </form>
</div>
        </div>
        <div class="form-control-feedback invalid-feedback" id="id_error_info" >
            
        </div>
    </div>
</div>
		</div></fieldset>
</form></div><div class="box generalbox py-3">
<form autocomplete="off" action="https://moodle.epfl.ch/enrol/index.php" method="post" accept-charset="utf-8" id="mform2" class="mform">
	<div style="display: none;"><input name="id" type="hidden" value="13833" />
<input name="instance" type="hidden" value="3290" />
<input name="sesskey" type="hidden" value="CQiHS2wvWd" />
<input name="_qf__enrol_guest_enrol_form" type="hidden" value="1" />
<input name="mform_isexpanded_id_guestheader" type="hidden" value="1" />
</div>


	<fieldset class="clearfix collapsible"  id="id_guestheader">
		<legend class="ftoggler">Guest access</legend>
		<div class="fcontainer clearfix">
		<div id="fitem_id_guestpassword" class="form-group row  fitem   " >
    <div class="col-md-3">
        <span class="float-sm-right text-nowrap">
            
            
            
        </span>
        <label class="col-form-label d-inline " for="id_guestpassword">
            Password
        </label>
    </div>
    <div class="col-md-9 form-inline felement" data-fieldtype="password">
        <input type="password"
                class="form-control "
                name="guestpassword"
                id="id_guestpassword"
                value=""
                size=""
 >
        <div class="form-control-feedback invalid-feedback" id="id_error_guestpassword" >
            
        </div>
    </div>
</div>
		</div></fieldset><div id="fitem_id_submitbutton" class="form-group row  fitem femptylabel  " >
    <div class="col-md-3">
        <span class="float-sm-right text-nowrap">
            
            
            
        </span>
        <label class="col-form-label d-inline " for="id_submitbutton">
            
        </label>
    </div>
    <div class="col-md-9 form-inline felement" data-fieldtype="submit">
            <input type="submit"
                class="btn
                    btn-primary
                    
                    "
                name="submitbutton"
                id="id_submitbutton"
                value="Submit"
                 >
        <div class="form-control-feedback invalid-feedback" id="id_error_submitbutton" >
            
        </div>
    </div>
</div>
</form></div></div>
                            
                            
                        </div>
                    </div>
                </section>
            </div>
        </div>
    </div>
    <div id="nav-drawer" data-region="drawer" class="d-print-none moodle-has-zindex " aria-hidden="false" tabindex="-1">
        <nav class="list-group">
            <a class="list-group-item list-group-item-action " href="https://moodle.epfl.ch/course/view.php?id=13833" data-key="coursehome" data-isexpandable="0" data-indent="0" data-showdivider="0" data-type="60" data-nodetype="0" data-collapse="0" data-forceopen="0" data-isactive="0" data-hidden="0" data-preceedwithhr="0" >
                <div class="m-l-0">
                    <div class="media">
                        <span class="media-left">
                            <i class="icon fa fa-graduation-cap fa-fw " aria-hidden="true"  aria-label=""></i>
                        </span>
                        <span class="media-body ">COM-308</span>
                    </div>
                </div>
            </a>
        </nav>
        <nav class="list-group m-t-1">
            <a class="list-group-item list-group-item-action " href="https://moodle.epfl.ch/" data-key="home" data-isexpandable="0" data-indent="0" data-showdivider="1" data-type="1" data-nodetype="1" data-collapse="0" data-forceopen="1" data-isactive="0" data-hidden="0" data-preceedwithhr="0" >
                <div class="m-l-0">
                    <div class="media">
                        <span class="media-left">
                            <i class="icon fa fa-home fa-fw " aria-hidden="true"  aria-label=""></i>
                        </span>
                        <span class="media-body ">Home</span>
                    </div>
                </div>
            </a>
            <a class="list-group-item list-group-item-action " href="https://moodle.epfl.ch/calendar/view.php?view=month&amp;course=13833" data-key="calendar" data-isexpandable="0" data-indent="0" data-showdivider="0" data-type="60" data-nodetype="0" data-collapse="0" data-forceopen="0" data-isactive="0" data-hidden="0" data-preceedwithhr="0" data-parent-key="1">
                <div class="m-l-0">
                    <div class="media">
                        <span class="media-left">
                            <i class="icon fa fa-calendar fa-fw " aria-hidden="true"  aria-label=""></i>
                        </span>
                        <span class="media-body ">Calendar</span>
                    </div>
                </div>
            </a>
        </nav>
    </div>
</div>

<footer id="page-footer"><script type="text/javascript">
//<![CDATA[
var require = {
    baseUrl : 'https://moodle.epfl.ch/lib/requirejs.php/1550067298/',
    // We only support AMD modules with an explicit define() statement.
    enforceDefine: true,
    skipDataMain: true,
    waitSeconds : 0,

    paths: {
        jquery: 'https://moodle.epfl.ch/lib/javascript.php/1550067298/lib/jquery/jquery-3.2.1.min',
        jqueryui: 'https://moodle.epfl.ch/lib/javascript.php/1550067298/lib/jquery/ui-1.12.1/jquery-ui.min',
        jqueryprivate: 'https://moodle.epfl.ch/lib/javascript.php/1550067298/lib/requirejs/jquery-private'
    },

    // Custom jquery config map.
    map: {
      // '*' means all modules will get 'jqueryprivate'
      // for their 'jquery' dependency.
      '*': { jquery: 'jqueryprivate' },
      // Stub module for 'process'. This is a workaround for a bug in MathJax (see MDL-60458).
      '*': { process: 'core/first' },

      // 'jquery-private' wants the real jQuery module
      // though. If this line was not here, there would
      // be an unresolvable cyclic dependency.
      jqueryprivate: { jquery: 'jquery' }
    }
};

//]]>
</script>
<script type="text/javascript" src="https://moodle.epfl.ch/lib/javascript.php/1550067298/lib/requirejs/require.min.js"></script>
<script type="text/javascript">
//<![CDATA[
require(['core/first'], function() {
;
require(["media_videojs/loader"], function(loader) {
    loader.setUp(function(videojs) {
        videojs.options.flash.swf = "https://moodle.epfl.ch/media/player/videojs/videojs/video-js.swf";
videojs.addLanguage("en",{
 "Audio Player": "Audio Player",
 "Video Player": "Video Player",
 "Play": "Play",
 "Pause": "Pause",
 "Replay": "Replay",
 "Current Time": "Current Time",
 "Duration Time": "Duration Time",
 "Remaining Time": "Remaining Time",
 "Stream Type": "Stream Type",
 "LIVE": "LIVE",
 "Loaded": "Loaded",
 "Progress": "Progress",
 "Progress Bar": "Progress Bar",
 "progress bar timing: currentTime={1} duration={2}": "{1} of {2}",
 "Fullscreen": "Fullscreen",
 "Non-Fullscreen": "Non-Fullscreen",
 "Mute": "Mute",
 "Unmute": "Unmute",
 "Playback Rate": "Playback Rate",
 "Subtitles": "Subtitles",
 "subtitles off": "subtitles off",
 "Captions": "Captions",
 "captions off": "captions off",
 "Chapters": "Chapters",
 "Descriptions": "Descriptions",
 "descriptions off": "descriptions off",
 "Audio Track": "Audio Track",
 "Volume Level": "Volume Level",
 "You aborted the media playback": "You aborted the media playback",
 "A network error caused the media download to fail part-way.": "A network error caused the media download to fail part-way.",
 "The media could not be loaded, either because the server or network failed or because the format is not supported.": "The media could not be loaded, either because the server or network failed or because the format is not supported.",
 "The media playback was aborted due to a corruption problem or because the media used features your browser did not support.": "The media playback was aborted due to a corruption problem or because the media used features your browser did not support.",
 "No compatible source was found for this media.": "No compatible source was found for this media.",
 "The media is encrypted and we do not have the keys to decrypt it.": "The media is encrypted and we do not have the keys to decrypt it.",
 "Play Video": "Play Video",
 "Close": "Close",
 "Close Modal Dialog": "Close Modal Dialog",
 "Modal Window": "Modal Window",
 "This is a modal window": "This is a modal window",
 "This modal can be closed by pressing the Escape key or activating the close button.": "This modal can be closed by pressing the Escape key or activating the close button.",
 ", opens captions settings dialog": ", opens captions settings dialog",
 ", opens subtitles settings dialog": ", opens subtitles settings dialog",
 ", opens descriptions settings dialog": ", opens descriptions settings dialog",
 ", selected": ", selected",
 "captions settings": "captions settings",
 "subtitles settings": "subititles settings",
 "descriptions settings": "descriptions settings",
 "Text": "Text",
 "White": "White",
 "Black": "Black",
 "Red": "Red",
 "Green": "Green",
 "Blue": "Blue",
 "Yellow": "Yellow",
 "Magenta": "Magenta",
 "Cyan": "Cyan",
 "Background": "Background",
 "Window": "Window",
 "Transparent": "Transparent",
 "Semi-Transparent": "Semi-Transparent",
 "Opaque": "Opaque",
 "Font Size": "Font Size",
 "Text Edge Style": "Text Edge Style",
 "None": "None",
 "Raised": "Raised",
 "Depressed": "Depressed",
 "Uniform": "Uniform",
 "Dropshadow": "Dropshadow",
 "Font Family": "Font Family",
 "Proportional Sans-Serif": "Proportional Sans-Serif",
 "Monospace Sans-Serif": "Monospace Sans-Serif",
 "Proportional Serif": "Proportional Serif",
 "Monospace Serif": "Monospace Serif",
 "Casual": "Casual",
 "Script": "Script",
 "Small Caps": "Small Caps",
 "Reset": "Reset",
 "restore all settings to the default values": "restore all settings to the default values",
 "Done": "Done",
 "Caption Settings Dialog": "Caption Settings Dialog",
 "Beginning of dialog window. Escape will cancel and close the window.": "Beginning of dialog window. Escape will cancel and close the window.",
 "End of dialog window.": "End of dialog window."
});

    });
});;

require(['theme_boost/form-display-errors'], function(module) {
    module.enhance("id_info");
});
;

require(['theme_boost/form-display-errors'], function(module) {
    module.enhance("id_guestpassword");
});
;

require(['theme_boost/form-display-errors'], function(module) {
    module.enhance("id_submitbutton");
});
;
function legacy_activity_onclick_handler_1(e) { e.halt(); window.open('https://moodle.epfl.ch/mod/url/view.php?id=13541&redirect=1'); return false; };
function legacy_activity_onclick_handler_2(e) { e.halt(); window.open('https://moodle.epfl.ch/mod/url/view.php?id=13542&redirect=1'); return false; };
function legacy_activity_onclick_handler_3(e) { e.halt(); window.open('https://moodle.epfl.ch/mod/url/view.php?id=13544&redirect=1', '', 'width=1024,height=768,toolbar=no,location=no,menubar=no,copyhistory=no,status=no,directories=no,scrollbars=yes,resizable=yes'); return false; };
function legacy_activity_onclick_handler_4(e) { e.halt(); window.open('https://moodle.epfl.ch/mod/url/view.php?id=13545&redirect=1', '', 'width=1024,height=768,toolbar=no,location=no,menubar=no,copyhistory=no,status=no,directories=no,scrollbars=yes,resizable=yes'); return false; };
function legacy_activity_onclick_handler_5(e) { e.halt(); window.open('https://moodle.epfl.ch/mod/url/view.php?id=835948&redirect=1'); return false; };
function legacy_activity_onclick_handler_6(e) { e.halt(); window.open('https://moodle.epfl.ch/mod/url/view.php?id=600101&redirect=1', '', 'width=1024,height=768,toolbar=no,location=no,menubar=no,copyhistory=no,status=no,directories=no,scrollbars=yes,resizable=yes'); return false; };
function legacy_activity_onclick_handler_7(e) { e.halt(); window.open('https://moodle.epfl.ch/mod/url/view.php?id=413071&redirect=1', '', 'width=1280,height=800,toolbar=no,location=no,menubar=no,copyhistory=no,status=no,directories=no,scrollbars=yes,resizable=yes'); return false; };
function legacy_activity_onclick_handler_8(e) { e.halt(); window.open('https://moodle.epfl.ch/mod/url/view.php?id=263331&redirect=1', '', 'width=1280,height=800,toolbar=no,location=no,menubar=no,copyhistory=no,status=no,directories=no,scrollbars=yes,resizable=yes'); return false; };

    (function(i,s,o,g,r,a,m){i['GoogleAnalyticsObject']=r;i[r]=i[r]||function(){
    (i[r].q=i[r].q||[]).push(arguments)},i[r].l=1*new Date();a=s.createElement(o),
    m=s.getElementsByTagName(o)[0];a.async=1;a.src=g;m.parentNode.insertBefore(a,m)
    })(window,document,'script','//www.google-analytics.com/analytics.js','ga');
    ga('create', 'UA-22825382-4', {'siteSpeedSampleRate': 50});
    ga('send', {'hitType' : 'pageview',
                'page' : '/Syst%C3%A8mes+de+communication+%28SC%29/Bachelor/Internet+Analytics/View',
                'title' : 'Internet Analytics'
                });
;

require(['theme_boost/loader']);
require(['theme_boost/drawer'], function(mod) {
    mod.init();
});
;
require(["core/notification"], function(amd) { amd.init(1518802, []); });;
require(["core/log"], function(amd) { amd.setConfig({"level":"warn"}); });
});
//]]>
</script>
<script type="text/javascript">
//<![CDATA[
M.str = {"moodle":{"lastmodified":"Last modified","name":"Name","error":"Error","info":"Information","yes":"Yes","no":"No","changesmadereallygoaway":"You have made changes. Are you sure you want to navigate away and lose your changes?","cancel":"Cancel","confirm":"Confirm","areyousure":"Are you sure?","closebuttontitle":"Close","unknownerror":"Unknown error"},"repository":{"type":"Type","size":"Size","invalidjson":"Invalid JSON string","nofilesattached":"No files attached","filepicker":"File picker","logout":"Logout","nofilesavailable":"No files available","norepositoriesavailable":"Sorry, none of your current repositories can return files in the required format.","fileexistsdialogheader":"File exists","fileexistsdialog_editor":"A file with that name has already been attached to the text you are editing.","fileexistsdialog_filemanager":"A file with that name has already been attached","renameto":"Rename to \"{$a}\"","referencesexist":"There are {$a} alias\/shortcut files that use this file as their source","select":"Select"},"admin":{"confirmdeletecomments":"You are about to delete comments, are you sure?","confirmation":"Confirmation"}};
//]]>
</script>
<script type="text/javascript">
//<![CDATA[
(function() {Y.use("moodle-filter_mathjaxloader-loader",function() {M.filter_mathjaxloader.configure({"mathjaxconfig":"\nMathJax.Hub.Config({\n    config: [\"Accessible.js\", \"Safe.js\"],\n    errorSettings: { message: [\"!\"] },\n    skipStartupTypeset: true,\n    messageStyle: \"none\"\n});\n","lang":"en"});
});
Y.use("moodle-core-formchangechecker",function() {M.core_formchangechecker.init({"formid":"mform1"});
});
Y.use("moodle-form-shortforms",function() {M.form.shortforms({"formid":"mform1"});
});
Y.use("moodle-core-formchangechecker",function() {M.core_formchangechecker.init({"formid":"mform2"});
});
Y.use("moodle-form-shortforms",function() {M.form.shortforms({"formid":"mform2"});
});
M.util.help_popups.setup(Y);
 M.util.js_pending('random5c7cd98d2301f3'); Y.on('domready', function() { M.util.js_complete("init");  M.util.js_complete('random5c7cd98d2301f3'); });
})();
//]]>
</script>
</footer><div class="container">
  <footer class="footer-light" role="contentinfo">
    <div class="row">
      <div class="col-6 mx-auto mx-md-0 mb-4 col-md-3 col-lg-2">
        <a href="https://www.epfl.ch/">
          <img src="https://moodle.epfl.ch/theme/image.php/epfl/theme_epfl/1550067298/epfl-logo" alt="EPFL - École polytechnique fédérale de Lausanne" class="img-fluid">
        </a>
      </div>
      <div class="col-md-9 col-lg-10 mb-4">
        <div class="ml-md-2 ml-lg-5">
          <ul class="list-inline list-unstyled">
            <li class="list-inline-item">Contact</li>
            <li class="list-inline-item text-muted pl-3"><small>EPFL CH-1015 Lausanne</small></li>
            <li class="list-inline-item text-muted pl-3"><small>+41 21 693 11 11</small></li>
          </ul>
          <p class="footer-light-socials">
            <small>Follow the pulses of EPFL on social networks</small>
            <span>
                <a href="https://www.facebook.com/epflcampus" title="Follow us on Facebook" class="social-icon social-icon-facebook social-icon-negative">
  <svg class="icon" aria-hidden="true"><use xlink:href="#icon-facebook"></use></svg>
  <span class="sr-only">Follow us on Facebook</span>
</a>
                <a href="https://twitter.com/epfl" title="Follow us on Twitter" class="social-icon social-icon-twitter social-icon-negative">
  <svg class="icon" aria-hidden="true"><use xlink:href="#icon-twitter"></use></svg>
  <span class="sr-only">Follow us on Twitter</span>
</a>
                <a href="https://instagram.com/epflcampus" title="Follow us on Instagram" class="social-icon social-icon-instagram social-icon-negative">
  <svg class="icon" aria-hidden="true"><use xlink:href="#icon-instagram"></use></svg>
  <span class="sr-only">Follow us on Instagram</span>
</a>
                <a href="https://www.linkedin.com/school/epfl/" title="Follow us on LinkedIn" class="social-icon social-icon-linkedin social-icon-negative">
  <svg class="icon" aria-hidden="true"><use xlink:href="#icon-linkedin"></use></svg>
  <span class="sr-only">Follow us on LinkedIn</span>
</a>
            </span>
          </p>
          <div class="footer-legal">
            <div class="footer-legal-links">
              <a href="https://www.epfl.ch/accessibility">Accessibility</a>
              <a href="https://mediacom.epfl.ch/disclaimer">Disclaimer</a>
            </div>
            <div>
              <p>&copy; 2019 EPFL, all rights reserved</p>
            </div>
          </div>
        </div>
      </div>
    </div>
  </footer>
</div><span style="display: none;"><svg xmlns="http://www.w3.org/2000/svg" style="display:none"><symbol id="icon-accessibility" viewbox="0 0 24 24"><path d="M12 0a12 12 0 1 0 12 12A12 12 0 0 0 12 0zm0 4.6a1.32 1.32 0 0 1 1.3 1.3A1.42 1.42 0 0 1 12 7.3 1.32 1.32 0 0 1 10.7 6 1.35 1.35 0 0 1 12 4.6zm5.1 5.6l-3.9.5v2.5l2.1 5.1a.76.76 0 1 1-1.4.6L12 14.2l-1.9 4.7a.76.76 0 0 1-1.4-.6l2.1-5.1v-2.5l-3.9-.5a.64.64 0 0 1-.5-.8c.1-.4.4-.7.7-.6l3.8.5h2.2l3.8-.5a.73.73 0 0 1 .7.6c0 .4-.2.8-.5.8z"/></symbol><symbol id="icon-arrow-left" viewbox="0 0 16 16"><path d="M4.414 9l5.293 5.293-1.414 1.414L.586 8 8.293.293l1.414 1.414L4.414 7H16v2z"/></symbol><symbol id="icon-arrow-right" viewbox="0 0 16 16"><path d="M11.586 7L6.293 1.707 7.707.293 15.414 8l-7.707 7.707-1.414-1.414L11.586 9H0V7h11.586z"/></symbol><symbol id="icon-browse" viewbox="0 0 14 14"><path d="M0 5h3v3H0zm0 5h3v3H0zM0 0h3v3H0zm5 0h8v3H5zm0 5h8v3H5zm0 5h8v3H5z"/></symbol><symbol id="icon-chevron-last-left" viewbox="0 0 24 24"><path fill="currentColor" d="M18 6.1l-2-2-7.2 7.3V5.1H6v13.8h2.8v-6.3l7.2 7.3 2-2-5.9-5.9z"/></symbol><symbol id="icon-chevron-last-right" viewbox="0 0 24 24"><path fill="currentColor" d="M6 17.9l2 2 7.2-7.3v6.3H18V5.1h-2.8v6.3L8 4.1l-2 2 5.9 5.9z"/></symbol><symbol id="icon-chevron-left" viewbox="0 0 24 24"><path fill="currentColor" d="M16.9 6.1l-1.9-2L7.1 12l7.9 7.9 1.9-2L11 12z"/></symbol><symbol id="icon-chevron-right" viewbox="0 0 24 24"><path fill="currentColor" d="M7.1 17.9l1.9 2 7.9-7.9L9 4.1l-1.9 2L13 12z"/></symbol><symbol id="icon-close" viewbox="0 0 14 14"><path d="M13 1.4L11.6 0 6.5 5.1 1.4 0 0 1.4l5.1 5.1L0 11.6 1.4 13l5.1-5.1 5.1 5.1 1.4-1.4-5.1-5.1z"/></symbol><symbol id="icon-elements" viewbox="0 0 80 91.18"><path d="M39.99 31.18a20 20 0 0 0 0 40 19.39 19.39 0 0 0 3.34-.3v-6.84a13.14 13.14 0 0 1-3.34.48 13.32 13.32 0 0 1-12.85-10H59.7a20.43 20.43 0 0 0 .29-3.34 20 20 0 0 0-20-20zm0 6.67a13.31 13.31 0 0 1 12.88 10H27.14a13.31 13.31 0 0 1 12.85-10z"/><path d="M46.59 11.77l7.06-7L48.94 0l-11.3 11.27a40 40 0 1 0 8.95.47zm-6.6 72.75a33.34 33.34 0 1 1 33.34-33.34 33.34 33.34 0 0 1-33.34 33.34z"/></symbol><symbol id="icon-facebook" viewbox="0 0 24 24"><path d="M9 8H6v4h3v12h5V12h3.642L18 8h-4V6.333C14 5.378 14.192 5 15.115 5H18V0h-3.808C10.596 0 9 1.583 9 4.615V8z"/></symbol><symbol id="icon-googleplus" viewbox="0 0 24 24"><path d="M7 11v2.4h3.97c-.16 1.029-1.2 3.02-3.97 3.02-2.39 0-4.34-1.979-4.34-4.42 0-2.44 1.95-4.42 4.34-4.42 1.36 0 2.27.58 2.79 1.08l1.9-1.83C10.47 5.69 8.89 5 7 5c-3.87 0-7 3.13-7 7s3.13 7 7 7c4.04 0 6.721-2.84 6.721-6.84 0-.46-.051-.81-.111-1.16H7zm0 0l17 2h-3v3h-2v-3h-3v-2h3V8h2v3h3v2z" fill-rule="evenodd" clip-rule="evenodd"/></symbol><symbol id="icon-home" viewbox="0 0 11 12"><path d="M0 5l5.25-5 5.25 5v7H0z" fill-rule="evenodd"/></symbol><symbol id="icon-info" viewbox="0 0 54 54"><path d="M30.4 43.8h-6.7V23.6h6.7v20.2zm0-26.9h-6.7v-6.7h6.7v6.7z"/></symbol><symbol id="icon-instagram" viewbox="0 0 24 24"><path d="M12 2.163c3.204 0 3.584.012 4.85.07 3.252.148 4.771 1.691 4.919 4.919.058 1.265.069 1.645.069 4.849 0 3.205-.012 3.584-.069 4.849-.149 3.225-1.664 4.771-4.919 4.919-1.266.058-1.644.07-4.85.07-3.204 0-3.584-.012-4.849-.07-3.26-.149-4.771-1.699-4.919-4.92-.058-1.265-.07-1.644-.07-4.849 0-3.204.013-3.583.07-4.849.149-3.227 1.664-4.771 4.919-4.919 1.266-.057 1.645-.069 4.849-.069zM12 0C8.741 0 8.333.014 7.053.072 2.695.272.273 2.69.073 7.052.014 8.333 0 8.741 0 12c0 3.259.014 3.668.072 4.948.2 4.358 2.618 6.78 6.98 6.98C8.333 23.986 8.741 24 12 24c3.259 0 3.668-.014 4.948-.072 4.354-.2 6.782-2.618 6.979-6.98.059-1.28.073-1.689.073-4.948 0-3.259-.014-3.667-.072-4.947-.196-4.354-2.617-6.78-6.979-6.98C15.668.014 15.259 0 12 0zm0 5.838a6.162 6.162 0 1 0 0 12.324 6.162 6.162 0 0 0 0-12.324zM12 16a4 4 0 1 1 0-8 4 4 0 0 1 0 8zm6.406-11.845a1.44 1.44 0 1 0 0 2.881 1.44 1.44 0 0 0 0-2.881z"/></symbol><symbol id="icon-linkedin"><path d="M4.98 3.5C4.98 4.881 3.87 6 2.5 6S.02 4.881.02 3.5C.02 2.12 1.13 1 2.5 1s2.48 1.12 2.48 2.5zM5 8H0v16h5V8zm7.982 0H8.014v16h4.969v-8.399c0-4.67 6.029-5.052 6.029 0V24H24V13.869c0-7.88-8.922-7.593-11.018-3.714V8z"/></symbol><symbol id="icon-lock" viewbox="0 0 10 15"><path d="M7 7V4a2 2 0 0 0-4 0v3h4zM1 7V4a4 4 0 1 1 8 0v3a1 1 0 0 1 1 1v7H0V8a1 1 0 0 1 1-1z"/></symbol><symbol id="icon-mail-plane" viewbox="0 0 24 24"><path d="M0 12l11 3.1L18 7l-8.156 5.672-4.312-1.202 15.362-7.68-3.974 14.57-3.75-3.339L11 17.946v-.769l-2-.56V24l4.473-6.031L18 22l6-22z"/></symbol><symbol id="icon-planet" viewbox="0 0 24 24"><path d="M12 .3C5.5.3.3 5.5.3 12S5.5 23.7 12 23.7 23.7 18.5 23.7 12 18.5.3 12 .3zM2.6 7.9c1.1-2.5 3.1-4.4 5.6-5.4l.8-.4-.5.8C7.7 4.4 7 6.1 6.6 8.1v.2H2.4l.2-.4zm-.7 6.2c-.1-.7-.2-1.4-.2-2.1 0-.7.1-1.4.2-2.1v-.2h4.4v.3c-.1 1.3-.1 2.6 0 3.9v.3H2l-.1-.1zm6.3 7.5c-2.5-1-4.5-3-5.6-5.4l-.2-.4h4.2v.2c.4 1.9 1 3.7 1.9 5.2l.5.7-.8-.3zm3.1.9l-.5-.6c-1.2-1.5-2.2-3.5-2.7-5.8l-.1-.4h3.3v6.8zm0-8.2H7.8V14c-.1-1.4-.1-2.6 0-4.1v-.3h3.5v4.7zm0-6H8l.1-.4c.5-2.3 1.4-4.3 2.7-5.8l.5-.6v6.8zm4.5-5.9c2.5 1 4.5 3 5.6 5.4l.2.4h-4.2V8c-.4-1.9-1-3.7-1.9-5.2l-.5-.7.8.3zm-3.1-.9l.5.6c1.2 1.5 2.2 3.5 2.7 5.8l.1.4h-3.3V1.5zm0 8.2h3.5v.3c.1 1.4.1 2.6 0 4.1v.3h-3.5V9.7zm0 12.8v-6.8H16l-.1.4c-.5 2.3-1.4 4.3-2.7 5.8l-.5.6zm8.7-6.4c-1.1 2.5-3.1 4.4-5.6 5.4l-.8.4.4-.8c.9-1.5 1.5-3.3 1.9-5.2v-.2h4.2l-.1.4zm.6-1.8h-4.4V14c.1-1.3.1-2.6 0-3.9v-.3H22v.2c.1.7.2 1.4.2 2.1 0 .7-.1 1.4-.2 2.1v.1z"/></symbol><symbol id="icon-search-bold" viewbox="0 0 17 17"><g stroke="currentColor" fill="none" fill-rule="evenodd"><path d="M11 11l4.243 4.243" stroke-width="3"/><circle stroke-width="2" cx="7" cy="7" r="6"/></g></symbol><symbol id="icon-search" viewbox="0 0 24 24"><path d="M23.809 21.646l-6.205-6.205a9.68 9.68 0 0 0 1.857-5.711C19.461 4.365 15.096 0 9.73 0 4.365 0 0 4.365 0 9.73c0 5.366 4.365 9.73 9.73 9.73a9.678 9.678 0 0 0 5.487-1.698L21.455 24l2.354-2.354zM2.854 9.73c0-3.792 3.085-6.877 6.877-6.877s6.877 3.085 6.877 6.877-3.085 6.877-6.877 6.877A6.884 6.884 0 0 1 2.854 9.73z"/></symbol><symbol id="icon-triangle" viewbox="0 0 10 5"><path d="M.235.162h9.757l-4.879 4.77z" fill-rule="evenodd"/></symbol><symbol id="icon-twitter" viewbox="0 0 24 24"><path d="M24 4.557a9.83 9.83 0 0 1-2.828.775 4.932 4.932 0 0 0 2.165-2.724 9.864 9.864 0 0 1-3.127 1.195 4.916 4.916 0 0 0-3.594-1.555c-3.179 0-5.515 2.966-4.797 6.045A13.978 13.978 0 0 1 1.671 3.149a4.93 4.93 0 0 0 1.523 6.574 4.903 4.903 0 0 1-2.229-.616c-.054 2.281 1.581 4.415 3.949 4.89a4.935 4.935 0 0 1-2.224.084 4.928 4.928 0 0 0 4.6 3.419A9.9 9.9 0 0 1 0 19.54a13.94 13.94 0 0 0 7.548 2.212c9.142 0 14.307-7.721 13.995-14.646A10.025 10.025 0 0 0 24 4.557z"/></symbol><symbol id="icon-upload" viewbox="0 0 14.2 14.2"><path d="M12.2 14.2H2c-1.1 0-2-.9-2-2V9.3c0-.3.3-.6.6-.6s.6.3.6.6v2.9c0 .4.4.8.8.8h10.1c.5 0 .8-.4.8-.8V9.3c0-.3.3-.6.6-.6s.6.3.6.6v2.9c.1 1.1-.8 2-1.9 2zM7.1 9.9c-.3 0-.6-.3-.6-.6V2L3.9 4.6c-.2.2-.6.2-.8 0s-.3-.6 0-.8L6.7.2c.1-.1.2-.2.4-.2s.3.1.4.2l3.6 3.6c.2.2.2.6 0 .8s-.6.2-.8 0L7.7 2v7.2c0 .4-.3.7-.6.7z"/></symbol><symbol id="icon-whatsapp" viewbox="0 0 24 24"><path d="M.057 24l1.687-6.163a11.867 11.867 0 0 1-1.587-5.946C.16 5.335 5.495 0 12.05 0a11.817 11.817 0 0 1 8.413 3.488 11.824 11.824 0 0 1 3.48 8.414c-.003 6.557-5.338 11.892-11.893 11.892a11.9 11.9 0 0 1-5.688-1.448L.057 24zm6.597-3.807c1.676.995 3.276 1.591 5.392 1.592 5.448 0 9.886-4.434 9.889-9.885.002-5.462-4.415-9.89-9.881-9.892-5.452 0-9.887 4.434-9.889 9.884-.001 2.225.651 3.891 1.746 5.634l-.999 3.648 3.742-.981zm11.387-5.464c-.074-.124-.272-.198-.57-.347-.297-.149-1.758-.868-2.031-.967-.272-.099-.47-.149-.669.149-.198.297-.768.967-.941 1.165-.173.198-.347.223-.644.074-.297-.149-1.255-.462-2.39-1.475-.883-.788-1.48-1.761-1.653-2.059-.173-.297-.018-.458.13-.606.134-.133.297-.347.446-.521.151-.172.2-.296.3-.495.099-.198.05-.372-.025-.521-.075-.148-.669-1.611-.916-2.206-.242-.579-.487-.501-.669-.51l-.57-.01c-.198 0-.52.074-.792.372s-1.04 1.016-1.04 2.479 1.065 2.876 1.213 3.074c.149.198 2.095 3.2 5.076 4.487.709.306 1.263.489 1.694.626.712.226 1.36.194 1.872.118.571-.085 1.758-.719 2.006-1.413.248-.695.248-1.29.173-1.414z"/></symbol></svg></span>

</body>
</html>