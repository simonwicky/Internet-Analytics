{
 "cells": [
  {
   "cell_type": "markdown",
   "metadata": {},
   "source": [
    "# Networks: structure, evolution & processes\n",
    "**Internet Analytics - Lab 2**\n",
    "\n",
    "---\n",
    "\n",
    "**Group:** K\n",
    "\n",
    "**Names:**\n",
    "\n",
    "* Xavier Jeanmonod\n",
    "* Adrian Baudat\n",
    "* Simon Wicky\n",
    "\n",
    "---\n",
    "\n",
    "#### Instructions\n",
    "\n",
    "*This is a template for part 3 of the lab. Clearly write your answers, comments and interpretations in Markodown cells. Don't forget that you can add $\\LaTeX$ equations in these cells. Feel free to add or remove any cell.*\n",
    "\n",
    "*Please properly comment your code. Code readability will be considered for grading. To avoid long cells of codes in the notebook, you can also embed long python functions and classes in a separate module. Don’t forget to hand in your module if that is the case. In multiple exercises, you are required to come up with your own method to solve various problems. Be creative and clearly motivate and explain your methods. Creativity and clarity will be considered for grading.*"
   ]
  },
  {
   "cell_type": "markdown",
   "metadata": {},
   "source": [
    "---\n",
    "\n",
    "## 2.3 Epdemics\n",
    "\n",
    "#### Exercise 2.9: Simulate an epidemic outbreak"
   ]
  },
  {
   "cell_type": "code",
   "execution_count": 3,
   "metadata": {},
   "outputs": [],
   "source": [
    "import networkx as nx\n",
    "import matplotlib.pyplot as plt\n",
    "import json\n",
    "\n",
    "with open(\"../data/nyc_augmented_network.json\", 'r') as file:\n",
    "    dict_network = json.load(file)\n",
    "    \n",
    "G = nx.Graph()\n",
    "for node in dict_network[\"nodes\"]:\n",
    "    G.add_node(node[\"id\"], id=node[\"id\"], coordinates=node[\"coordinates\"])\n",
    "    \n",
    "for edge in dict_network[\"links\"]:\n",
    "    G.add_edge(edge[\"source\"], edge[\"target\"])\n",
    "#Starting from here, the graph is ready\n"
   ]
  },
  {
   "cell_type": "code",
   "execution_count": 29,
   "metadata": {},
   "outputs": [
    {
     "name": "stdout",
     "output_type": "stream",
     "text": [
      "Epidemic stopped after 107.91 days | 107.91 days elapsed | 0.1% susceptible, 0.0% infected, 99.9% recovered\n"
     ]
    }
   ],
   "source": [
    "import epidemics_helper\n",
    "MAX_DAYS = 100\n",
    "sir = epidemics_helper.SimulationSIR(G, beta=10.0, gamma=0.1)\n",
    "sir.launch_epidemic(source=23654, max_time=MAX_DAYS)"
   ]
  },
  {
   "cell_type": "code",
   "execution_count": 30,
   "metadata": {},
   "outputs": [
    {
     "data": {
      "image/png": "[encoded data removed]",
      "text/plain": [
       "<Figure size 432x288 with 1 Axes>"
      ]
     },
     "metadata": {
      "needs_background": "light"
     },
     "output_type": "display_data"
    },
    {
     "name": "stdout",
     "output_type": "stream",
     "text": [
      "First day where 60%+ of the population is infected : 7\n",
      "First day where 60%+ of the population is dead : 15\n"
     ]
    }
   ],
   "source": [
    "list_susceptible = []\n",
    "list_infected = []\n",
    "list_recovered = []\n",
    "for t in range(0,MAX_DAYS):\n",
    "    nb_infected = 0\n",
    "    nb_recovered = 0\n",
    "    nb_susceptible = 0\n",
    "    for i in range(len(sir.inf_time)):\n",
    "        if sir.inf_time[i] > t:\n",
    "            nb_susceptible += 1\n",
    "        elif sir.rec_time[i] > t:\n",
    "            nb_infected += 1\n",
    "        else:\n",
    "            nb_recovered += 1\n",
    "    list_susceptible.append(nb_susceptible)\n",
    "    list_infected.append(nb_infected)\n",
    "    list_recovered.append(nb_recovered)\n",
    "    \n",
    "#The lists contain the number of nodes susceptible/infected/recovered at time t\n",
    "\n",
    "#Plotting the percentage\n",
    "list_susceptible = list(map(lambda x : x / len(G.nodes), list_susceptible))\n",
    "list_recovered = list(map(lambda x : x / len(G.nodes), list_recovered))\n",
    "list_infected = list(map(lambda x : x / len(G.nodes), list_infected))\n",
    "\n",
    "\n",
    "plt.plot(list_susceptible)\n",
    "plt.plot(list_infected)\n",
    "plt.plot(list_recovered)\n",
    "plt.show()\n",
    "\n",
    "\n",
    "#Finding the first occurence of a value > 0.6\n",
    "print(\"First day where 60%+ of the population is infected : \" \n",
    "      + str(list_infected.index(next(i for i in list_infected if i > 0.6))))\n",
    "print(\"First day where 60%+ of the population is dead : \" \n",
    "      + str(list_recovered.index(next(i for i in list_recovered if i > 0.6))))"
   ]
  },
  {
   "cell_type": "code",
   "execution_count": 26,
   "metadata": {},
   "outputs": [
    {
     "data": {
      "text/plain": [
       "<Figure size 3600x3600 with 0 Axes>"
      ]
     },
     "execution_count": 26,
     "metadata": {},
     "output_type": "execute_result"
    },
    {
     "data": {
      "text/plain": [
       "<Figure size 3600x3600 with 0 Axes>"
      ]
     },
     "metadata": {},
     "output_type": "display_data"
    }
   ],
   "source": [
    "pos = {}\n",
    "for node in G.nodes(data=True):\n",
    "    pos[node[0]] = (node[1][\"coordinates\"][0],node[1][\"coordinates\"][1])\n",
    "    \n",
    "plt.figure(1,figsize=(50,50)) \n",
    "#nx.draw(G,pos, node_size=20,width=0.5)#, nodelist=list(G.nodes())[0:10])\n",
    "\n",
    "#plt.show()"
   ]
  },
  {
   "cell_type": "markdown",
   "metadata": {},
   "source": [
    "---\n",
    "\n",
    "### 2.3.1 Stop the apocalypse!\n",
    "\n",
    "#### Exercise 2.10: Strategy 1"
   ]
  },
  {
   "cell_type": "code",
   "execution_count": null,
   "metadata": {
    "collapsed": true
   },
   "outputs": [],
   "source": []
  },
  {
   "cell_type": "markdown",
   "metadata": {},
   "source": [
    "#### Exercise 2.11: Strategy 2"
   ]
  },
  {
   "cell_type": "code",
   "execution_count": null,
   "metadata": {
    "collapsed": true
   },
   "outputs": [],
   "source": []
  }
 ],
 "metadata": {
  "kernelspec": {
   "display_name": "Python 3",
   "language": "python",
   "name": "python3"
  },
  "language_info": {
   "codemirror_mode": {
    "name": "ipython",
    "version": 3
   },
   "file_extension": ".py",
   "mimetype": "text/x-python",
   "name": "python",
   "nbconvert_exporter": "python",
   "pygments_lexer": "ipython3",
   "version": "3.7.1"
  }
 },
 "nbformat": 4,
 "nbformat_minor": 2
}
