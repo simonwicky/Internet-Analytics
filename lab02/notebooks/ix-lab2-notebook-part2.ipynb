{
 "cells": [
  {
   "cell_type": "markdown",
   "metadata": {},
   "source": [
    "# Networks: structure, evolution & processes\n",
    "**Internet Analytics - Lab 2**\n",
    "\n",
    "---\n",
    "\n",
    "**Group:** K\n",
    "\n",
    "**Names:**\n",
    "\n",
    "*  Xavier Jeanmonod\n",
    "*  Adrian Baudat\n",
    "*  Simon Wicky\n",
    "\n",
    "---\n",
    "\n",
    "#### Instructions\n",
    "\n",
    "*This is a template for part 2 of the lab. Clearly write your answers, comments and interpretations in Markodown cells. Don't forget that you can add $\\LaTeX$ equations in these cells. Feel free to add or remove any cell.*\n",
    "\n",
    "*Please properly comment your code. Code readability will be considered for grading. To avoid long cells of codes in the notebook, you can also embed long python functions and classes in a separate module. Don’t forget to hand in your module if that is the case. In multiple exercises, you are required to come up with your own method to solve various problems. Be creative and clearly motivate and explain your methods. Creativity and clarity will be considered for grading.*"
   ]
  },
  {
   "cell_type": "markdown",
   "metadata": {},
   "source": [
    "---\n",
    "\n",
    "## 2.2 Network sampling\n",
    "\n",
    "#### Exercise 2.7: Random walk on the Facebook network"
   ]
  },
  {
   "cell_type": "code",
   "execution_count": 16,
   "metadata": {},
   "outputs": [
    {
     "name": "stdout",
     "output_type": "stream",
     "text": [
      "Average age with 10 nodes (first run): 15.3\n",
      "Average age with 10 nodes (second run): 21.9\n",
      "Average age with 10 nodes (third run): 34.2\n",
      "Average age with 50 nodes (first run): 24.7\n",
      "Average age with 50 nodes (second run): 28.18\n",
      "Average age with 50 nodes (third run): 17.6\n",
      "Average age with 500 nodes (first run): 21.434\n",
      "Average age with 500 nodes (second run): 23.124\n",
      "Average age with 500 nodes (third run): 22.038\n"
     ]
    }
   ],
   "source": [
    "import requests\n",
    "import random\n",
    "\n",
    "# Base url of the API\n",
    "URL_TEMPLATE = 'http://iccluster040.iccluster.epfl.ch:5050/v1.0/facebook?user={user_id}'\n",
    "\n",
    "def get_data(user_id):\n",
    "    # The actual url to call \n",
    "    url = URL_TEMPLATE.format(user_id=user_id)\n",
    "    # Execute the HTTP Get request\n",
    "    response = requests.get(url)\n",
    "    # Format the json response as a Python dict\n",
    "    return response.json()\n",
    "\n",
    "def random_walk(source, number):\n",
    "    total_age = 0\n",
    "    node = source\n",
    "    for i in range(number):\n",
    "        node_data = get_data(node)\n",
    "        total_age += node_data['age']\n",
    "        neighbors = node_data['friends']\n",
    "        node = random.choice(neighbors)\n",
    "    return total_age / number\n",
    "\n",
    "#Number of nodes to visit\n",
    "NUMBER_NODES = 300\n",
    "\n",
    "#Node to start the random walk from\n",
    "starting_node = 'f30ff3966f16ed62f5165a229a19b319'\n",
    "\n",
    "print(\"Average age with 10 nodes (first run):\", random_walk(starting_node, 10))\n",
    "print(\"Average age with 10 nodes (second run):\", random_walk(starting_node, 10))\n",
    "print(\"Average age with 10 nodes (third run):\", random_walk(starting_node, 10))\n",
    "\n",
    "print(\"Average age with 50 nodes (first run):\", random_walk(starting_node, 50))\n",
    "print(\"Average age with 50 nodes (second run):\", random_walk(starting_node, 50))\n",
    "print(\"Average age with 50 nodes (third run):\", random_walk(starting_node, 50))\n",
    "\n",
    "print(\"Average age with 500 nodes (first run):\", random_walk(starting_node, 500))\n",
    "print(\"Average age with 500 nodes (second run):\", random_walk(starting_node, 500))\n",
    "print(\"Average age with 500 nodes (third run):\", random_walk(starting_node, 500))"
   ]
  },
  {
   "cell_type": "markdown",
   "metadata": {},
   "source": [
    "As we can see, the average varies quite a bit with the number of nodes we visit, and it also changes between different runs. However, with 500 nodes the average starts to stabilize around 22 years old."
   ]
  },
  {
   "cell_type": "markdown",
   "metadata": {},
   "source": [
    "#### Exercise 2.8"
   ]
  },
  {
   "cell_type": "markdown",
   "metadata": {},
   "source": [
    "Our estimate (22 years old) is very far from the actual average age which is 43.3 years old.\n",
    "The reason for this may come from the fact that users will typically have most of their friends around the same age as them. Here, our starting node is quite young (19 years old) and so the average we get is skewed by the fact most of his friends are around his age."
   ]
  },
  {
   "cell_type": "code",
   "execution_count": null,
   "metadata": {},
   "outputs": [],
   "source": []
  },
  {
   "cell_type": "code",
   "execution_count": null,
   "metadata": {
    "collapsed": true
   },
   "outputs": [],
   "source": []
  }
 ],
 "metadata": {
  "kernelspec": {
   "display_name": "Python 3",
   "language": "python",
   "name": "python3"
  },
  "language_info": {
   "codemirror_mode": {
    "name": "ipython",
    "version": 3
   },
   "file_extension": ".py",
   "mimetype": "text/x-python",
   "name": "python",
   "nbconvert_exporter": "python",
   "pygments_lexer": "ipython3",
   "version": "3.7.1"
  }
 },
 "nbformat": 4,
 "nbformat_minor": 2
}
