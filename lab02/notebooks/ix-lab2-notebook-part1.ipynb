{
 "cells": [
  {
   "cell_type": "markdown",
   "metadata": {},
   "source": [
    "# Networks: structure, evolution & processes\n",
    "**Internet Analytics - Lab 2**\n",
    "\n",
    "---\n",
    "\n",
    "**Group:** K\n",
    "\n",
    "**Names:**\n",
    "\n",
    "*  Xavier Jeanmonod\n",
    "*  Adrian Baudat\n",
    "*  Simon Wicky\n",
    "\n",
    "---\n",
    "\n",
    "#### Instructions\n",
    "\n",
    "*This is a template for part 1 of the lab. Clearly write your answers, comments and interpretations in Markodown cells. Don't forget that you can add $\\LaTeX$ equations in these cells. Feel free to add or remove any cell.*\n",
    "\n",
    "*Please properly comment your code. Code readability will be considered for grading. To avoid long cells of codes in the notebook, you can also embed long python functions and classes in a separate module. Don’t forget to hand in your module if that is the case. In multiple exercises, you are required to come up with your own method to solve various problems. Be creative and clearly motivate and explain your methods. Creativity and clarity will be considered for grading.*"
   ]
  },
  {
   "cell_type": "markdown",
   "metadata": {},
   "source": [
    "---\n",
    "\n",
    "## 2.1 Exploration of real networks\n",
    "\n",
    "#### Exercise 2.1"
   ]
  },
  {
   "cell_type": "code",
   "execution_count": 2,
   "metadata": {
    "collapsed": true
   },
   "outputs": [],
   "source": [
    "import networkx as nx\n",
    "import numpy as npy"
   ]
  },
  {
   "cell_type": "code",
   "execution_count": 3,
   "metadata": {},
   "outputs": [
    {
     "name": "stdout",
     "output_type": "stream",
     "text": [
      "Number of edges : 18584\n",
      "Number of nodes : 13033\n"
     ]
    }
   ],
   "source": [
    "Data = open('../data/network1.csv', \"r\")\n",
    "next(Data,None)\n",
    "Graphtype = nx.Graph()\n",
    "G = nx.parse_edgelist(Data, delimiter=',', create_using=Graphtype,\n",
    "                      nodetype=int)\n",
    "print(\"Number of edges : \" + str(len(G.edges)))\n",
    "print(\"Number of nodes : \" + str(len(G.nodes)))"
   ]
  },
  {
   "cell_type": "markdown",
   "metadata": {},
   "source": [
    "#### Exercise 2.2:  Node degree distribution"
   ]
  },
  {
   "cell_type": "code",
   "execution_count": null,
   "metadata": {
    "collapsed": true
   },
   "outputs": [],
   "source": []
  },
  {
   "cell_type": "markdown",
   "metadata": {},
   "source": [
    "#### Exercise 2.3: Giant component"
   ]
  },
  {
   "cell_type": "code",
   "execution_count": 4,
   "metadata": {},
   "outputs": [
    {
     "name": "stdout",
     "output_type": "stream",
     "text": [
      "Number of connect components : 192\n",
      "Histogram of connected components (size : number of CC)\n",
      "2 : 149\n",
      "3 : 29\n",
      "4 : 7\n",
      "5 : 3\n",
      "6 : 1\n",
      "7 : 1\n",
      "16 : 1\n",
      "12576 : 1\n"
     ]
    }
   ],
   "source": [
    "\n",
    "print(\"Number of connect components : \" + str(nx.number_connected_components(G)))\n",
    "size = [len(o) for o in nx.connected_components(G)]\n",
    "\n",
    "print(\"Histogram of connected components (size : number of CC)\")\n",
    "for i in range(max(size) + 1):\n",
    "    if size.count(i) > 0:\n",
    "        print(str(i) + \" : \" + str(size.count(i)))\n",
    "    "
   ]
  },
  {
   "cell_type": "markdown",
   "metadata": {},
   "source": [
    "Looking at the data above, we can see that there is 192 connected components, with one giant components of size 12756"
   ]
  },
  {
   "cell_type": "markdown",
   "metadata": {},
   "source": [
    "#### Exercise 2.4: Short paths & Small-worlds"
   ]
  },
  {
   "cell_type": "code",
   "execution_count": 21,
   "metadata": {},
   "outputs": [
    {
     "name": "stdout",
     "output_type": "stream",
     "text": [
      "0\n",
      "100\n",
      "200\n",
      "300\n",
      "400\n",
      "500\n",
      "600\n",
      "700\n",
      "800\n",
      "900\n",
      "4.174713899491094\n"
     ]
    }
   ],
   "source": [
    "from random import choice\n",
    "giant_cc = [e for e in nx.connected_component_subgraphs(G) if len(e.nodes()) == max(size)][0]\n",
    "sum = 0\n",
    "#iterations = 1000\n",
    "iterations = 1\n",
    "for n in range(iterations):\n",
    "    n1 = choice(list(giant_cc.nodes))                \n",
    "    for n2 in giant_cc.nodes:\n",
    "        if n1 != n2:\n",
    "            length = nx.shortest_path_length(giant_cc, source=n1, target=n2)\n",
    "            sum += length\n",
    "print(sum / len(giant_cc.nodes()) / iterations )"
   ]
  },
  {
   "cell_type": "markdown",
   "metadata": {},
   "source": [
    "The average shortest path is computed as follow :\n",
    "*    Pick one node at random, and computes its average shortest path length with every other node\n",
    "*    Do step 1 on 1000 nodes and average the whole\n",
    "\n",
    "This computation seems relatively representative of the average shortest path length, the real computation is too costly.\n",
    "\n",
    "And so this computation yields 4.174"
   ]
  },
  {
   "cell_type": "markdown",
   "metadata": {},
   "source": [
    "#### Exercise 2.5: Network comparison"
   ]
  },
  {
   "cell_type": "code",
   "execution_count": 31,
   "metadata": {},
   "outputs": [
    {
     "data": {
      "text/plain": [
       "5"
      ]
     },
     "execution_count": 31,
     "metadata": {},
     "output_type": "execute_result"
    }
   ],
   "source": []
  },
  {
   "cell_type": "markdown",
   "metadata": {},
   "source": [
    "#### Exercise 2.6: Network identification"
   ]
  },
  {
   "cell_type": "code",
   "execution_count": null,
   "metadata": {
    "collapsed": true
   },
   "outputs": [],
   "source": []
  }
 ],
 "metadata": {
  "kernelspec": {
   "display_name": "Python 3",
   "language": "python",
   "name": "python3"
  },
  "language_info": {
   "codemirror_mode": {
    "name": "ipython",
    "version": 3
   },
   "file_extension": ".py",
   "mimetype": "text/x-python",
   "name": "python",
   "nbconvert_exporter": "python",
   "pygments_lexer": "ipython3",
   "version": "3.6.3"
  }
 },
 "nbformat": 4,
 "nbformat_minor": 2
}
