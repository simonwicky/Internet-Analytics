{
 "cells": [
  {
   "cell_type": "markdown",
   "metadata": {},
   "source": [
    "# Networks: structure, evolution & processes\n",
    "**Internet Analytics - Lab 2**\n",
    "\n",
    "---\n",
    "\n",
    "**Group:** K\n",
    "\n",
    "**Names:**\n",
    "\n",
    "*  Xavier Jeanmonod\n",
    "*  Adrian Baudat\n",
    "*  Simon Wicky\n",
    "\n",
    "---\n",
    "\n",
    "#### Instructions\n",
    "\n",
    "*This is a template for part 1 of the lab. Clearly write your answers, comments and interpretations in Markodown cells. Don't forget that you can add $\\LaTeX$ equations in these cells. Feel free to add or remove any cell.*\n",
    "\n",
    "*Please properly comment your code. Code readability will be considered for grading. To avoid long cells of codes in the notebook, you can also embed long python functions and classes in a separate module. Don’t forget to hand in your module if that is the case. In multiple exercises, you are required to come up with your own method to solve various problems. Be creative and clearly motivate and explain your methods. Creativity and clarity will be considered for grading.*"
   ]
  },
  {
   "cell_type": "markdown",
   "metadata": {},
   "source": [
    "---\n",
    "\n",
    "## 2.1 Exploration of real networks\n",
    "\n",
    "#### Exercise 2.1"
   ]
  },
  {
   "cell_type": "code",
   "execution_count": 1,
   "metadata": {},
   "outputs": [],
   "source": [
    "import networkx as nx\n",
    "import numpy as npy"
   ]
  },
  {
   "cell_type": "code",
   "execution_count": 2,
   "metadata": {},
   "outputs": [
    {
     "name": "stdout",
     "output_type": "stream",
     "text": [
      "Number of edges : 18584\n",
      "Number of nodes : 13033\n"
     ]
    }
   ],
   "source": [
    "Data = open('../data/network1.csv', \"r\")\n",
    "next(Data,None)\n",
    "Graphtype = nx.Graph()\n",
    "G = nx.parse_edgelist(Data, delimiter=',', create_using=Graphtype,\n",
    "                      nodetype=int)\n",
    "print(\"Number of edges : \" + str(len(G.edges)))\n",
    "print(\"Number of nodes : \" + str(len(G.nodes)))"
   ]
  },
  {
   "cell_type": "markdown",
   "metadata": {},
   "source": [
    "#### Exercise 2.2:  Node degree distribution"
   ]
  },
  {
   "cell_type": "code",
   "execution_count": 1,
   "metadata": {},
   "outputs": [
    {
     "ename": "NameError",
     "evalue": "name 'G' is not defined",
     "output_type": "error",
     "traceback": [
      "\u001b[1;31m---------------------------------------------------------------------------\u001b[0m",
      "\u001b[1;31mNameError\u001b[0m                                 Traceback (most recent call last)",
      "\u001b[1;32m<ipython-input-1-9e1872b6ec5d>\u001b[0m in \u001b[0;36m<module>\u001b[1;34m\u001b[0m\n\u001b[0;32m      1\u001b[0m \u001b[1;32mimport\u001b[0m \u001b[0mmatplotlib\u001b[0m\u001b[1;33m.\u001b[0m\u001b[0mpyplot\u001b[0m \u001b[1;32mas\u001b[0m \u001b[0mplt\u001b[0m\u001b[1;33m\u001b[0m\u001b[1;33m\u001b[0m\u001b[0m\n\u001b[0;32m      2\u001b[0m \u001b[1;32mimport\u001b[0m \u001b[0mmath\u001b[0m\u001b[1;33m\u001b[0m\u001b[1;33m\u001b[0m\u001b[0m\n\u001b[1;32m----> 3\u001b[1;33m \u001b[0mnodesDeg\u001b[0m \u001b[1;33m=\u001b[0m \u001b[0mG\u001b[0m\u001b[1;33m.\u001b[0m\u001b[0mdegree\u001b[0m\u001b[1;33m(\u001b[0m\u001b[1;33m)\u001b[0m\u001b[1;33m\u001b[0m\u001b[1;33m\u001b[0m\u001b[0m\n\u001b[0m\u001b[0;32m      4\u001b[0m \u001b[0mdegrees\u001b[0m \u001b[1;33m=\u001b[0m \u001b[1;33m[\u001b[0m\u001b[0md\u001b[0m \u001b[1;32mfor\u001b[0m \u001b[0m_\u001b[0m\u001b[1;33m,\u001b[0m \u001b[0md\u001b[0m \u001b[1;32min\u001b[0m \u001b[0mnodesDeg\u001b[0m\u001b[1;33m]\u001b[0m\u001b[1;33m\u001b[0m\u001b[1;33m\u001b[0m\u001b[0m\n\u001b[0;32m      5\u001b[0m \u001b[1;31m#print(degrees)\u001b[0m\u001b[1;33m\u001b[0m\u001b[1;33m\u001b[0m\u001b[1;33m\u001b[0m\u001b[0m\n",
      "\u001b[1;31mNameError\u001b[0m: name 'G' is not defined"
     ]
    }
   ],
   "source": [
    "import matplotlib.pyplot as plt\n",
    "import math\n",
    "nodesDeg = G.degree()\n",
    "degrees = [d for _, d in nodesDeg]\n",
    "#print(degrees)\n",
    "count = [()]\n",
    "for d in degrees:\n",
    "    if d not in count:\n",
    "        count.append((d, 1))\n",
    "    else: \n",
    "        count[d] += 1\n",
    "count.pop(0)\n",
    "numberOf = [v for _, v in count]\n",
    "#print(numberOf)\n",
    "    \n",
    "plt.plot(degrees, numberOf)\n",
    "plt.xscale('log')\n",
    "plt.yscale('log')\n",
    "plt.show()\n",
    "\n",
    "#Should correct this"
   ]
  },
  {
   "cell_type": "markdown",
   "metadata": {},
   "source": [
    "#### Exercise 2.3: Giant component"
   ]
  },
  {
   "cell_type": "code",
   "execution_count": 4,
   "metadata": {},
   "outputs": [
    {
     "name": "stdout",
     "output_type": "stream",
     "text": [
      "Number of connected components : 192\n",
      "Histogram of connected components (size : number of CC)\n",
      "2 : 149\n",
      "3 : 29\n",
      "4 : 7\n",
      "5 : 3\n",
      "6 : 1\n",
      "7 : 1\n",
      "16 : 1\n",
      "12576 : 1\n"
     ]
    }
   ],
   "source": [
    "print(\"Number of connected components : \" + str(nx.number_connected_components(G)))\n",
    "size = [len(o) for o in nx.connected_components(G)]\n",
    "\n",
    "print(\"Histogram of connected components (size : number of CC)\")\n",
    "for i in range(max(size) + 1):\n",
    "    if size.count(i) > 0:\n",
    "        print(str(i) + \" : \" + str(size.count(i)))\n",
    "    "
   ]
  },
  {
   "cell_type": "markdown",
   "metadata": {},
   "source": [
    "Looking at the data above, we can see that there is 192 connected components, with one giant components of size 12756"
   ]
  },
  {
   "cell_type": "markdown",
   "metadata": {},
   "source": [
    "#### Exercise 2.4: Short paths & Small-worlds"
   ]
  },
  {
   "cell_type": "code",
   "execution_count": 5,
   "metadata": {},
   "outputs": [
    {
     "data": {
      "text/plain": [
       "12575"
      ]
     },
     "execution_count": 5,
     "metadata": {},
     "output_type": "execute_result"
    }
   ],
   "source": [
    "def numberOfNodesHops(start, r, G):\n",
    "    neighbors = set([start])\n",
    "    for i in range(r):\n",
    "        neighbors = set([neighbor for node in neighbors \\\n",
    "                     for neighbor in G[node]])\n",
    "    return neighbors\n",
    "\n",
    "from random import choice\n",
    "giant_cc = [e for e in nx.connected_component_subgraphs(G) if len(e.nodes()) == max(size)][0]\n",
    "random_node = choice(list(giant_cc.nodes))\n",
    "len(numberOfNodesHops(random_node, 7, giant_cc))"
   ]
  },
  {
   "cell_type": "markdown",
   "metadata": {},
   "source": [
    "The average shortest path is computed as follow :\n",
    "*    Pick one node at random, and computes its average shortest path length with every other node\n",
    "*    Do step 1 on 1000 nodes and average the whole\n",
    "\n",
    "This computation seems relatively representative of the average shortest path length, the real computation is too costly.\n",
    "\n",
    "And so this computation yields 4.174"
   ]
  },
  {
   "cell_type": "markdown",
   "metadata": {},
   "source": [
    "#### Exercise 2.5: Network comparison"
   ]
  },
  {
   "cell_type": "code",
   "execution_count": 6,
   "metadata": {},
   "outputs": [
    {
     "name": "stdout",
     "output_type": "stream",
     "text": [
      "Number of edges : 43516\n",
      "Number of nodes : 26542\n"
     ]
    }
   ],
   "source": [
    "Data2 = open('../data/network2.csv', \"r\")\n",
    "next(Data2,None)\n",
    "Graphtype = nx.Graph()\n",
    "G2 = nx.parse_edgelist(Data2, delimiter=',', create_using=Graphtype,\n",
    "                      nodetype=int)\n",
    "print(\"Number of edges : \" + str(len(G2.edges)))\n",
    "print(\"Number of nodes : \" + str(len(G2.nodes)))"
   ]
  },
  {
   "cell_type": "code",
   "execution_count": 7,
   "metadata": {},
   "outputs": [
    {
     "name": "stdout",
     "output_type": "stream",
     "text": [
      "Number of connected components : 5\n",
      "Histogram of connected components (size : number of CC)\n",
      "2 : 1\n",
      "5 : 1\n",
      "24 : 1\n",
      "30 : 1\n",
      "26481 : 1\n"
     ]
    }
   ],
   "source": [
    "print(\"Number of connected components : \" + str(nx.number_connected_components(G2)))\n",
    "size2 = [len(o) for o in nx.connected_components(G2)]\n",
    "\n",
    "print(\"Histogram of connected components (size : number of CC)\")\n",
    "for i in range(max(size2) + 1):\n",
    "    if size2.count(i) > 0:\n",
    "        print(str(i) + \" : \" + str(size2.count(i)))"
   ]
  },
  {
   "cell_type": "code",
   "execution_count": 8,
   "metadata": {},
   "outputs": [
    {
     "data": {
      "text/plain": [
       "54"
      ]
     },
     "execution_count": 8,
     "metadata": {},
     "output_type": "execute_result"
    }
   ],
   "source": [
    "def numberOfNodesHops(start, r, G):\n",
    "    neighbors = set([start])\n",
    "    for i in range(r):\n",
    "        neighbors = set([neighbor for node in neighbors \\\n",
    "                     for neighbor in G[node]])\n",
    "    return neighbors\n",
    "\n",
    "from random import choice\n",
    "giant_cc = [e for e in nx.connected_component_subgraphs(G2) if len(e.nodes()) == max(size2)][0]\n",
    "random_node = choice(list(giant_cc.nodes))\n",
    "len(numberOfNodesHops(random_node, 10, giant_cc))"
   ]
  },
  {
   "cell_type": "markdown",
   "metadata": {},
   "source": [
    "#### Exercise 2.6: Network identification"
   ]
  },
  {
   "cell_type": "code",
   "execution_count": null,
   "metadata": {},
   "outputs": [],
   "source": []
  }
 ],
 "metadata": {
  "kernelspec": {
   "display_name": "Python 3",
   "language": "python",
   "name": "python3"
  },
  "language_info": {
   "codemirror_mode": {
    "name": "ipython",
    "version": 3
   },
   "file_extension": ".py",
   "mimetype": "text/x-python",
   "name": "python",
   "nbconvert_exporter": "python",
   "pygments_lexer": "ipython3",
   "version": "3.7.1"
  }
 },
 "nbformat": 4,
 "nbformat_minor": 2
}
