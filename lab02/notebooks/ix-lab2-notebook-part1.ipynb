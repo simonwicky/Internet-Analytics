{
 "cells": [
  {
   "cell_type": "markdown",
   "metadata": {},
   "source": [
    "# Networks: structure, evolution & processes\n",
    "**Internet Analytics - Lab 2**\n",
    "\n",
    "---\n",
    "\n",
    "**Group:** K\n",
    "\n",
    "**Names:**\n",
    "\n",
    "*  Xavier Jeanmonod\n",
    "*  Adrian Baudat\n",
    "*  Simon Wicky\n",
    "\n",
    "---\n",
    "\n",
    "#### Instructions\n",
    "\n",
    "*This is a template for part 1 of the lab. Clearly write your answers, comments and interpretations in Markodown cells. Don't forget that you can add $\\LaTeX$ equations in these cells. Feel free to add or remove any cell.*\n",
    "\n",
    "*Please properly comment your code. Code readability will be considered for grading. To avoid long cells of codes in the notebook, you can also embed long python functions and classes in a separate module. Don’t forget to hand in your module if that is the case. In multiple exercises, you are required to come up with your own method to solve various problems. Be creative and clearly motivate and explain your methods. Creativity and clarity will be considered for grading.*"
   ]
  },
  {
   "cell_type": "markdown",
   "metadata": {},
   "source": [
    "---\n",
    "\n",
    "## 2.1 Exploration of real networks\n",
    "\n",
    "#### Exercise 2.1"
   ]
  },
  {
   "cell_type": "code",
   "execution_count": 1,
   "metadata": {},
   "outputs": [],
   "source": [
    "import networkx as nx\n",
    "import numpy as npy\n",
    "from graph_utility import *\n",
    "import matplotlib.pyplot as plt\n",
    "import math"
   ]
  },
  {
   "cell_type": "code",
   "execution_count": 2,
   "metadata": {},
   "outputs": [
    {
     "name": "stdout",
     "output_type": "stream",
     "text": [
      "Number of edges : 18584\n",
      "Number of nodes : 13033\n"
     ]
    }
   ],
   "source": [
    "Data = open('../data/network1.csv', \"r\")\n",
    "next(Data,None)\n",
    "Graphtype = nx.Graph()\n",
    "G = nx.parse_edgelist(Data, delimiter=',', create_using=Graphtype,\n",
    "                      nodetype=int)\n",
    "print(\"Number of edges : \" + str(len(G.edges)))\n",
    "print(\"Number of nodes : \" + str(len(G.nodes)))"
   ]
  },
  {
   "cell_type": "markdown",
   "metadata": {},
   "source": [
    "#### Exercise 2.2:  Node degree distribution"
   ]
  },
  {
   "cell_type": "code",
   "execution_count": 37,
   "metadata": {},
   "outputs": [
    {
     "name": "stdout",
     "output_type": "stream",
     "text": [
      "Average degree : 2.8518376429064682\n",
      "Max degree : 1482\n"
     ]
    },
    {
     "data": {
      "image/png": "[encoded data removed]",
      "text/plain": [
       "<Figure size 432x288 with 1 Axes>"
      ]
     },
     "metadata": {
      "needs_background": "light"
     },
     "output_type": "display_data"
    }
   ],
   "source": [
    "nodesDeg = G.degree()\n",
    "degrees = [d[1] for d in nodesDeg]\n",
    "print(\"Average degree : \" + str(sum(degrees) / len(degrees)))\n",
    "print(\"Max degree : \" + str(max(degrees)))\n",
    "histo = histogram(degrees)\n",
    "datas = [0] * (max(degrees) + 1)\n",
    "for i in range(len(histo)):\n",
    "    datas[histo[i][0]] = histo[i][1]\n",
    "\n",
    "for i in range(len(datas)):\n",
    "    datas[i] = sum(datas[i+1::])   \n",
    "plt.plot(datas, 'r+')\n",
    "plt.xscale('log')\n",
    "plt.yscale('log')\n",
    "plt.xlabel(\"Degree\")\n",
    "plt.ylabel(\"Number of nodes with degree > x\")\n",
    "plt.show()"
   ]
  },
  {
   "cell_type": "markdown",
   "metadata": {},
   "source": [
    "#### Exercise 2.3: Giant component"
   ]
  },
  {
   "cell_type": "code",
   "execution_count": 31,
   "metadata": {},
   "outputs": [
    {
     "name": "stdout",
     "output_type": "stream",
     "text": [
      "Number of connected components : 192\n",
      "Histogram of connected components (size : number of CC)\n",
      "2 : 149\n",
      "3 : 29\n",
      "4 : 7\n",
      "5 : 3\n",
      "6 : 1\n",
      "7 : 1\n",
      "16 : 1\n",
      "12576 : 1\n"
     ]
    }
   ],
   "source": [
    "print(\"Number of connected components : \" + str(nx.number_connected_components(G)))\n",
    "size = [len(o) for o in nx.connected_components(G)]\n",
    "hist = histogram(size)\n",
    "print(\"Histogram of connected components (size : number of CC)\")\n",
    "for i in hist:\n",
    "        print(str(i[0]) + \" : \" + str(str(i[1])))\n",
    "    "
   ]
  },
  {
   "cell_type": "markdown",
   "metadata": {},
   "source": [
    "Looking at the data above, we can see that there is 192 connected components, with one giant component of size 12756"
   ]
  },
  {
   "cell_type": "markdown",
   "metadata": {},
   "source": [
    "#### Exercise 2.4: Short paths & Small-worlds"
   ]
  },
  {
   "cell_type": "code",
   "execution_count": 32,
   "metadata": {},
   "outputs": [
    {
     "name": "stdout",
     "output_type": "stream",
     "text": [
      "Average over 1000 nodes\n",
      "Average of nodes reachable in 6 hops : 12289.61\n",
      "Average of path length : 4.158\n"
     ]
    }
   ],
   "source": [
    "from random import choice\n",
    "\n",
    "#Isolating giant component. The graph need to be connected for these operations\n",
    "giant_cc = [e for e in nx.connected_component_subgraphs(G) if len(e.nodes()) == max(size)][0]\n",
    "\n",
    "NB_ITERATIONS = 1000\n",
    "NB_HOPS = 6\n",
    "\n",
    "sum_nodes = 0\n",
    "sum_path_length = 0\n",
    "\n",
    "for i in range(NB_ITERATIONS):\n",
    "    random_node1 = choice(list(giant_cc.nodes))\n",
    "    random_node2 = choice(list(giant_cc.nodes))\n",
    "    sum_path_length += nx.shortest_path_length(giant_cc, source= random_node1, target=random_node2)\n",
    "    sum_nodes += len(numberOfNodesHops(random_node1, NB_HOPS, giant_cc))\n",
    "  \n",
    "print(\"Average over \" + str(NB_ITERATIONS) + \" nodes\")\n",
    "print(\"Average of nodes reachable in \" + str(NB_HOPS) + \" hops : \" + str(sum_nodes / NB_ITERATIONS))\n",
    "print(\"Average of path length : \" + str(sum_path_length / NB_ITERATIONS))\n",
    "\n"
   ]
  },
  {
   "cell_type": "markdown",
   "metadata": {},
   "source": [
    "To analyse the network to determine if it is a small world, we look at an average of shortest path between random nodes, as well as the number of nodes reachable in a given amount of hops.\n",
    "\n",
    "Ran over 1000 iterations we found the following :\n",
    "* Reachable in 6 hops : 12506 nodes\n",
    "* Average of shortest path : 4.153\n",
    "\n",
    "In 6 hops, we can on average reach 12506 different nodes, which represents 99.44% of the giant component.\n",
    "We can therefore conclude that this network is a small-world"
   ]
  },
  {
   "cell_type": "markdown",
   "metadata": {},
   "source": [
    "#### Exercise 2.5: Network comparison"
   ]
  },
  {
   "cell_type": "code",
   "execution_count": 27,
   "metadata": {},
   "outputs": [
    {
     "name": "stdout",
     "output_type": "stream",
     "text": [
      "Number of edges : 43516\n",
      "Number of nodes : 26542\n"
     ]
    }
   ],
   "source": [
    "Data2 = open('../data/network2.csv', \"r\")\n",
    "next(Data2,None)\n",
    "Graphtype = nx.Graph()\n",
    "G2 = nx.parse_edgelist(Data2, delimiter=',', create_using=Graphtype,\n",
    "                      nodetype=int)\n",
    "print(\"Number of edges : \" + str(len(G2.edges)))\n",
    "print(\"Number of nodes : \" + str(len(G2.nodes)))"
   ]
  },
  {
   "cell_type": "code",
   "execution_count": 36,
   "metadata": {},
   "outputs": [
    {
     "name": "stdout",
     "output_type": "stream",
     "text": [
      "Average degree : 3.2790294627383014\n",
      "Max degree : 8\n"
     ]
    },
    {
     "data": {
      "image/png": "[encoded data removed]",
      "text/plain": [
       "<Figure size 432x288 with 1 Axes>"
      ]
     },
     "metadata": {
      "needs_background": "light"
     },
     "output_type": "display_data"
    }
   ],
   "source": [
    "nodesDeg2 = G2.degree()\n",
    "degrees2 = [d[1] for d in nodesDeg2]\n",
    "print(\"Average degree : \" + str(sum(degrees2) / len(degrees2)))\n",
    "print(\"Max degree : \" + str(max(degrees2)))\n",
    "histo2 = histogram(degrees2)\n",
    "datas2 = [0] * (max(degrees2) + 1)\n",
    "for i in range(len(histo2)):\n",
    "    datas2[histo2[i][0]] = histo2[i][1]\n",
    "\n",
    "for i in range(len(datas2)):\n",
    "    datas2[i] = sum(datas2[i+1::])   \n",
    "plt.plot(datas2, 'r+')\n",
    "plt.xscale('log')\n",
    "plt.yscale('log')\n",
    "plt.xlabel(\"Degree\")\n",
    "plt.ylabel(\"Number of nodes with degree > x\")\n",
    "plt.show()"
   ]
  },
  {
   "cell_type": "code",
   "execution_count": 29,
   "metadata": {},
   "outputs": [
    {
     "name": "stdout",
     "output_type": "stream",
     "text": [
      "Number of connected components : 5\n",
      "Histogram of connected components (size : number of CC)\n",
      "2 : 1\n",
      "5 : 1\n",
      "24 : 1\n",
      "30 : 1\n",
      "26481 : 1\n"
     ]
    }
   ],
   "source": [
    "print(\"Number of connected components : \" + str(nx.number_connected_components(G2)))\n",
    "size2 = [len(o) for o in nx.connected_components(G2)]\n",
    "hist2 = histogram(size2)\n",
    "print(\"Histogram of connected components (size : number of CC)\")\n",
    "for i in hist2:\n",
    "    print(str(i[0]) + \" : \" + str(str(i[1])))\n",
    "    "
   ]
  },
  {
   "cell_type": "markdown",
   "metadata": {},
   "source": [
    "Looking at the data above, we can see that there is 5 connected components, with one giant component of size 26481"
   ]
  },
  {
   "cell_type": "code",
   "execution_count": 9,
   "metadata": {},
   "outputs": [
    {
     "name": "stdout",
     "output_type": "stream",
     "text": [
      "Average over 1000 nodes\n",
      "Average of nodes reachable in 6 hops : 63.997\n",
      "Average of path length : 96.01\n"
     ]
    }
   ],
   "source": [
    "from random import choice\n",
    "\n",
    "#Isolating giant component. The graph need to be connected for these operations\n",
    "giant_cc2 = [e for e in nx.connected_component_subgraphs(G2) if len(e.nodes()) == max(size2)][0]\n",
    "\n",
    "NB_ITERATIONS = 1000\n",
    "NB_HOPS = 6\n",
    "\n",
    "sum_nodes = 0\n",
    "sum_path_length = 0\n",
    "\n",
    "for i in range(NB_ITERATIONS):\n",
    "    random_node1 = choice(list(giant_cc2.nodes))\n",
    "    random_node2 = choice(list(giant_cc2.nodes))\n",
    "    sum_path_length += nx.shortest_path_length(giant_cc2, source= random_node1, target=random_node2)\n",
    "    sum_nodes += len(numberOfNodesHops(random_node1, NB_HOPS, giant_cc2))\n",
    "  \n",
    "print(\"Average over \" + str(NB_ITERATIONS) + \" nodes\")\n",
    "print(\"Average of nodes reachable in \" + str(NB_HOPS) + \" hops : \" + str(sum_nodes / NB_ITERATIONS))\n",
    "print(\"Average of path length : \" + str(sum_path_length / NB_ITERATIONS))"
   ]
  },
  {
   "cell_type": "markdown",
   "metadata": {},
   "source": [
    "To analyse the network to determine if it is a small world, we look at an average of shortest path between random nodes, as well as the number of nodes reachable in a given amount of hops.\n",
    "\n",
    "Ran over 1000 iterations we found the following :\n",
    "* Reachable in 6 hops : 63.997 nodes\n",
    "* Average of shortest path : 96.01\n",
    "\n",
    "In 6 hops, we can on average reach 64 different nodes, which represents 0.24% of the giant component.\n",
    "We can therefore conclude that this network is not a small-world"
   ]
  },
  {
   "cell_type": "markdown",
   "metadata": {},
   "source": [
    "##### Network comparison\n",
    "This network is way less connected than the first one.\n",
    "The maximum degree for a node doesn't excede 10, and with a given number of hops, we can reach only a small portion of the graph"
   ]
  },
  {
   "cell_type": "markdown",
   "metadata": {},
   "source": [
    "#### Exercise 2.6: Network identification"
   ]
  },
  {
   "cell_type": "markdown",
   "metadata": {},
   "source": [
    "Looking at the results above, we can make the guess that network1 is a subgraph of routeurs comprising the Internet and that network2 is the network of roads of New York for the following reason : \n",
    "* Network1 has degrees that are irrealist for roads intersection\n",
    "* Network1 has a small world structure which is more suitable to the internet\n",
    "* Network2 has less connected components, which suits the idea of a road network\n",
    "* Network2 has a max degree of 8, which is compatible with a road network"
   ]
  },
  {
   "cell_type": "code",
   "execution_count": null,
   "metadata": {},
   "outputs": [],
   "source": []
  }
 ],
 "metadata": {
  "kernelspec": {
   "display_name": "Python 3",
   "language": "python",
   "name": "python3"
  },
  "language_info": {
   "codemirror_mode": {
    "name": "ipython",
    "version": 3
   },
   "file_extension": ".py",
   "mimetype": "text/x-python",
   "name": "python",
   "nbconvert_exporter": "python",
   "pygments_lexer": "ipython3",
   "version": "3.7.1"
  }
 },
 "nbformat": 4,
 "nbformat_minor": 2
}
